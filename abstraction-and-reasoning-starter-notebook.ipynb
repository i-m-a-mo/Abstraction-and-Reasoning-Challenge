{
 "cells": [
  {
   "cell_type": "markdown",
   "metadata": {},
   "source": [
    "# Abstraction and Reasoning Starter Notebook\n",
    "\n",
    "This notebook will get you started on on the basics of this competition"
   ]
  },
  {
   "cell_type": "code",
   "execution_count": 1,
   "metadata": {
    "_cell_guid": "b1076dfc-b9ad-4769-8c92-a6c4dae69d19",
    "_uuid": "8f2839f25d086af736a60e9eeb907d3b93b6e0e5"
   },
   "outputs": [],
   "source": [
    "import numpy as np\n",
    "import pandas as pd\n",
    "\n",
    "import os\n",
    "import json\n",
    "from pathlib import Path\n",
    "\n",
    "import matplotlib.pyplot as plt\n",
    "from matplotlib import colors"
   ]
  },
  {
   "cell_type": "code",
   "execution_count": 3,
   "metadata": {
    "collapsed": true
   },
   "outputs": [
    {
     "name": "stdout",
     "output_type": "stream",
     "text": [
      "./kaggle_input\n",
      "./kaggle_input/test\n",
      "./kaggle_input/training\n",
      "./kaggle_input/evaluation\n"
     ]
    }
   ],
   "source": [
    "for dirname, _, filenames in os.walk('./kaggle_input'):\n",
    "    print(dirname)"
   ]
  },
  {
   "cell_type": "markdown",
   "metadata": {},
   "source": [
    "Use the `Path` class for paths."
   ]
  },
  {
   "cell_type": "code",
   "execution_count": 7,
   "metadata": {
    "_cell_guid": "79c7e3d0-c299-4dcb-8224-4455121ee9b0",
    "_uuid": "d629ff2d2480ee46fbb7e2d37f6b5fab8052498a"
   },
   "outputs": [],
   "source": [
    "data_path = Path('./kaggle_input/')\n",
    "training_path = data_path / 'training'\n",
    "evaluation_path = data_path / 'evaluation'\n",
    "test_path = data_path / 'test'"
   ]
  },
  {
   "cell_type": "markdown",
   "metadata": {},
   "source": [
    "The `training` folder has 400 JSON tasks. The names of the first three are shown below."
   ]
  },
  {
   "cell_type": "code",
   "execution_count": 9,
   "metadata": {},
   "outputs": [
    {
     "name": "stdout",
     "output_type": "stream",
     "text": [
      "['007bbfb7.json', '00d62c1b.json', '017c7c7b.json']\n"
     ]
    }
   ],
   "source": [
    "training_tasks = sorted(os.listdir(training_path))\n",
    "print(training_tasks[1:4])"
   ]
  },
  {
   "cell_type": "markdown",
   "metadata": {},
   "source": [
    "In each task, there are two dictionary keys, `train` and `test`. You learn the pattern from the train input-output pairs, and then apply the pattern to the `test` input, to predict an output."
   ]
  },
  {
   "cell_type": "code",
   "execution_count": 19,
   "metadata": {},
   "outputs": [
    {
     "name": "stdout",
     "output_type": "stream",
     "text": [
      "dict_keys(['train', 'test'])\n"
     ]
    }
   ],
   "source": [
    "task_file = str(training_path / '017c7c7b.json')\n",
    "\n",
    "with open(task_file, 'r') as f:\n",
    "    task = json.load(f)\n",
    "\n",
    "print(task.keys())"
   ]
  },
  {
   "cell_type": "markdown",
   "metadata": {},
   "source": [
    "Tasks have multiple `train` input-output pairs. Most tasks have a single `test` input-output pair, although some have more than one."
   ]
  },
  {
   "cell_type": "code",
   "execution_count": 20,
   "metadata": {},
   "outputs": [
    {
     "name": "stdout",
     "output_type": "stream",
     "text": [
      "task contains 3 training pairs\n",
      "task contains 1 test pairs\n"
     ]
    }
   ],
   "source": [
    "n_train_pairs = len(task['train'])\n",
    "n_test_pairs = len(task['test'])\n",
    "\n",
    "print(f'task contains {n_train_pairs} training pairs')\n",
    "print(f'task contains {n_test_pairs} test pairs')"
   ]
  },
  {
   "cell_type": "markdown",
   "metadata": {},
   "source": [
    "Drilling into the first `train` input-output pair, we can see the grids are expressed as 2d lists with integers 0-9."
   ]
  },
  {
   "cell_type": "code",
   "execution_count": 21,
   "metadata": {},
   "outputs": [
    {
     "data": {
      "text/plain": [
       "[[0, 1, 0], [1, 1, 0], [0, 1, 0], [0, 1, 1], [0, 1, 0], [1, 1, 0]]"
      ]
     },
     "metadata": {},
     "output_type": "display_data"
    },
    {
     "data": {
      "text/plain": [
       "[[0, 2, 0],\n",
       " [2, 2, 0],\n",
       " [0, 2, 0],\n",
       " [0, 2, 2],\n",
       " [0, 2, 0],\n",
       " [2, 2, 0],\n",
       " [0, 2, 0],\n",
       " [0, 2, 2],\n",
       " [0, 2, 0]]"
      ]
     },
     "metadata": {},
     "output_type": "display_data"
    }
   ],
   "source": [
    "display(task['train'][0]['input'])\n",
    "display(task['train'][0]['output'])"
   ]
  },
  {
   "cell_type": "markdown",
   "metadata": {},
   "source": [
    "## Function to plot the first train/test input/output pairs of a task\n",
    "\n",
    "You can use this function to plot the first `train` and `test` grids. The color aligns with what is found on the ARC app. Note though, the ARC app presents the grids to scale, where these display the grids in the same size, regardless of their dimension."
   ]
  },
  {
   "cell_type": "code",
   "execution_count": 22,
   "metadata": {},
   "outputs": [],
   "source": [
    "def plot_task(task):\n",
    "    \"\"\"\n",
    "    Plots the first train and test pairs of a specified task,\n",
    "    using same color scheme as the ARC app\n",
    "    \"\"\"\n",
    "    cmap = colors.ListedColormap(\n",
    "        ['#000000', '#0074D9','#FF4136','#2ECC40','#FFDC00',\n",
    "         '#AAAAAA', '#F012BE', '#FF851B', '#7FDBFF', '#870C25'])\n",
    "    norm = colors.Normalize(vmin=0, vmax=9)\n",
    "    fig, axs = plt.subplots(1, 4, figsize=(15,15))\n",
    "    axs[0].imshow(task['train'][0]['input'], cmap=cmap, norm=norm)\n",
    "    axs[0].axis('off')\n",
    "    axs[0].set_title('Train Input')\n",
    "    axs[1].imshow(task['train'][0]['output'], cmap=cmap, norm=norm)\n",
    "    axs[1].axis('off')\n",
    "    axs[1].set_title('Train Output')\n",
    "    axs[2].imshow(task['test'][0]['input'], cmap=cmap, norm=norm)\n",
    "    axs[2].axis('off')\n",
    "    axs[2].set_title('Test Input')\n",
    "    axs[3].imshow(task['test'][0]['output'], cmap=cmap, norm=norm)\n",
    "    axs[3].axis('off')\n",
    "    axs[3].set_title('Test Output')\n",
    "    plt.tight_layout()\n",
    "    plt.show()"
   ]
  },
  {
   "cell_type": "code",
   "execution_count": 23,
   "metadata": {},
   "outputs": [
    {
     "data": {
      "image/png": "[encoded data removed]",
      "text/plain": [
       "<Figure size 1080x1080 with 4 Axes>"
      ]
     },
     "metadata": {
      "needs_background": "light"
     },
     "output_type": "display_data"
    }
   ],
   "source": [
    "plot_task(task)"
   ]
  },
  {
   "cell_type": "markdown",
   "metadata": {},
   "source": [
    "# Using the correct prediction format"
   ]
  },
  {
   "cell_type": "code",
   "execution_count": 15,
   "metadata": {},
   "outputs": [
    {
     "data": {
      "text/html": [
       "<div>\n",
       "<style scoped>\n",
       "    .dataframe tbody tr th:only-of-type {\n",
       "        vertical-align: middle;\n",
       "    }\n",
       "\n",
       "    .dataframe tbody tr th {\n",
       "        vertical-align: top;\n",
       "    }\n",
       "\n",
       "    .dataframe thead th {\n",
       "        text-align: right;\n",
       "    }\n",
       "</style>\n",
       "<table border=\"1\" class=\"dataframe\">\n",
       "  <thead>\n",
       "    <tr style=\"text-align: right;\">\n",
       "      <th></th>\n",
       "      <th>output</th>\n",
       "    </tr>\n",
       "    <tr>\n",
       "      <th>output_id</th>\n",
       "      <th></th>\n",
       "    </tr>\n",
       "  </thead>\n",
       "  <tbody>\n",
       "    <tr>\n",
       "      <th>00576224_0</th>\n",
       "      <td>|32|78| |32|78| |00|00|</td>\n",
       "    </tr>\n",
       "    <tr>\n",
       "      <th>009d5c81_0</th>\n",
       "      <td>|00000000000000|00000888888888|00000800080808|...</td>\n",
       "    </tr>\n",
       "    <tr>\n",
       "      <th>00dbd492_0</th>\n",
       "      <td>|00000000000222220000|02222222220200020000|020...</td>\n",
       "    </tr>\n",
       "    <tr>\n",
       "      <th>03560426_0</th>\n",
       "      <td>|0000000000|0000000000|0000000000|0000000000|0...</td>\n",
       "    </tr>\n",
       "    <tr>\n",
       "      <th>05a7bcf2_0</th>\n",
       "      <td>|000000000020000000080000000000|00000000002220...</td>\n",
       "    </tr>\n",
       "  </tbody>\n",
       "</table>\n",
       "</div>"
      ],
      "text/plain": [
       "                                                       output\n",
       "output_id                                                    \n",
       "00576224_0                           |32|78| |32|78| |00|00| \n",
       "009d5c81_0  |00000000000000|00000888888888|00000800080808|...\n",
       "00dbd492_0  |00000000000222220000|02222222220200020000|020...\n",
       "03560426_0  |0000000000|0000000000|0000000000|0000000000|0...\n",
       "05a7bcf2_0  |000000000020000000080000000000|00000000002220..."
      ]
     },
     "metadata": {},
     "output_type": "display_data"
    }
   ],
   "source": [
    "submission = pd.read_csv(data_path / 'sample_submission.csv', index_col='output_id')\n",
    "display(submission.head())"
   ]
  },
  {
   "cell_type": "markdown",
   "metadata": {},
   "source": [
    "The `output_id` is the `id` of the task, followed by the index of the `test` input that you should use to make your prediction. The `output` is the predicted output of the corresponding `test` input, reformatted into a string representation. (You can make three predictions per `output_id`, delineated by a space.) Use the following function to convert from a 2d python list to the string representation."
   ]
  },
  {
   "cell_type": "code",
   "execution_count": 16,
   "metadata": {},
   "outputs": [],
   "source": [
    "def flattener(pred):\n",
    "    str_pred = str([row for row in pred])\n",
    "    str_pred = str_pred.replace(', ', '')\n",
    "    str_pred = str_pred.replace('[[', '|')\n",
    "    str_pred = str_pred.replace('][', '|')\n",
    "    str_pred = str_pred.replace(']]', '|')\n",
    "    return str_pred"
   ]
  },
  {
   "cell_type": "code",
   "execution_count": 17,
   "metadata": {},
   "outputs": [
    {
     "data": {
      "text/plain": [
       "[[1, 2, 3], [4, 5, 6], [7, 8, 9]]"
      ]
     },
     "metadata": {},
     "output_type": "display_data"
    },
    {
     "name": "stdout",
     "output_type": "stream",
     "text": [
      "|123|456|789|\n"
     ]
    }
   ],
   "source": [
    "example_grid = [[1, 2, 3], [4, 5, 6], [7, 8, 9]]\n",
    "display(example_grid)\n",
    "print(flattener(example_grid))"
   ]
  },
  {
   "cell_type": "markdown",
   "metadata": {},
   "source": [
    "# Re-creating the sample submission output\n",
    "\n",
    "This demonstrates how to loop over the sample submission and make predictions."
   ]
  },
  {
   "cell_type": "code",
   "execution_count": 18,
   "metadata": {},
   "outputs": [],
   "source": [
    "for output_id in submission.index:\n",
    "    task_id = output_id.split('_')[0]\n",
    "    pair_id = int(output_id.split('_')[1])\n",
    "    f = str(test_path / str(task_id + '.json'))\n",
    "    with open(f, 'r') as read_file:\n",
    "        task = json.load(read_file)\n",
    "    # skipping over the training examples, since this will be naive predictions\n",
    "    # we will use the test input grid as the base, and make some modifications\n",
    "    data = task['test'][pair_id]['input'] # test pair input\n",
    "    # for the first guess, predict that output is unchanged\n",
    "    pred_1 = flattener(data)\n",
    "    # for the second guess, change all 0s to 5s\n",
    "    data = [[5 if i==0 else i for i in j] for j in data]\n",
    "    pred_2 = flattener(data)\n",
    "    # for the last gues, change everything to 0\n",
    "    data = [[0 for i in j] for j in data]\n",
    "    pred_3 = flattener(data)\n",
    "    # concatenate and add to the submission output\n",
    "    pred = pred_1 + ' ' + pred_2 + ' ' + pred_3 + ' ' \n",
    "    submission.loc[output_id, 'output'] = pred\n",
    "\n",
    "submission.to_csv('submission.csv')"
   ]
  },
  {
   "cell_type": "code",
   "execution_count": null,
   "metadata": {},
   "outputs": [],
   "source": []
  }
 ],
 "metadata": {
  "kernelspec": {
   "display_name": "Python 3",
   "language": "python",
   "name": "python3"
  },
  "language_info": {
   "codemirror_mode": {
    "name": "ipython",
    "version": 3
   },
   "file_extension": ".py",
   "mimetype": "text/x-python",
   "name": "python",
   "nbconvert_exporter": "python",
   "pygments_lexer": "ipython3",
   "version": "3.6.13"
  }
 },
 "nbformat": 4,
 "nbformat_minor": 1
}
