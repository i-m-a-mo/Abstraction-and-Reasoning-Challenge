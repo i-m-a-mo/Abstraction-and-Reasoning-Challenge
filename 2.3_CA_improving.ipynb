{
 "cells": [
  {
   "cell_type": "code",
   "execution_count": 1,
   "id": "7e57bb90",
   "metadata": {},
   "outputs": [],
   "source": [
    "import numpy as np\n",
    "import pandas as pd\n",
    "\n",
    "import os\n",
    "import json\n",
    "from pathlib import Path\n",
    "\n",
    "import tensorflow.keras as keras\n",
    "from tensorflow.keras.callbacks import TensorBoard\n",
    "from tensorflow.keras import layers\n",
    "from tensorflow.keras.datasets import mnist\n",
    "from tensorflow.keras import backend as K\n",
    "from tensorflow.keras.utils import to_categorical\n",
    "from tensorflow.keras.models import Model\n",
    "from tensorflow.keras.models import Sequential\n",
    "\n",
    "import matplotlib.pyplot as plt\n",
    "from matplotlib import colors"
   ]
  },
  {
   "cell_type": "code",
   "execution_count": 2,
   "id": "b398b7a0",
   "metadata": {},
   "outputs": [],
   "source": [
    "data_path = Path('./kaggle_input/')\n",
    "training_path = data_path / 'training'      # 400 X-train ('train'), y-train('test') input-output pairs\n",
    "evaluation_path = data_path / 'evaluation'  # 400\n",
    "test_path = data_path / 'test'              # 100 pairs X-train ('train') (input-output),\n",
    "                                            #           y-train (input only) pairs\n",
    "\n",
    "training_tasks_files = sorted(os.listdir(training_path))#[1:]\n",
    "eval_tasks_files = sorted(os.listdir(evaluation_path))\n",
    "test_task_files = sorted(os.listdir(test_path))"
   ]
  },
  {
   "cell_type": "markdown",
   "id": "991208ba",
   "metadata": {},
   "source": [
    " "
   ]
  },
  {
   "cell_type": "code",
   "execution_count": 3,
   "id": "c6f0aa26",
   "metadata": {},
   "outputs": [
    {
     "data": {
      "text/plain": [
       "['007bbfb7.json',\n",
       " '00d62c1b.json',\n",
       " '017c7c7b.json',\n",
       " '025d127b.json',\n",
       " '045e512c.json',\n",
       " '0520fde7.json',\n",
       " '05269061.json',\n",
       " '05f2a901.json',\n",
       " '06df4c85.json',\n",
       " '08ed6ac7.json',\n",
       " '09629e4f.json',\n",
       " '0962bcdd.json',\n",
       " '0a938d79.json',\n",
       " '0b148d64.json',\n",
       " '0ca9ddb6.json',\n",
       " '0d3d703e.json',\n",
       " '0dfd9992.json',\n",
       " '0e206a2e.json',\n",
       " '10fcaaa3.json',\n",
       " '11852cab.json',\n",
       " '1190e5a7.json',\n",
       " '137eaa0f.json',\n",
       " '150deff5.json',\n",
       " '178fcbfb.json',\n",
       " '1a07d186.json',\n",
       " '1b2d62fb.json',\n",
       " '1b60fb0c.json',\n",
       " '1bfc4729.json',\n",
       " '1c786137.json',\n",
       " '1caeab9d.json',\n",
       " '1cf80156.json',\n",
       " '1e0a9b12.json',\n",
       " '1e32b0e9.json',\n",
       " '1f0c79e5.json',\n",
       " '1f642eb9.json',\n",
       " '1f85a75f.json',\n",
       " '1f876c06.json',\n",
       " '1fad071e.json',\n",
       " '2013d3e2.json',\n",
       " '2204b7a8.json',\n",
       " '22168020.json',\n",
       " '22233c11.json',\n",
       " '2281f1f4.json',\n",
       " '228f6490.json',\n",
       " '22eb0ac0.json',\n",
       " '234bbc79.json',\n",
       " '23581191.json',\n",
       " '239be575.json',\n",
       " '23b5c85d.json',\n",
       " '253bf280.json',\n",
       " '25d487eb.json',\n",
       " '25d8a9c8.json',\n",
       " '25ff71a9.json',\n",
       " '264363fd.json',\n",
       " '272f95fa.json',\n",
       " '27a28665.json',\n",
       " '28bf18c6.json',\n",
       " '28e73c20.json',\n",
       " '29623171.json',\n",
       " '29c11459.json',\n",
       " '29ec7d0e.json',\n",
       " '2bcee788.json',\n",
       " '2bee17df.json',\n",
       " '2c608aff.json',\n",
       " '2dc579da.json',\n",
       " '2dd70a9a.json',\n",
       " '2dee498d.json',\n",
       " '31aa019c.json',\n",
       " '321b1fc6.json',\n",
       " '32597951.json',\n",
       " '3345333e.json',\n",
       " '3428a4f5.json',\n",
       " '3618c87e.json',\n",
       " '3631a71a.json',\n",
       " '363442ee.json',\n",
       " '36d67576.json',\n",
       " '36fdfd69.json',\n",
       " '3906de3d.json',\n",
       " '39a8645d.json',\n",
       " '39e1d7f9.json',\n",
       " '3aa6fb7a.json',\n",
       " '3ac3eb23.json',\n",
       " '3af2c5a8.json',\n",
       " '3bd67248.json',\n",
       " '3bdb4ada.json',\n",
       " '3befdf3e.json',\n",
       " '3c9b0459.json',\n",
       " '3de23699.json',\n",
       " '3e980e27.json',\n",
       " '3eda0437.json',\n",
       " '3f7978a0.json',\n",
       " '40853293.json',\n",
       " '4093f84a.json',\n",
       " '41e4d17e.json',\n",
       " '4258a5f9.json',\n",
       " '4290ef0e.json',\n",
       " '42a50994.json',\n",
       " '4347f46a.json',\n",
       " '444801d8.json',\n",
       " '445eab21.json',\n",
       " '447fd412.json',\n",
       " '44d8ac46.json',\n",
       " '44f52bb0.json',\n",
       " '4522001f.json',\n",
       " '4612dd53.json',\n",
       " '46442a0e.json',\n",
       " '469497ad.json',\n",
       " '46f33fce.json',\n",
       " '47c1f68c.json',\n",
       " '484b58aa.json',\n",
       " '48d8fb45.json',\n",
       " '4938f0c2.json',\n",
       " '496994bd.json',\n",
       " '49d1d64f.json',\n",
       " '4be741c5.json',\n",
       " '4c4377d9.json',\n",
       " '4c5c2cf0.json',\n",
       " '50846271.json',\n",
       " '508bd3b6.json',\n",
       " '50cb2852.json',\n",
       " '5117e062.json',\n",
       " '5168d44c.json',\n",
       " '539a4f51.json',\n",
       " '53b68214.json',\n",
       " '543a7ed5.json',\n",
       " '54d82841.json',\n",
       " '54d9e175.json',\n",
       " '5521c0d9.json',\n",
       " '5582e5ca.json',\n",
       " '5614dbcf.json',\n",
       " '56dc2b01.json',\n",
       " '56ff96f3.json',\n",
       " '57aa92db.json',\n",
       " '5ad4f10b.json',\n",
       " '5bd6f4ac.json',\n",
       " '5c0a986e.json',\n",
       " '5c2c9af4.json',\n",
       " '5daaa586.json',\n",
       " '60b61512.json',\n",
       " '6150a2bd.json',\n",
       " '623ea044.json',\n",
       " '62c24649.json',\n",
       " '63613498.json',\n",
       " '6430c8c4.json',\n",
       " '6455b5f5.json',\n",
       " '662c240a.json',\n",
       " '67385a82.json',\n",
       " '673ef223.json',\n",
       " '6773b310.json',\n",
       " '67a3c6ac.json',\n",
       " '67a423a3.json',\n",
       " '67e8384a.json',\n",
       " '681b3aeb.json',\n",
       " '6855a6e4.json',\n",
       " '68b16354.json',\n",
       " '694f12f3.json',\n",
       " '6a1e5592.json',\n",
       " '6aa20dc0.json',\n",
       " '6b9890af.json',\n",
       " '6c434453.json',\n",
       " '6cdd2623.json',\n",
       " '6cf79266.json',\n",
       " '6d0160f0.json',\n",
       " '6d0aefbc.json',\n",
       " '6d58a25d.json',\n",
       " '6d75e8bb.json',\n",
       " '6e02f1e3.json',\n",
       " '6e19193c.json',\n",
       " '6e82a1ae.json',\n",
       " '6ecd11f4.json',\n",
       " '6f8cd79b.json',\n",
       " '6fa7a44f.json',\n",
       " '72322fa7.json',\n",
       " '72ca375d.json',\n",
       " '73251a56.json',\n",
       " '7447852a.json',\n",
       " '7468f01a.json',\n",
       " '746b3537.json',\n",
       " '74dd1130.json',\n",
       " '75b8110e.json',\n",
       " '760b3cac.json',\n",
       " '776ffc46.json',\n",
       " '77fdfe62.json',\n",
       " '780d0b14.json',\n",
       " '7837ac64.json',\n",
       " '794b24be.json',\n",
       " '7b6016b9.json',\n",
       " '7b7f7511.json',\n",
       " '7c008303.json',\n",
       " '7ddcd7ec.json',\n",
       " '7df24a62.json',\n",
       " '7e0986d6.json',\n",
       " '7f4411dc.json',\n",
       " '7fe24cdd.json',\n",
       " '80af3007.json',\n",
       " '810b9b61.json',\n",
       " '82819916.json',\n",
       " '83302e8f.json',\n",
       " '834ec97d.json',\n",
       " '8403a5d5.json',\n",
       " '846bdb03.json',\n",
       " '855e0971.json',\n",
       " '85c4e7cd.json',\n",
       " '868de0fa.json',\n",
       " '8731374e.json',\n",
       " '88a10436.json',\n",
       " '88a62173.json',\n",
       " '890034e9.json',\n",
       " '8a004b2b.json',\n",
       " '8be77c9e.json',\n",
       " '8d5021e8.json',\n",
       " '8d510a79.json',\n",
       " '8e1813be.json',\n",
       " '8e5a5113.json',\n",
       " '8eb1be9a.json',\n",
       " '8efcae92.json',\n",
       " '8f2ea7aa.json',\n",
       " '90c28cc7.json',\n",
       " '90f3ed37.json',\n",
       " '913fb3ed.json',\n",
       " '91413438.json',\n",
       " '91714a58.json',\n",
       " '9172f3a0.json',\n",
       " '928ad970.json',\n",
       " '93b581b8.json',\n",
       " '941d9a10.json',\n",
       " '94f9d214.json',\n",
       " '952a094c.json',\n",
       " '9565186b.json',\n",
       " '95990924.json',\n",
       " '963e52fc.json',\n",
       " '97999447.json',\n",
       " '97a05b5b.json',\n",
       " '98cf29f8.json',\n",
       " '995c5fa3.json',\n",
       " '99b1bc43.json',\n",
       " '99fa7670.json',\n",
       " '9aec4887.json',\n",
       " '9af7a82c.json',\n",
       " '9d9215db.json',\n",
       " '9dfd6313.json',\n",
       " '9ecd008a.json',\n",
       " '9edfc990.json',\n",
       " '9f236235.json',\n",
       " 'a1570a43.json',\n",
       " 'a2fd1cf0.json',\n",
       " 'a3325580.json',\n",
       " 'a3df8b1e.json',\n",
       " 'a416b8f3.json',\n",
       " 'a48eeaf7.json',\n",
       " 'a5313dff.json',\n",
       " 'a5f85a15.json',\n",
       " 'a61ba2ce.json',\n",
       " 'a61f2674.json',\n",
       " 'a64e4611.json',\n",
       " 'a65b410d.json',\n",
       " 'a68b268e.json',\n",
       " 'a699fb00.json',\n",
       " 'a740d043.json',\n",
       " 'a78176bb.json',\n",
       " 'a79310a0.json',\n",
       " 'a85d4709.json',\n",
       " 'a87f7484.json',\n",
       " 'a8c38be5.json',\n",
       " 'a8d7556c.json',\n",
       " 'a9f96cdd.json',\n",
       " 'aabf363d.json',\n",
       " 'aba27056.json',\n",
       " 'ac0a08a4.json',\n",
       " 'ae3edfdc.json',\n",
       " 'ae4f1146.json',\n",
       " 'aedd82e4.json',\n",
       " 'af902bf9.json',\n",
       " 'b0c4d837.json',\n",
       " 'b190f7f5.json',\n",
       " 'b1948b0a.json',\n",
       " 'b230c067.json',\n",
       " 'b27ca6d3.json',\n",
       " 'b2862040.json',\n",
       " 'b527c5c6.json',\n",
       " 'b548a754.json',\n",
       " 'b60334d2.json',\n",
       " 'b6afb2da.json',\n",
       " 'b7249182.json',\n",
       " 'b775ac94.json',\n",
       " 'b782dc8a.json',\n",
       " 'b8825c91.json',\n",
       " 'b8cdaf2b.json',\n",
       " 'b91ae062.json',\n",
       " 'b94a9452.json',\n",
       " 'b9b7f026.json',\n",
       " 'ba26e723.json',\n",
       " 'ba97ae07.json',\n",
       " 'bb43febb.json',\n",
       " 'bbc9ae5d.json',\n",
       " 'bc1d5164.json',\n",
       " 'bd4472b8.json',\n",
       " 'bda2d7a6.json',\n",
       " 'bdad9b1f.json',\n",
       " 'be94b721.json',\n",
       " 'beb8660c.json',\n",
       " 'c0f76784.json',\n",
       " 'c1d99e64.json',\n",
       " 'c3e719e8.json',\n",
       " 'c3f564a4.json',\n",
       " 'c444b776.json',\n",
       " 'c59eb873.json',\n",
       " 'c8cbb738.json',\n",
       " 'c8f0f002.json',\n",
       " 'c909285e.json',\n",
       " 'c9e6f938.json',\n",
       " 'c9f8e694.json',\n",
       " 'caa06a1f.json',\n",
       " 'cbded52d.json',\n",
       " 'cce03e0d.json',\n",
       " 'cdecee7f.json',\n",
       " 'ce22a75a.json',\n",
       " 'ce4f8723.json',\n",
       " 'ce602527.json',\n",
       " 'ce9e57f2.json',\n",
       " 'cf98881b.json',\n",
       " 'd037b0a7.json',\n",
       " 'd06dbe63.json',\n",
       " 'd07ae81c.json',\n",
       " 'd0f5fe59.json',\n",
       " 'd10ecb37.json',\n",
       " 'd13f3404.json',\n",
       " 'd22278a0.json',\n",
       " 'd23f8c26.json',\n",
       " 'd2abd087.json',\n",
       " 'd364b489.json',\n",
       " 'd406998b.json',\n",
       " 'd43fd935.json',\n",
       " 'd4469b4b.json',\n",
       " 'd4a91cb9.json',\n",
       " 'd4f3cd78.json',\n",
       " 'd511f180.json',\n",
       " 'd5d6de2d.json',\n",
       " 'd631b094.json',\n",
       " 'd687bc17.json',\n",
       " 'd6ad076f.json',\n",
       " 'd89b689b.json',\n",
       " 'd8c310e9.json',\n",
       " 'd90796e8.json',\n",
       " 'd9f24cd1.json',\n",
       " 'd9fac9be.json',\n",
       " 'dae9d2b5.json',\n",
       " 'db3e9e38.json',\n",
       " 'db93a21d.json',\n",
       " 'dbc1a6ce.json',\n",
       " 'dc0a314f.json',\n",
       " 'dc1df850.json',\n",
       " 'dc433765.json',\n",
       " 'ddf7fa4f.json',\n",
       " 'de1cd16c.json',\n",
       " 'ded97339.json',\n",
       " 'e179c5f4.json',\n",
       " 'e21d9049.json',\n",
       " 'e26a3af2.json',\n",
       " 'e3497940.json',\n",
       " 'e40b9e2f.json',\n",
       " 'e48d4e1a.json',\n",
       " 'e5062a87.json',\n",
       " 'e509e548.json',\n",
       " 'e50d258f.json',\n",
       " 'e6721834.json',\n",
       " 'e73095fd.json',\n",
       " 'e76a88a6.json',\n",
       " 'e8593010.json',\n",
       " 'e8dc4411.json',\n",
       " 'e9614598.json',\n",
       " 'e98196ab.json',\n",
       " 'e9afcf9a.json',\n",
       " 'ea32f347.json',\n",
       " 'ea786f4a.json',\n",
       " 'eb281b96.json',\n",
       " 'eb5a1d5d.json',\n",
       " 'ec883f72.json',\n",
       " 'ecdecbb3.json',\n",
       " 'ed36ccf7.json',\n",
       " 'ef135b50.json',\n",
       " 'f15e1fac.json',\n",
       " 'f1cefba8.json',\n",
       " 'f25fbde4.json',\n",
       " 'f25ffba3.json',\n",
       " 'f2829549.json',\n",
       " 'f35d900a.json',\n",
       " 'f5b8619d.json',\n",
       " 'f76d97a5.json',\n",
       " 'f8a8fe49.json',\n",
       " 'f8b3ba0a.json',\n",
       " 'f8c80d96.json',\n",
       " 'f8ff0b80.json',\n",
       " 'f9012d9b.json',\n",
       " 'fafffa47.json',\n",
       " 'fcb5c309.json',\n",
       " 'fcc82909.json',\n",
       " 'feca6190.json',\n",
       " 'ff28f65a.json',\n",
       " 'ff805c23.json']"
      ]
     },
     "execution_count": 3,
     "metadata": {},
     "output_type": "execute_result"
    }
   ],
   "source": [
    "training_tasks_files"
   ]
  },
  {
   "cell_type": "code",
   "execution_count": 4,
   "id": "3bb2f0a7",
   "metadata": {},
   "outputs": [],
   "source": [
    "def load_files(path):\n",
    "    path_files = sorted(os.listdir(path))\n",
    "    tasks = []\n",
    "    for task_file in path_files:\n",
    "        with open(str(path / task_file), 'r') as f:\n",
    "            task = json.load(f)\n",
    "            tasks.append(task)\n",
    "    return tasks"
   ]
  },
  {
   "cell_type": "code",
   "execution_count": 5,
   "id": "279aeed7",
   "metadata": {},
   "outputs": [],
   "source": [
    "training_tasks = load_files(training_path)\n",
    "test_tasks = load_files(test_path)\n",
    "evaluation_tasks = load_files(evaluation_path)"
   ]
  },
  {
   "cell_type": "code",
   "execution_count": 6,
   "id": "ca0a3f69",
   "metadata": {},
   "outputs": [
    {
     "data": {
      "text/plain": [
       "{'test': [{'input': [[7, 0, 7], [7, 0, 7], [7, 7, 0]],\n",
       "   'output': [[7, 0, 7, 0, 0, 0, 7, 0, 7],\n",
       "    [7, 0, 7, 0, 0, 0, 7, 0, 7],\n",
       "    [7, 7, 0, 0, 0, 0, 7, 7, 0],\n",
       "    [7, 0, 7, 0, 0, 0, 7, 0, 7],\n",
       "    [7, 0, 7, 0, 0, 0, 7, 0, 7],\n",
       "    [7, 7, 0, 0, 0, 0, 7, 7, 0],\n",
       "    [7, 0, 7, 7, 0, 7, 0, 0, 0],\n",
       "    [7, 0, 7, 7, 0, 7, 0, 0, 0],\n",
       "    [7, 7, 0, 7, 7, 0, 0, 0, 0]]}],\n",
       " 'train': [{'input': [[0, 7, 7], [7, 7, 7], [0, 7, 7]],\n",
       "   'output': [[0, 0, 0, 0, 7, 7, 0, 7, 7],\n",
       "    [0, 0, 0, 7, 7, 7, 7, 7, 7],\n",
       "    [0, 0, 0, 0, 7, 7, 0, 7, 7],\n",
       "    [0, 7, 7, 0, 7, 7, 0, 7, 7],\n",
       "    [7, 7, 7, 7, 7, 7, 7, 7, 7],\n",
       "    [0, 7, 7, 0, 7, 7, 0, 7, 7],\n",
       "    [0, 0, 0, 0, 7, 7, 0, 7, 7],\n",
       "    [0, 0, 0, 7, 7, 7, 7, 7, 7],\n",
       "    [0, 0, 0, 0, 7, 7, 0, 7, 7]]},\n",
       "  {'input': [[4, 0, 4], [0, 0, 0], [0, 4, 0]],\n",
       "   'output': [[4, 0, 4, 0, 0, 0, 4, 0, 4],\n",
       "    [0, 0, 0, 0, 0, 0, 0, 0, 0],\n",
       "    [0, 4, 0, 0, 0, 0, 0, 4, 0],\n",
       "    [0, 0, 0, 0, 0, 0, 0, 0, 0],\n",
       "    [0, 0, 0, 0, 0, 0, 0, 0, 0],\n",
       "    [0, 0, 0, 0, 0, 0, 0, 0, 0],\n",
       "    [0, 0, 0, 4, 0, 4, 0, 0, 0],\n",
       "    [0, 0, 0, 0, 0, 0, 0, 0, 0],\n",
       "    [0, 0, 0, 0, 4, 0, 0, 0, 0]]},\n",
       "  {'input': [[0, 0, 0], [0, 0, 2], [2, 0, 2]],\n",
       "   'output': [[0, 0, 0, 0, 0, 0, 0, 0, 0],\n",
       "    [0, 0, 0, 0, 0, 0, 0, 0, 0],\n",
       "    [0, 0, 0, 0, 0, 0, 0, 0, 0],\n",
       "    [0, 0, 0, 0, 0, 0, 0, 0, 0],\n",
       "    [0, 0, 0, 0, 0, 0, 0, 0, 2],\n",
       "    [0, 0, 0, 0, 0, 0, 2, 0, 2],\n",
       "    [0, 0, 0, 0, 0, 0, 0, 0, 0],\n",
       "    [0, 0, 2, 0, 0, 0, 0, 0, 2],\n",
       "    [2, 0, 2, 0, 0, 0, 2, 0, 2]]},\n",
       "  {'input': [[6, 6, 0], [6, 0, 0], [0, 6, 6]],\n",
       "   'output': [[6, 6, 0, 6, 6, 0, 0, 0, 0],\n",
       "    [6, 0, 0, 6, 0, 0, 0, 0, 0],\n",
       "    [0, 6, 6, 0, 6, 6, 0, 0, 0],\n",
       "    [6, 6, 0, 0, 0, 0, 0, 0, 0],\n",
       "    [6, 0, 0, 0, 0, 0, 0, 0, 0],\n",
       "    [0, 6, 6, 0, 0, 0, 0, 0, 0],\n",
       "    [0, 0, 0, 6, 6, 0, 6, 6, 0],\n",
       "    [0, 0, 0, 6, 0, 0, 6, 0, 0],\n",
       "    [0, 0, 0, 0, 6, 6, 0, 6, 6]]},\n",
       "  {'input': [[2, 2, 2], [0, 0, 0], [0, 2, 2]],\n",
       "   'output': [[2, 2, 2, 2, 2, 2, 2, 2, 2],\n",
       "    [0, 0, 0, 0, 0, 0, 0, 0, 0],\n",
       "    [0, 2, 2, 0, 2, 2, 0, 2, 2],\n",
       "    [0, 0, 0, 0, 0, 0, 0, 0, 0],\n",
       "    [0, 0, 0, 0, 0, 0, 0, 0, 0],\n",
       "    [0, 0, 0, 0, 0, 0, 0, 0, 0],\n",
       "    [0, 0, 0, 2, 2, 2, 2, 2, 2],\n",
       "    [0, 0, 0, 0, 0, 0, 0, 0, 0],\n",
       "    [0, 0, 0, 0, 2, 2, 0, 2, 2]]}]}"
      ]
     },
     "execution_count": 6,
     "metadata": {},
     "output_type": "execute_result"
    }
   ],
   "source": [
    "training_tasks[0]#['test'][0]"
   ]
  },
  {
   "cell_type": "markdown",
   "id": "096f1e84",
   "metadata": {},
   "source": [
    " \n",
    " ---\n",
    " ---"
   ]
  },
  {
   "cell_type": "markdown",
   "id": "53d995e2",
   "metadata": {},
   "source": [
    "### 1. Create Train - Test - Split"
   ]
  },
  {
   "cell_type": "code",
   "execution_count": 7,
   "id": "9a4092f8",
   "metadata": {},
   "outputs": [],
   "source": [
    "Xs_test, ys_test, Xs_train, ys_train = [], [], [], []\n",
    "\n",
    "for task in training_tasks:\n",
    "    X_test, y_test, X_train, y_train = [], [], [], []\n",
    "\n",
    "    for pair in task[\"test\"]:\n",
    "        X_test.append(pair[\"input\"])\n",
    "        y_test.append(pair[\"output\"])      ### to be predicted !!!\n",
    "\n",
    "    for pair in task[\"train\"]:\n",
    "        X_train.append(pair[\"input\"])\n",
    "        y_train.append(pair[\"output\"])\n",
    "    \n",
    "    Xs_test.append(X_test)\n",
    "    ys_test.append(y_test)\n",
    "    Xs_train.append(X_train)\n",
    "    ys_train.append(y_train)"
   ]
  },
  {
   "cell_type": "code",
   "execution_count": 8,
   "id": "dbf42d0d",
   "metadata": {},
   "outputs": [
    {
     "data": {
      "text/plain": [
       "(400, 400, 400, 400)"
      ]
     },
     "execution_count": 8,
     "metadata": {},
     "output_type": "execute_result"
    }
   ],
   "source": [
    "len(Xs_train), len(ys_train), len(Xs_test), len(ys_test)"
   ]
  },
  {
   "cell_type": "code",
   "execution_count": 9,
   "id": "50f70bb3",
   "metadata": {},
   "outputs": [],
   "source": [
    "### put this in a fct later\n",
    "# cv2.resize(np.asarray(train_data['input']), dsize=(32, 32), interpolation=cv2.INTER_NEAREST))\n",
    "\n",
    "li=[]\n",
    "for X_train in Xs_train:\n",
    "    for e in X_train:\n",
    "        e = np.array(e)\n",
    "        e = np.pad(e, [(0, 32-e.shape[0]), (0, 32-e.shape[1])], mode='constant')\n",
    "        li.append(e)\n",
    "X_train_big = np.array(li)"
   ]
  },
  {
   "cell_type": "code",
   "execution_count": 10,
   "id": "33e7f53f",
   "metadata": {},
   "outputs": [],
   "source": [
    "X_train_big = X_train_big / 10.\n",
    "X_train_big = X_train_big.reshape(1301,32,32, 1)  #(x_train.shape + (1,) )"
   ]
  },
  {
   "cell_type": "code",
   "execution_count": 11,
   "id": "01a752c8",
   "metadata": {},
   "outputs": [
    {
     "data": {
      "text/plain": [
       "(1301, 32, 32, 1)"
      ]
     },
     "execution_count": 11,
     "metadata": {},
     "output_type": "execute_result"
    }
   ],
   "source": [
    "X_train_big.shape"
   ]
  },
  {
   "cell_type": "code",
   "execution_count": null,
   "id": "94188703",
   "metadata": {},
   "outputs": [],
   "source": []
  },
  {
   "cell_type": "code",
   "execution_count": 12,
   "id": "f3efcb9a",
   "metadata": {},
   "outputs": [],
   "source": [
    "li=[]\n",
    "for X_test in Xs_test:\n",
    "    for e in X_test:\n",
    "        e = np.array(e)\n",
    "        e = np.pad(e, [(0, 32-e.shape[0]), (0, 32-e.shape[1])], mode='constant')\n",
    "        li.append(e)\n",
    "X_test_big = np.array(li)"
   ]
  },
  {
   "cell_type": "code",
   "execution_count": 13,
   "id": "32ade5b3",
   "metadata": {},
   "outputs": [
    {
     "data": {
      "text/plain": [
       "(416, 32, 32)"
      ]
     },
     "execution_count": 13,
     "metadata": {},
     "output_type": "execute_result"
    }
   ],
   "source": [
    "X_test_big.shape"
   ]
  },
  {
   "cell_type": "code",
   "execution_count": 14,
   "id": "e7fb8ba6",
   "metadata": {},
   "outputs": [],
   "source": [
    "X_test_big = X_test_big / 10.\n",
    "X_test_big = X_test_big.reshape(416,32,32, 1)  #(x_train.shape + (1,) )"
   ]
  },
  {
   "cell_type": "code",
   "execution_count": null,
   "id": "7e4a01ec",
   "metadata": {},
   "outputs": [],
   "source": []
  },
  {
   "cell_type": "code",
   "execution_count": 15,
   "id": "13d41436",
   "metadata": {},
   "outputs": [],
   "source": [
    "K.clear_session()\n",
    "\n",
    "latent_dim = 64 \n",
    "\n",
    "class Autoencoder(Model):\n",
    "    def __init__(self, latent_dim):\n",
    "        super(Autoencoder, self).__init__()\n",
    "        self.latent_dim = latent_dim   \n",
    "        self.encoder = Sequential([\n",
    "            layers.Conv2D(16, (3, 3), activation='relu', padding='same', input_shape = (32,32,1)),\n",
    "            layers.MaxPooling2D((2, 2), padding='same'),\n",
    "            layers.Flatten(),\n",
    "            layers.Dense(latent_dim, activation='relu'),\n",
    "        ])\n",
    "        self.decoder = Sequential([\n",
    "            layers.Dense(1024, activation='sigmoid'),\n",
    "            layers.Reshape((32, 32,1))\n",
    "        ])\n",
    "\n",
    "    def call(self, x):\n",
    "        encoded = self.encoder(x)\n",
    "        decoded = self.decoder(encoded)\n",
    "        return decoded\n",
    "\n",
    "autoencoder = Autoencoder(latent_dim)"
   ]
  },
  {
   "cell_type": "code",
   "execution_count": 16,
   "id": "ef8afeed",
   "metadata": {},
   "outputs": [],
   "source": [
    "autoencoder.compile(optimizer='adam', \n",
    "                    loss='mean_squared_error',\n",
    "                    metrics=['accuracy'])"
   ]
  },
  {
   "cell_type": "code",
   "execution_count": 17,
   "id": "300f88cc",
   "metadata": {},
   "outputs": [
    {
     "name": "stdout",
     "output_type": "stream",
     "text": [
      "Epoch 1/100\n",
      "1/1 [==============================] - 2s 2s/step - loss: 0.2410 - accuracy: 0.4861 - val_loss: 0.2382 - val_accuracy: 0.5914\n",
      "Epoch 2/100\n",
      "1/1 [==============================] - 0s 347ms/step - loss: 0.2405 - accuracy: 0.6087 - val_loss: 0.2375 - val_accuracy: 0.6562\n",
      "Epoch 3/100\n",
      "1/1 [==============================] - 0s 373ms/step - loss: 0.2398 - accuracy: 0.6772 - val_loss: 0.2365 - val_accuracy: 0.6963\n",
      "Epoch 4/100\n",
      "1/1 [==============================] - 0s 347ms/step - loss: 0.2390 - accuracy: 0.7174 - val_loss: 0.2352 - val_accuracy: 0.7260\n",
      "Epoch 5/100\n",
      "1/1 [==============================] - 0s 392ms/step - loss: 0.2377 - accuracy: 0.7455 - val_loss: 0.2333 - val_accuracy: 0.7516\n",
      "Epoch 6/100\n",
      "1/1 [==============================] - 0s 359ms/step - loss: 0.2360 - accuracy: 0.7696 - val_loss: 0.2307 - val_accuracy: 0.7765\n",
      "Epoch 7/100\n",
      "1/1 [==============================] - 0s 490ms/step - loss: 0.2337 - accuracy: 0.7928 - val_loss: 0.2272 - val_accuracy: 0.8000\n",
      "Epoch 8/100\n",
      "1/1 [==============================] - 1s 535ms/step - loss: 0.2306 - accuracy: 0.8151 - val_loss: 0.2227 - val_accuracy: 0.8226\n",
      "Epoch 9/100\n",
      "1/1 [==============================] - 0s 333ms/step - loss: 0.2265 - accuracy: 0.8360 - val_loss: 0.2170 - val_accuracy: 0.8429\n",
      "Epoch 10/100\n",
      "1/1 [==============================] - 1s 549ms/step - loss: 0.2213 - accuracy: 0.8559 - val_loss: 0.2099 - val_accuracy: 0.8605\n",
      "Epoch 11/100\n",
      "1/1 [==============================] - 0s 271ms/step - loss: 0.2147 - accuracy: 0.8733 - val_loss: 0.2014 - val_accuracy: 0.8756\n",
      "Epoch 12/100\n",
      "1/1 [==============================] - 0s 425ms/step - loss: 0.2068 - accuracy: 0.8875 - val_loss: 0.1914 - val_accuracy: 0.8879\n",
      "Epoch 13/100\n",
      "1/1 [==============================] - 0s 324ms/step - loss: 0.1973 - accuracy: 0.8998 - val_loss: 0.1798 - val_accuracy: 0.9002\n",
      "Epoch 14/100\n",
      "1/1 [==============================] - 0s 338ms/step - loss: 0.1862 - accuracy: 0.9119 - val_loss: 0.1667 - val_accuracy: 0.9096\n",
      "Epoch 15/100\n",
      "1/1 [==============================] - 0s 396ms/step - loss: 0.1735 - accuracy: 0.9212 - val_loss: 0.1522 - val_accuracy: 0.9125\n",
      "Epoch 16/100\n",
      "1/1 [==============================] - 0s 339ms/step - loss: 0.1592 - accuracy: 0.9238 - val_loss: 0.1365 - val_accuracy: 0.9176\n",
      "Epoch 17/100\n",
      "1/1 [==============================] - 0s 358ms/step - loss: 0.1436 - accuracy: 0.9290 - val_loss: 0.1202 - val_accuracy: 0.9266\n",
      "Epoch 18/100\n",
      "1/1 [==============================] - 0s 316ms/step - loss: 0.1269 - accuracy: 0.9383 - val_loss: 0.1035 - val_accuracy: 0.9333\n",
      "Epoch 19/100\n",
      "1/1 [==============================] - 0s 300ms/step - loss: 0.1097 - accuracy: 0.9450 - val_loss: 0.0872 - val_accuracy: 0.9355\n",
      "Epoch 20/100\n",
      "1/1 [==============================] - 0s 348ms/step - loss: 0.0926 - accuracy: 0.9471 - val_loss: 0.0718 - val_accuracy: 0.9373\n",
      "Epoch 21/100\n",
      "1/1 [==============================] - 0s 307ms/step - loss: 0.0762 - accuracy: 0.9489 - val_loss: 0.0579 - val_accuracy: 0.9373\n",
      "Epoch 22/100\n",
      "1/1 [==============================] - 0s 310ms/step - loss: 0.0613 - accuracy: 0.9490 - val_loss: 0.0461 - val_accuracy: 0.9373\n",
      "Epoch 23/100\n",
      "1/1 [==============================] - 0s 368ms/step - loss: 0.0484 - accuracy: 0.9490 - val_loss: 0.0365 - val_accuracy: 0.9373\n",
      "Epoch 24/100\n",
      "1/1 [==============================] - 0s 303ms/step - loss: 0.0379 - accuracy: 0.9490 - val_loss: 0.0292 - val_accuracy: 0.9373\n",
      "Epoch 25/100\n",
      "1/1 [==============================] - 0s 313ms/step - loss: 0.0297 - accuracy: 0.9490 - val_loss: 0.0239 - val_accuracy: 0.9373\n",
      "Epoch 26/100\n",
      "1/1 [==============================] - 0s 316ms/step - loss: 0.0237 - accuracy: 0.9490 - val_loss: 0.0203 - val_accuracy: 0.9373\n",
      "Epoch 27/100\n",
      "1/1 [==============================] - 0s 360ms/step - loss: 0.0196 - accuracy: 0.9490 - val_loss: 0.0179 - val_accuracy: 0.9373\n",
      "Epoch 28/100\n",
      "1/1 [==============================] - 0s 326ms/step - loss: 0.0168 - accuracy: 0.9490 - val_loss: 0.0164 - val_accuracy: 0.9373\n",
      "Epoch 29/100\n",
      "1/1 [==============================] - 0s 335ms/step - loss: 0.0151 - accuracy: 0.9490 - val_loss: 0.0154 - val_accuracy: 0.9373\n",
      "Epoch 30/100\n",
      "1/1 [==============================] - 0s 326ms/step - loss: 0.0140 - accuracy: 0.9490 - val_loss: 0.0149 - val_accuracy: 0.9373\n",
      "Epoch 31/100\n",
      "1/1 [==============================] - 0s 320ms/step - loss: 0.0133 - accuracy: 0.9490 - val_loss: 0.0146 - val_accuracy: 0.9373\n",
      "Epoch 32/100\n",
      "1/1 [==============================] - 0s 338ms/step - loss: 0.0129 - accuracy: 0.9490 - val_loss: 0.0144 - val_accuracy: 0.9373\n",
      "Epoch 33/100\n",
      "1/1 [==============================] - 0s 336ms/step - loss: 0.0127 - accuracy: 0.9490 - val_loss: 0.0143 - val_accuracy: 0.9373\n",
      "Epoch 34/100\n",
      "1/1 [==============================] - 0s 328ms/step - loss: 0.0126 - accuracy: 0.9490 - val_loss: 0.0142 - val_accuracy: 0.9373\n",
      "Epoch 35/100\n",
      "1/1 [==============================] - 0s 336ms/step - loss: 0.0125 - accuracy: 0.9490 - val_loss: 0.0142 - val_accuracy: 0.9373\n",
      "Epoch 36/100\n",
      "1/1 [==============================] - 0s 343ms/step - loss: 0.0125 - accuracy: 0.9490 - val_loss: 0.0142 - val_accuracy: 0.9373\n",
      "Epoch 37/100\n",
      "1/1 [==============================] - 0s 335ms/step - loss: 0.0124 - accuracy: 0.9490 - val_loss: 0.0141 - val_accuracy: 0.9373\n",
      "Epoch 38/100\n",
      "1/1 [==============================] - 0s 329ms/step - loss: 0.0124 - accuracy: 0.9490 - val_loss: 0.0141 - val_accuracy: 0.9373\n",
      "Epoch 39/100\n",
      "1/1 [==============================] - 0s 352ms/step - loss: 0.0124 - accuracy: 0.9490 - val_loss: 0.0141 - val_accuracy: 0.9373\n",
      "Epoch 40/100\n",
      "1/1 [==============================] - 0s 346ms/step - loss: 0.0124 - accuracy: 0.9490 - val_loss: 0.0141 - val_accuracy: 0.9373\n",
      "Epoch 41/100\n",
      "1/1 [==============================] - 0s 347ms/step - loss: 0.0124 - accuracy: 0.9490 - val_loss: 0.0141 - val_accuracy: 0.9373\n",
      "Epoch 42/100\n",
      "1/1 [==============================] - 0s 356ms/step - loss: 0.0124 - accuracy: 0.9490 - val_loss: 0.0141 - val_accuracy: 0.9373\n",
      "Epoch 43/100\n",
      "1/1 [==============================] - 0s 368ms/step - loss: 0.0124 - accuracy: 0.9490 - val_loss: 0.0141 - val_accuracy: 0.9373\n",
      "Epoch 44/100\n",
      "1/1 [==============================] - 0s 390ms/step - loss: 0.0124 - accuracy: 0.9490 - val_loss: 0.0141 - val_accuracy: 0.9373\n",
      "Epoch 45/100\n",
      "1/1 [==============================] - 0s 376ms/step - loss: 0.0124 - accuracy: 0.9490 - val_loss: 0.0141 - val_accuracy: 0.9373\n",
      "Epoch 46/100\n",
      "1/1 [==============================] - 0s 368ms/step - loss: 0.0124 - accuracy: 0.9490 - val_loss: 0.0141 - val_accuracy: 0.9373\n",
      "Epoch 47/100\n",
      "1/1 [==============================] - 0s 346ms/step - loss: 0.0124 - accuracy: 0.9490 - val_loss: 0.0141 - val_accuracy: 0.9373\n",
      "Epoch 48/100\n",
      "1/1 [==============================] - 0s 371ms/step - loss: 0.0124 - accuracy: 0.9490 - val_loss: 0.0141 - val_accuracy: 0.9373\n",
      "Epoch 49/100\n",
      "1/1 [==============================] - 0s 489ms/step - loss: 0.0124 - accuracy: 0.9490 - val_loss: 0.0141 - val_accuracy: 0.9373\n",
      "Epoch 50/100\n",
      "1/1 [==============================] - 0s 435ms/step - loss: 0.0124 - accuracy: 0.9490 - val_loss: 0.0141 - val_accuracy: 0.9373\n",
      "Epoch 51/100\n",
      "1/1 [==============================] - 0s 358ms/step - loss: 0.0124 - accuracy: 0.9490 - val_loss: 0.0141 - val_accuracy: 0.9373\n",
      "Epoch 52/100\n",
      "1/1 [==============================] - 0s 354ms/step - loss: 0.0124 - accuracy: 0.9490 - val_loss: 0.0141 - val_accuracy: 0.9373\n",
      "Epoch 53/100\n",
      "1/1 [==============================] - 0s 375ms/step - loss: 0.0124 - accuracy: 0.9490 - val_loss: 0.0141 - val_accuracy: 0.9373\n",
      "Epoch 54/100\n",
      "1/1 [==============================] - 0s 392ms/step - loss: 0.0124 - accuracy: 0.9490 - val_loss: 0.0141 - val_accuracy: 0.9373\n",
      "Epoch 55/100\n",
      "1/1 [==============================] - 0s 372ms/step - loss: 0.0124 - accuracy: 0.9490 - val_loss: 0.0141 - val_accuracy: 0.9373\n",
      "Epoch 56/100\n",
      "1/1 [==============================] - 0s 349ms/step - loss: 0.0124 - accuracy: 0.9490 - val_loss: 0.0141 - val_accuracy: 0.9373\n",
      "Epoch 57/100\n",
      "1/1 [==============================] - 0s 371ms/step - loss: 0.0124 - accuracy: 0.9490 - val_loss: 0.0141 - val_accuracy: 0.9373\n",
      "Epoch 58/100\n",
      "1/1 [==============================] - 0s 373ms/step - loss: 0.0124 - accuracy: 0.9490 - val_loss: 0.0141 - val_accuracy: 0.9373\n"
     ]
    },
    {
     "name": "stdout",
     "output_type": "stream",
     "text": [
      "Epoch 59/100\n",
      "1/1 [==============================] - 0s 376ms/step - loss: 0.0124 - accuracy: 0.9490 - val_loss: 0.0141 - val_accuracy: 0.9373\n",
      "Epoch 60/100\n",
      "1/1 [==============================] - 0s 355ms/step - loss: 0.0124 - accuracy: 0.9490 - val_loss: 0.0141 - val_accuracy: 0.9373\n",
      "Epoch 61/100\n",
      "1/1 [==============================] - 0s 375ms/step - loss: 0.0124 - accuracy: 0.9490 - val_loss: 0.0141 - val_accuracy: 0.9373\n",
      "Epoch 62/100\n",
      "1/1 [==============================] - 0s 375ms/step - loss: 0.0124 - accuracy: 0.9490 - val_loss: 0.0141 - val_accuracy: 0.9373\n",
      "Epoch 63/100\n",
      "1/1 [==============================] - 0s 325ms/step - loss: 0.0124 - accuracy: 0.9490 - val_loss: 0.0141 - val_accuracy: 0.9373\n",
      "Epoch 64/100\n",
      "1/1 [==============================] - 0s 357ms/step - loss: 0.0124 - accuracy: 0.9490 - val_loss: 0.0141 - val_accuracy: 0.9373\n",
      "Epoch 65/100\n",
      "1/1 [==============================] - 0s 350ms/step - loss: 0.0124 - accuracy: 0.9490 - val_loss: 0.0141 - val_accuracy: 0.9373\n",
      "Epoch 66/100\n",
      "1/1 [==============================] - 0s 357ms/step - loss: 0.0124 - accuracy: 0.9490 - val_loss: 0.0141 - val_accuracy: 0.9373\n",
      "Epoch 67/100\n",
      "1/1 [==============================] - 0s 372ms/step - loss: 0.0124 - accuracy: 0.9490 - val_loss: 0.0141 - val_accuracy: 0.9373\n",
      "Epoch 68/100\n",
      "1/1 [==============================] - 0s 352ms/step - loss: 0.0123 - accuracy: 0.9490 - val_loss: 0.0141 - val_accuracy: 0.9373\n",
      "Epoch 69/100\n",
      "1/1 [==============================] - 0s 411ms/step - loss: 0.0123 - accuracy: 0.9490 - val_loss: 0.0141 - val_accuracy: 0.9373\n",
      "Epoch 70/100\n",
      "1/1 [==============================] - 0s 421ms/step - loss: 0.0123 - accuracy: 0.9490 - val_loss: 0.0141 - val_accuracy: 0.9373\n",
      "Epoch 71/100\n",
      "1/1 [==============================] - 0s 441ms/step - loss: 0.0123 - accuracy: 0.9490 - val_loss: 0.0141 - val_accuracy: 0.9373\n",
      "Epoch 72/100\n",
      "1/1 [==============================] - 0s 385ms/step - loss: 0.0123 - accuracy: 0.9490 - val_loss: 0.0141 - val_accuracy: 0.9373\n",
      "Epoch 73/100\n",
      "1/1 [==============================] - 0s 359ms/step - loss: 0.0123 - accuracy: 0.9490 - val_loss: 0.0141 - val_accuracy: 0.9373\n",
      "Epoch 74/100\n",
      "1/1 [==============================] - 0s 354ms/step - loss: 0.0123 - accuracy: 0.9490 - val_loss: 0.0141 - val_accuracy: 0.9373\n",
      "Epoch 75/100\n",
      "1/1 [==============================] - 0s 336ms/step - loss: 0.0123 - accuracy: 0.9490 - val_loss: 0.0141 - val_accuracy: 0.9373\n",
      "Epoch 76/100\n",
      "1/1 [==============================] - 0s 387ms/step - loss: 0.0123 - accuracy: 0.9490 - val_loss: 0.0141 - val_accuracy: 0.9373\n",
      "Epoch 77/100\n",
      "1/1 [==============================] - 0s 369ms/step - loss: 0.0123 - accuracy: 0.9490 - val_loss: 0.0141 - val_accuracy: 0.9373\n",
      "Epoch 78/100\n",
      "1/1 [==============================] - 0s 356ms/step - loss: 0.0123 - accuracy: 0.9490 - val_loss: 0.0141 - val_accuracy: 0.9373\n",
      "Epoch 79/100\n",
      "1/1 [==============================] - 0s 383ms/step - loss: 0.0123 - accuracy: 0.9490 - val_loss: 0.0141 - val_accuracy: 0.9373\n",
      "Epoch 80/100\n",
      "1/1 [==============================] - 0s 400ms/step - loss: 0.0123 - accuracy: 0.9490 - val_loss: 0.0141 - val_accuracy: 0.9373\n",
      "Epoch 81/100\n",
      "1/1 [==============================] - 0s 326ms/step - loss: 0.0123 - accuracy: 0.9490 - val_loss: 0.0141 - val_accuracy: 0.9373\n",
      "Epoch 82/100\n",
      "1/1 [==============================] - 0s 369ms/step - loss: 0.0123 - accuracy: 0.9490 - val_loss: 0.0141 - val_accuracy: 0.9373\n",
      "Epoch 83/100\n",
      "1/1 [==============================] - 0s 326ms/step - loss: 0.0123 - accuracy: 0.9490 - val_loss: 0.0141 - val_accuracy: 0.9373\n",
      "Epoch 84/100\n",
      "1/1 [==============================] - 0s 419ms/step - loss: 0.0123 - accuracy: 0.9490 - val_loss: 0.0141 - val_accuracy: 0.9373\n",
      "Epoch 85/100\n",
      "1/1 [==============================] - 0s 341ms/step - loss: 0.0123 - accuracy: 0.9490 - val_loss: 0.0141 - val_accuracy: 0.9373\n",
      "Epoch 86/100\n",
      "1/1 [==============================] - 0s 348ms/step - loss: 0.0123 - accuracy: 0.9490 - val_loss: 0.0141 - val_accuracy: 0.9373\n",
      "Epoch 87/100\n",
      "1/1 [==============================] - 0s 347ms/step - loss: 0.0123 - accuracy: 0.9490 - val_loss: 0.0141 - val_accuracy: 0.9373\n",
      "Epoch 88/100\n",
      "1/1 [==============================] - 0s 344ms/step - loss: 0.0123 - accuracy: 0.9490 - val_loss: 0.0141 - val_accuracy: 0.9373\n",
      "Epoch 89/100\n",
      "1/1 [==============================] - 0s 293ms/step - loss: 0.0123 - accuracy: 0.9490 - val_loss: 0.0141 - val_accuracy: 0.9373\n",
      "Epoch 90/100\n",
      "1/1 [==============================] - 0s 313ms/step - loss: 0.0123 - accuracy: 0.9490 - val_loss: 0.0141 - val_accuracy: 0.9373\n",
      "Epoch 91/100\n",
      "1/1 [==============================] - 0s 295ms/step - loss: 0.0123 - accuracy: 0.9490 - val_loss: 0.0141 - val_accuracy: 0.9373\n",
      "Epoch 92/100\n",
      "1/1 [==============================] - 0s 316ms/step - loss: 0.0123 - accuracy: 0.9490 - val_loss: 0.0141 - val_accuracy: 0.9373\n",
      "Epoch 93/100\n",
      "1/1 [==============================] - 0s 400ms/step - loss: 0.0123 - accuracy: 0.9490 - val_loss: 0.0141 - val_accuracy: 0.9373\n",
      "Epoch 94/100\n",
      "1/1 [==============================] - 0s 428ms/step - loss: 0.0123 - accuracy: 0.9490 - val_loss: 0.0141 - val_accuracy: 0.9373\n",
      "Epoch 95/100\n",
      "1/1 [==============================] - 0s 367ms/step - loss: 0.0123 - accuracy: 0.9490 - val_loss: 0.0141 - val_accuracy: 0.9373\n",
      "Epoch 96/100\n",
      "1/1 [==============================] - 0s 379ms/step - loss: 0.0123 - accuracy: 0.9490 - val_loss: 0.0141 - val_accuracy: 0.9373\n",
      "Epoch 97/100\n",
      "1/1 [==============================] - 0s 440ms/step - loss: 0.0123 - accuracy: 0.9490 - val_loss: 0.0141 - val_accuracy: 0.9373\n",
      "Epoch 98/100\n",
      "1/1 [==============================] - 0s 400ms/step - loss: 0.0123 - accuracy: 0.9490 - val_loss: 0.0141 - val_accuracy: 0.9373\n",
      "Epoch 99/100\n",
      "1/1 [==============================] - 0s 410ms/step - loss: 0.0123 - accuracy: 0.9490 - val_loss: 0.0140 - val_accuracy: 0.9373\n",
      "Epoch 100/100\n",
      "1/1 [==============================] - 0s 387ms/step - loss: 0.0123 - accuracy: 0.9490 - val_loss: 0.0140 - val_accuracy: 0.9373\n"
     ]
    },
    {
     "data": {
      "text/plain": [
       "<tensorflow.python.keras.callbacks.History at 0x7fb3afde4198>"
      ]
     },
     "execution_count": 17,
     "metadata": {},
     "output_type": "execute_result"
    }
   ],
   "source": [
    "autoencoder.fit(X_train_big, X_train_big,\n",
    "                epochs=100,\n",
    "                batch_size=5000,\n",
    "                #shuffle=True,\n",
    "                validation_data=(X_test_big, X_test_big))"
   ]
  },
  {
   "cell_type": "code",
   "execution_count": null,
   "id": "57f60199",
   "metadata": {},
   "outputs": [],
   "source": []
  },
  {
   "cell_type": "markdown",
   "id": "02d794b6",
   "metadata": {},
   "source": [
    "## get the ys involved too???\n"
   ]
  },
  {
   "cell_type": "code",
   "execution_count": 18,
   "id": "c4c137bf",
   "metadata": {},
   "outputs": [],
   "source": [
    "li=[]\n",
    "for y_train in ys_train:\n",
    "    for e in y_train:\n",
    "        e = np.array(e)\n",
    "        e = np.pad(e, [(0, 32-e.shape[0]), (0, 32-e.shape[1])], mode='constant')\n",
    "        li.append(e)\n",
    "y_train_big = np.array(li)"
   ]
  },
  {
   "cell_type": "code",
   "execution_count": 19,
   "id": "c9051b5d",
   "metadata": {},
   "outputs": [
    {
     "data": {
      "text/plain": [
       "(1301, 32, 32)"
      ]
     },
     "execution_count": 19,
     "metadata": {},
     "output_type": "execute_result"
    }
   ],
   "source": [
    "y_train_big.shape"
   ]
  },
  {
   "cell_type": "code",
   "execution_count": 20,
   "id": "119b229d",
   "metadata": {},
   "outputs": [],
   "source": [
    "y_train_big = y_train_big / 10.\n",
    "y_train_big = y_train_big.reshape(1301,32,32, 1)  #(x_train.shape + (1,) )"
   ]
  },
  {
   "cell_type": "code",
   "execution_count": 21,
   "id": "5eae72f5",
   "metadata": {},
   "outputs": [
    {
     "data": {
      "text/plain": [
       "(1301, 32, 32, 1)"
      ]
     },
     "execution_count": 21,
     "metadata": {},
     "output_type": "execute_result"
    }
   ],
   "source": [
    "y_train_big.shape"
   ]
  },
  {
   "cell_type": "code",
   "execution_count": null,
   "id": "21044b3c",
   "metadata": {},
   "outputs": [],
   "source": []
  },
  {
   "cell_type": "code",
   "execution_count": 22,
   "id": "17616e11",
   "metadata": {},
   "outputs": [],
   "source": [
    "li=[]\n",
    "for y_test in ys_test:\n",
    "    for e in y_test:\n",
    "        e = np.array(e)\n",
    "        e = np.pad(e, [(0, 32-e.shape[0]), (0, 32-e.shape[1])], mode='constant')\n",
    "        li.append(e)\n",
    "y_test_big = np.array(li)"
   ]
  },
  {
   "cell_type": "code",
   "execution_count": 23,
   "id": "d50c740f",
   "metadata": {},
   "outputs": [
    {
     "data": {
      "text/plain": [
       "(416, 32, 32)"
      ]
     },
     "execution_count": 23,
     "metadata": {},
     "output_type": "execute_result"
    }
   ],
   "source": [
    "y_test_big.shape"
   ]
  },
  {
   "cell_type": "code",
   "execution_count": 24,
   "id": "839af022",
   "metadata": {},
   "outputs": [],
   "source": [
    "y_test_big = y_test_big / 10."
   ]
  },
  {
   "cell_type": "code",
   "execution_count": 25,
   "id": "a48d0123",
   "metadata": {},
   "outputs": [],
   "source": [
    "y_test_big = y_test_big.reshape(416,32,32, 1)  #(x_train.shape + (1,) )"
   ]
  },
  {
   "cell_type": "code",
   "execution_count": 26,
   "id": "09773a0a",
   "metadata": {},
   "outputs": [
    {
     "data": {
      "text/plain": [
       "(416, 32, 32, 1)"
      ]
     },
     "execution_count": 26,
     "metadata": {},
     "output_type": "execute_result"
    }
   ],
   "source": [
    "y_test_big.shape"
   ]
  },
  {
   "cell_type": "code",
   "execution_count": null,
   "id": "dcb84804",
   "metadata": {},
   "outputs": [],
   "source": []
  },
  {
   "cell_type": "code",
   "execution_count": 27,
   "id": "cc322672",
   "metadata": {},
   "outputs": [],
   "source": [
    "#X_train_big = X_train_big.reshape(1301,32,32, 1)\n",
    "#X_test_big = X_test_big.reshape(416,32,32, 1) "
   ]
  },
  {
   "cell_type": "code",
   "execution_count": 28,
   "id": "f234eb09",
   "metadata": {},
   "outputs": [
    {
     "data": {
      "text/plain": [
       "((1301, 32, 32, 1), (416, 32, 32, 1))"
      ]
     },
     "execution_count": 28,
     "metadata": {},
     "output_type": "execute_result"
    }
   ],
   "source": [
    "X_train_big.shape, X_test_big.shape"
   ]
  },
  {
   "cell_type": "code",
   "execution_count": null,
   "id": "bf607fb6",
   "metadata": {},
   "outputs": [],
   "source": []
  },
  {
   "cell_type": "code",
   "execution_count": null,
   "id": "af884b83",
   "metadata": {},
   "outputs": [],
   "source": []
  },
  {
   "cell_type": "code",
   "execution_count": null,
   "id": "263e5dc6",
   "metadata": {},
   "outputs": [],
   "source": []
  },
  {
   "cell_type": "code",
   "execution_count": 29,
   "id": "965203e4",
   "metadata": {},
   "outputs": [],
   "source": [
    "autoencoder2 = Autoencoder(latent_dim)"
   ]
  },
  {
   "cell_type": "code",
   "execution_count": 30,
   "id": "1c54628e",
   "metadata": {},
   "outputs": [],
   "source": [
    "autoencoder2.compile(optimizer='adam', \n",
    "                    loss='mean_squared_error',\n",
    "                    metrics=['accuracy'])"
   ]
  },
  {
   "cell_type": "code",
   "execution_count": 31,
   "id": "178817cc",
   "metadata": {},
   "outputs": [
    {
     "name": "stdout",
     "output_type": "stream",
     "text": [
      "Epoch 1/100\n",
      "1/1 [==============================] - 2s 2s/step - loss: 0.2416 - accuracy: 0.4828 - val_loss: 0.2381 - val_accuracy: 0.5906\n",
      "Epoch 2/100\n",
      "1/1 [==============================] - 0s 290ms/step - loss: 0.2410 - accuracy: 0.6112 - val_loss: 0.2374 - val_accuracy: 0.6595\n",
      "Epoch 3/100\n",
      "1/1 [==============================] - 0s 313ms/step - loss: 0.2404 - accuracy: 0.6836 - val_loss: 0.2363 - val_accuracy: 0.7027\n",
      "Epoch 4/100\n",
      "1/1 [==============================] - 1s 579ms/step - loss: 0.2394 - accuracy: 0.7264 - val_loss: 0.2348 - val_accuracy: 0.7348\n",
      "Epoch 5/100\n",
      "1/1 [==============================] - 0s 399ms/step - loss: 0.2380 - accuracy: 0.7562 - val_loss: 0.2327 - val_accuracy: 0.7597\n",
      "Epoch 6/100\n",
      "1/1 [==============================] - 0s 430ms/step - loss: 0.2361 - accuracy: 0.7794 - val_loss: 0.2297 - val_accuracy: 0.7812\n",
      "Epoch 7/100\n",
      "1/1 [==============================] - 0s 376ms/step - loss: 0.2334 - accuracy: 0.7995 - val_loss: 0.2258 - val_accuracy: 0.8023\n",
      "Epoch 8/100\n",
      "1/1 [==============================] - 0s 370ms/step - loss: 0.2299 - accuracy: 0.8192 - val_loss: 0.2209 - val_accuracy: 0.8221\n",
      "Epoch 9/100\n",
      "1/1 [==============================] - 0s 367ms/step - loss: 0.2253 - accuracy: 0.8383 - val_loss: 0.2147 - val_accuracy: 0.8424\n",
      "Epoch 10/100\n",
      "1/1 [==============================] - 0s 347ms/step - loss: 0.2196 - accuracy: 0.8577 - val_loss: 0.2072 - val_accuracy: 0.8602\n",
      "Epoch 11/100\n",
      "1/1 [==============================] - 0s 306ms/step - loss: 0.2126 - accuracy: 0.8748 - val_loss: 0.1983 - val_accuracy: 0.8750\n",
      "Epoch 12/100\n",
      "1/1 [==============================] - 0s 337ms/step - loss: 0.2042 - accuracy: 0.8893 - val_loss: 0.1880 - val_accuracy: 0.8904\n",
      "Epoch 13/100\n",
      "1/1 [==============================] - 0s 388ms/step - loss: 0.1942 - accuracy: 0.9049 - val_loss: 0.1761 - val_accuracy: 0.9050\n",
      "Epoch 14/100\n",
      "1/1 [==============================] - 0s 301ms/step - loss: 0.1828 - accuracy: 0.9195 - val_loss: 0.1630 - val_accuracy: 0.9157\n",
      "Epoch 15/100\n",
      "1/1 [==============================] - 0s 384ms/step - loss: 0.1698 - accuracy: 0.9299 - val_loss: 0.1486 - val_accuracy: 0.9246\n",
      "Epoch 16/100\n",
      "1/1 [==============================] - 0s 373ms/step - loss: 0.1554 - accuracy: 0.9390 - val_loss: 0.1332 - val_accuracy: 0.9292\n",
      "Epoch 17/100\n",
      "1/1 [==============================] - 0s 350ms/step - loss: 0.1399 - accuracy: 0.9434 - val_loss: 0.1172 - val_accuracy: 0.9326\n",
      "Epoch 18/100\n",
      "1/1 [==============================] - 0s 361ms/step - loss: 0.1234 - accuracy: 0.9468 - val_loss: 0.1010 - val_accuracy: 0.9354\n",
      "Epoch 19/100\n",
      "1/1 [==============================] - 0s 381ms/step - loss: 0.1066 - accuracy: 0.9497 - val_loss: 0.0852 - val_accuracy: 0.9363\n",
      "Epoch 20/100\n",
      "1/1 [==============================] - 0s 333ms/step - loss: 0.0899 - accuracy: 0.9505 - val_loss: 0.0704 - val_accuracy: 0.9370\n",
      "Epoch 21/100\n",
      "1/1 [==============================] - 0s 369ms/step - loss: 0.0740 - accuracy: 0.9513 - val_loss: 0.0570 - val_accuracy: 0.9371\n",
      "Epoch 22/100\n",
      "1/1 [==============================] - 0s 408ms/step - loss: 0.0595 - accuracy: 0.9513 - val_loss: 0.0455 - val_accuracy: 0.9371\n",
      "Epoch 23/100\n",
      "1/1 [==============================] - 0s 438ms/step - loss: 0.0469 - accuracy: 0.9513 - val_loss: 0.0362 - val_accuracy: 0.9371\n",
      "Epoch 24/100\n",
      "1/1 [==============================] - 0s 370ms/step - loss: 0.0365 - accuracy: 0.9513 - val_loss: 0.0289 - val_accuracy: 0.9371\n",
      "Epoch 25/100\n",
      "1/1 [==============================] - 0s 330ms/step - loss: 0.0283 - accuracy: 0.9513 - val_loss: 0.0237 - val_accuracy: 0.9376\n",
      "Epoch 26/100\n",
      "1/1 [==============================] - 0s 367ms/step - loss: 0.0223 - accuracy: 0.9519 - val_loss: 0.0200 - val_accuracy: 0.9386\n",
      "Epoch 27/100\n",
      "1/1 [==============================] - 0s 442ms/step - loss: 0.0180 - accuracy: 0.9530 - val_loss: 0.0175 - val_accuracy: 0.9386\n",
      "Epoch 28/100\n",
      "1/1 [==============================] - 0s 361ms/step - loss: 0.0151 - accuracy: 0.9530 - val_loss: 0.0159 - val_accuracy: 0.9386\n",
      "Epoch 29/100\n",
      "1/1 [==============================] - 0s 410ms/step - loss: 0.0133 - accuracy: 0.9530 - val_loss: 0.0150 - val_accuracy: 0.9386\n",
      "Epoch 30/100\n",
      "1/1 [==============================] - 0s 382ms/step - loss: 0.0121 - accuracy: 0.9530 - val_loss: 0.0144 - val_accuracy: 0.9386\n",
      "Epoch 31/100\n",
      "1/1 [==============================] - 0s 373ms/step - loss: 0.0114 - accuracy: 0.9530 - val_loss: 0.0141 - val_accuracy: 0.9386\n",
      "Epoch 32/100\n",
      "1/1 [==============================] - 0s 445ms/step - loss: 0.0109 - accuracy: 0.9530 - val_loss: 0.0139 - val_accuracy: 0.9386\n",
      "Epoch 33/100\n",
      "1/1 [==============================] - 0s 355ms/step - loss: 0.0107 - accuracy: 0.9530 - val_loss: 0.0138 - val_accuracy: 0.9386\n",
      "Epoch 34/100\n",
      "1/1 [==============================] - 0s 400ms/step - loss: 0.0105 - accuracy: 0.9530 - val_loss: 0.0137 - val_accuracy: 0.9386\n",
      "Epoch 35/100\n",
      "1/1 [==============================] - 0s 398ms/step - loss: 0.0104 - accuracy: 0.9530 - val_loss: 0.0137 - val_accuracy: 0.9386\n",
      "Epoch 36/100\n",
      "1/1 [==============================] - 0s 442ms/step - loss: 0.0104 - accuracy: 0.9530 - val_loss: 0.0137 - val_accuracy: 0.9386\n",
      "Epoch 37/100\n",
      "1/1 [==============================] - 0s 424ms/step - loss: 0.0103 - accuracy: 0.9530 - val_loss: 0.0136 - val_accuracy: 0.9386\n",
      "Epoch 38/100\n",
      "1/1 [==============================] - 1s 526ms/step - loss: 0.0103 - accuracy: 0.9530 - val_loss: 0.0136 - val_accuracy: 0.9386\n",
      "Epoch 39/100\n",
      "1/1 [==============================] - 0s 336ms/step - loss: 0.0103 - accuracy: 0.9530 - val_loss: 0.0136 - val_accuracy: 0.9386\n",
      "Epoch 40/100\n",
      "1/1 [==============================] - 0s 411ms/step - loss: 0.0103 - accuracy: 0.9530 - val_loss: 0.0136 - val_accuracy: 0.9386\n",
      "Epoch 41/100\n",
      "1/1 [==============================] - 0s 428ms/step - loss: 0.0103 - accuracy: 0.9530 - val_loss: 0.0136 - val_accuracy: 0.9386\n",
      "Epoch 42/100\n",
      "1/1 [==============================] - 0s 428ms/step - loss: 0.0103 - accuracy: 0.9530 - val_loss: 0.0137 - val_accuracy: 0.9386\n",
      "Epoch 43/100\n",
      "1/1 [==============================] - 0s 407ms/step - loss: 0.0103 - accuracy: 0.9530 - val_loss: 0.0136 - val_accuracy: 0.9386\n",
      "Epoch 44/100\n",
      "1/1 [==============================] - 0s 389ms/step - loss: 0.0103 - accuracy: 0.9530 - val_loss: 0.0136 - val_accuracy: 0.9386\n",
      "Epoch 45/100\n",
      "1/1 [==============================] - 0s 382ms/step - loss: 0.0103 - accuracy: 0.9530 - val_loss: 0.0136 - val_accuracy: 0.9386\n",
      "Epoch 46/100\n",
      "1/1 [==============================] - 0s 390ms/step - loss: 0.0103 - accuracy: 0.9530 - val_loss: 0.0136 - val_accuracy: 0.9386\n",
      "Epoch 47/100\n",
      "1/1 [==============================] - 0s 401ms/step - loss: 0.0103 - accuracy: 0.9530 - val_loss: 0.0136 - val_accuracy: 0.9386\n",
      "Epoch 48/100\n",
      "1/1 [==============================] - 0s 349ms/step - loss: 0.0103 - accuracy: 0.9530 - val_loss: 0.0136 - val_accuracy: 0.9386\n",
      "Epoch 49/100\n",
      "1/1 [==============================] - 0s 407ms/step - loss: 0.0103 - accuracy: 0.9530 - val_loss: 0.0136 - val_accuracy: 0.9386\n",
      "Epoch 50/100\n",
      "1/1 [==============================] - 0s 366ms/step - loss: 0.0103 - accuracy: 0.9530 - val_loss: 0.0136 - val_accuracy: 0.9386\n",
      "Epoch 51/100\n",
      "1/1 [==============================] - 0s 468ms/step - loss: 0.0103 - accuracy: 0.9530 - val_loss: 0.0136 - val_accuracy: 0.9386\n",
      "Epoch 52/100\n",
      "1/1 [==============================] - 0s 380ms/step - loss: 0.0103 - accuracy: 0.9530 - val_loss: 0.0136 - val_accuracy: 0.9386\n",
      "Epoch 53/100\n",
      "1/1 [==============================] - 0s 364ms/step - loss: 0.0102 - accuracy: 0.9530 - val_loss: 0.0136 - val_accuracy: 0.9386\n",
      "Epoch 54/100\n",
      "1/1 [==============================] - 0s 381ms/step - loss: 0.0102 - accuracy: 0.9530 - val_loss: 0.0136 - val_accuracy: 0.9386\n",
      "Epoch 55/100\n",
      "1/1 [==============================] - 0s 357ms/step - loss: 0.0102 - accuracy: 0.9530 - val_loss: 0.0136 - val_accuracy: 0.9386\n",
      "Epoch 56/100\n",
      "1/1 [==============================] - 0s 348ms/step - loss: 0.0102 - accuracy: 0.9530 - val_loss: 0.0136 - val_accuracy: 0.9386\n",
      "Epoch 57/100\n",
      "1/1 [==============================] - 0s 378ms/step - loss: 0.0102 - accuracy: 0.9530 - val_loss: 0.0136 - val_accuracy: 0.9386\n",
      "Epoch 58/100\n",
      "1/1 [==============================] - 0s 378ms/step - loss: 0.0102 - accuracy: 0.9530 - val_loss: 0.0135 - val_accuracy: 0.9386\n"
     ]
    },
    {
     "name": "stdout",
     "output_type": "stream",
     "text": [
      "Epoch 59/100\n",
      "1/1 [==============================] - 0s 403ms/step - loss: 0.0102 - accuracy: 0.9530 - val_loss: 0.0135 - val_accuracy: 0.9386\n",
      "Epoch 60/100\n",
      "1/1 [==============================] - 0s 434ms/step - loss: 0.0102 - accuracy: 0.9530 - val_loss: 0.0135 - val_accuracy: 0.9386\n",
      "Epoch 61/100\n",
      "1/1 [==============================] - 0s 372ms/step - loss: 0.0102 - accuracy: 0.9530 - val_loss: 0.0135 - val_accuracy: 0.9386\n",
      "Epoch 62/100\n",
      "1/1 [==============================] - 0s 389ms/step - loss: 0.0102 - accuracy: 0.9530 - val_loss: 0.0135 - val_accuracy: 0.9386\n",
      "Epoch 63/100\n",
      "1/1 [==============================] - 0s 400ms/step - loss: 0.0102 - accuracy: 0.9530 - val_loss: 0.0135 - val_accuracy: 0.9386\n",
      "Epoch 64/100\n",
      "1/1 [==============================] - 0s 453ms/step - loss: 0.0102 - accuracy: 0.9530 - val_loss: 0.0135 - val_accuracy: 0.9386\n",
      "Epoch 65/100\n",
      "1/1 [==============================] - 0s 399ms/step - loss: 0.0102 - accuracy: 0.9530 - val_loss: 0.0135 - val_accuracy: 0.9386\n",
      "Epoch 66/100\n",
      "1/1 [==============================] - 0s 346ms/step - loss: 0.0102 - accuracy: 0.9530 - val_loss: 0.0135 - val_accuracy: 0.9386\n",
      "Epoch 67/100\n",
      "1/1 [==============================] - 0s 342ms/step - loss: 0.0102 - accuracy: 0.9530 - val_loss: 0.0135 - val_accuracy: 0.9386\n",
      "Epoch 68/100\n",
      "1/1 [==============================] - 0s 347ms/step - loss: 0.0102 - accuracy: 0.9530 - val_loss: 0.0135 - val_accuracy: 0.9386\n",
      "Epoch 69/100\n",
      "1/1 [==============================] - 0s 306ms/step - loss: 0.0101 - accuracy: 0.9530 - val_loss: 0.0135 - val_accuracy: 0.9386\n",
      "Epoch 70/100\n",
      "1/1 [==============================] - 0s 322ms/step - loss: 0.0101 - accuracy: 0.9530 - val_loss: 0.0135 - val_accuracy: 0.9386\n",
      "Epoch 71/100\n",
      "1/1 [==============================] - 0s 312ms/step - loss: 0.0101 - accuracy: 0.9530 - val_loss: 0.0135 - val_accuracy: 0.9386\n",
      "Epoch 72/100\n",
      "1/1 [==============================] - 0s 357ms/step - loss: 0.0101 - accuracy: 0.9530 - val_loss: 0.0135 - val_accuracy: 0.9386\n",
      "Epoch 73/100\n",
      "1/1 [==============================] - 0s 306ms/step - loss: 0.0101 - accuracy: 0.9530 - val_loss: 0.0135 - val_accuracy: 0.9386\n",
      "Epoch 74/100\n",
      "1/1 [==============================] - 0s 329ms/step - loss: 0.0101 - accuracy: 0.9530 - val_loss: 0.0135 - val_accuracy: 0.9386\n",
      "Epoch 75/100\n",
      "1/1 [==============================] - 0s 476ms/step - loss: 0.0101 - accuracy: 0.9530 - val_loss: 0.0135 - val_accuracy: 0.9386\n",
      "Epoch 76/100\n",
      "1/1 [==============================] - 0s 348ms/step - loss: 0.0101 - accuracy: 0.9530 - val_loss: 0.0135 - val_accuracy: 0.9386\n",
      "Epoch 77/100\n",
      "1/1 [==============================] - 0s 398ms/step - loss: 0.0101 - accuracy: 0.9530 - val_loss: 0.0135 - val_accuracy: 0.9386\n",
      "Epoch 78/100\n",
      "1/1 [==============================] - 0s 338ms/step - loss: 0.0101 - accuracy: 0.9530 - val_loss: 0.0135 - val_accuracy: 0.9386\n",
      "Epoch 79/100\n",
      "1/1 [==============================] - 0s 277ms/step - loss: 0.0101 - accuracy: 0.9530 - val_loss: 0.0135 - val_accuracy: 0.9386\n",
      "Epoch 80/100\n",
      "1/1 [==============================] - 0s 294ms/step - loss: 0.0101 - accuracy: 0.9530 - val_loss: 0.0135 - val_accuracy: 0.9386\n",
      "Epoch 81/100\n",
      "1/1 [==============================] - 0s 312ms/step - loss: 0.0101 - accuracy: 0.9530 - val_loss: 0.0135 - val_accuracy: 0.9386\n",
      "Epoch 82/100\n",
      "1/1 [==============================] - 0s 288ms/step - loss: 0.0101 - accuracy: 0.9530 - val_loss: 0.0135 - val_accuracy: 0.9386\n",
      "Epoch 83/100\n",
      "1/1 [==============================] - 0s 296ms/step - loss: 0.0101 - accuracy: 0.9530 - val_loss: 0.0135 - val_accuracy: 0.9386\n",
      "Epoch 84/100\n",
      "1/1 [==============================] - 0s 306ms/step - loss: 0.0101 - accuracy: 0.9530 - val_loss: 0.0135 - val_accuracy: 0.9386\n",
      "Epoch 85/100\n",
      "1/1 [==============================] - 0s 281ms/step - loss: 0.0101 - accuracy: 0.9530 - val_loss: 0.0135 - val_accuracy: 0.9386\n",
      "Epoch 86/100\n",
      "1/1 [==============================] - 0s 300ms/step - loss: 0.0101 - accuracy: 0.9530 - val_loss: 0.0135 - val_accuracy: 0.9386\n",
      "Epoch 87/100\n",
      "1/1 [==============================] - 0s 280ms/step - loss: 0.0101 - accuracy: 0.9530 - val_loss: 0.0135 - val_accuracy: 0.9386\n",
      "Epoch 88/100\n",
      "1/1 [==============================] - 0s 281ms/step - loss: 0.0101 - accuracy: 0.9530 - val_loss: 0.0135 - val_accuracy: 0.9386\n",
      "Epoch 89/100\n",
      "1/1 [==============================] - 0s 364ms/step - loss: 0.0101 - accuracy: 0.9530 - val_loss: 0.0135 - val_accuracy: 0.9386\n",
      "Epoch 90/100\n",
      "1/1 [==============================] - 0s 280ms/step - loss: 0.0101 - accuracy: 0.9530 - val_loss: 0.0135 - val_accuracy: 0.9386\n",
      "Epoch 91/100\n",
      "1/1 [==============================] - 0s 408ms/step - loss: 0.0101 - accuracy: 0.9530 - val_loss: 0.0135 - val_accuracy: 0.9386\n",
      "Epoch 92/100\n",
      "1/1 [==============================] - 0s 322ms/step - loss: 0.0101 - accuracy: 0.9530 - val_loss: 0.0135 - val_accuracy: 0.9386\n",
      "Epoch 93/100\n",
      "1/1 [==============================] - 0s 288ms/step - loss: 0.0101 - accuracy: 0.9530 - val_loss: 0.0135 - val_accuracy: 0.9386\n",
      "Epoch 94/100\n",
      "1/1 [==============================] - 0s 301ms/step - loss: 0.0101 - accuracy: 0.9530 - val_loss: 0.0135 - val_accuracy: 0.9386\n",
      "Epoch 95/100\n",
      "1/1 [==============================] - 0s 364ms/step - loss: 0.0101 - accuracy: 0.9530 - val_loss: 0.0135 - val_accuracy: 0.9386\n",
      "Epoch 96/100\n",
      "1/1 [==============================] - 0s 327ms/step - loss: 0.0101 - accuracy: 0.9530 - val_loss: 0.0135 - val_accuracy: 0.9386\n",
      "Epoch 97/100\n",
      "1/1 [==============================] - 0s 379ms/step - loss: 0.0101 - accuracy: 0.9530 - val_loss: 0.0135 - val_accuracy: 0.9386\n",
      "Epoch 98/100\n",
      "1/1 [==============================] - 1s 598ms/step - loss: 0.0101 - accuracy: 0.9530 - val_loss: 0.0135 - val_accuracy: 0.9386\n",
      "Epoch 99/100\n",
      "1/1 [==============================] - 0s 346ms/step - loss: 0.0101 - accuracy: 0.9530 - val_loss: 0.0135 - val_accuracy: 0.9386\n",
      "Epoch 100/100\n",
      "1/1 [==============================] - 0s 350ms/step - loss: 0.0101 - accuracy: 0.9530 - val_loss: 0.0134 - val_accuracy: 0.9386\n"
     ]
    },
    {
     "data": {
      "text/plain": [
       "<tensorflow.python.keras.callbacks.History at 0x7fb38dae4278>"
      ]
     },
     "execution_count": 31,
     "metadata": {},
     "output_type": "execute_result"
    }
   ],
   "source": [
    "autoencoder2.fit(X_train_big, y_train_big,\n",
    "                epochs=100,\n",
    "                batch_size=5000,\n",
    "                #shuffle=True,\n",
    "                validation_data=(X_test_big, y_test_big))"
   ]
  },
  {
   "cell_type": "code",
   "execution_count": null,
   "id": "236ca559",
   "metadata": {},
   "outputs": [],
   "source": []
  },
  {
   "cell_type": "code",
   "execution_count": null,
   "id": "86a07229",
   "metadata": {},
   "outputs": [],
   "source": []
  },
  {
   "cell_type": "code",
   "execution_count": null,
   "id": "24ccf6cb",
   "metadata": {},
   "outputs": [],
   "source": []
  },
  {
   "cell_type": "code",
   "execution_count": null,
   "id": "f3b3d7a5",
   "metadata": {},
   "outputs": [],
   "source": []
  },
  {
   "cell_type": "markdown",
   "id": "e188e378",
   "metadata": {},
   "source": [
    "## MAKE PREDICTIONS"
   ]
  },
  {
   "cell_type": "code",
   "execution_count": 32,
   "id": "9402fcae",
   "metadata": {},
   "outputs": [],
   "source": [
    "w = X_train_big[125:126]#.shape"
   ]
  },
  {
   "cell_type": "code",
   "execution_count": 33,
   "id": "08afcc20",
   "metadata": {
    "scrolled": true
   },
   "outputs": [
    {
     "data": {
      "text/plain": [
       "(1, 32, 32, 1)"
      ]
     },
     "execution_count": 33,
     "metadata": {},
     "output_type": "execute_result"
    }
   ],
   "source": [
    "w.shape"
   ]
  },
  {
   "cell_type": "code",
   "execution_count": 34,
   "id": "eafdcfe7",
   "metadata": {},
   "outputs": [],
   "source": [
    "v = w*10"
   ]
  },
  {
   "cell_type": "code",
   "execution_count": 35,
   "id": "6ebedc67",
   "metadata": {},
   "outputs": [
    {
     "data": {
      "text/plain": [
       "array([[0., 0., 0., ..., 0., 0., 0.],\n",
       "       [0., 3., 0., ..., 0., 0., 0.],\n",
       "       [0., 0., 3., ..., 0., 0., 0.],\n",
       "       ...,\n",
       "       [0., 0., 0., ..., 0., 0., 0.],\n",
       "       [0., 0., 0., ..., 0., 0., 0.],\n",
       "       [0., 0., 0., ..., 0., 0., 0.]])"
      ]
     },
     "execution_count": 35,
     "metadata": {},
     "output_type": "execute_result"
    }
   ],
   "source": [
    "v.reshape(32,32)"
   ]
  },
  {
   "cell_type": "code",
   "execution_count": 36,
   "id": "ed4d0692",
   "metadata": {},
   "outputs": [],
   "source": [
    "y = y_train_big[125]"
   ]
  },
  {
   "cell_type": "code",
   "execution_count": 37,
   "id": "e6972ca7",
   "metadata": {},
   "outputs": [
    {
     "data": {
      "text/plain": [
       "(32, 32, 1)"
      ]
     },
     "execution_count": 37,
     "metadata": {},
     "output_type": "execute_result"
    }
   ],
   "source": [
    "y.shape"
   ]
  },
  {
   "cell_type": "code",
   "execution_count": 38,
   "id": "2573f880",
   "metadata": {},
   "outputs": [],
   "source": [
    "pred = autoencoder.predict(w).reshape(1,32,32)"
   ]
  },
  {
   "cell_type": "code",
   "execution_count": 39,
   "id": "7161fcb1",
   "metadata": {},
   "outputs": [
    {
     "data": {
      "text/plain": [
       "(1, 32, 32)"
      ]
     },
     "execution_count": 39,
     "metadata": {},
     "output_type": "execute_result"
    }
   ],
   "source": [
    "pred.shape"
   ]
  },
  {
   "cell_type": "code",
   "execution_count": 40,
   "id": "67ad9e6b",
   "metadata": {},
   "outputs": [],
   "source": [
    "new_arr = np.around(pred,1)*10"
   ]
  },
  {
   "cell_type": "code",
   "execution_count": 41,
   "id": "01dfd492",
   "metadata": {},
   "outputs": [
    {
     "data": {
      "image/png": "[encoded data removed]",
      "text/plain": [
       "<Figure size 1080x1080 with 3 Axes>"
      ]
     },
     "metadata": {
      "needs_background": "light"
     },
     "output_type": "display_data"
    }
   ],
   "source": [
    "cmap = colors.ListedColormap(\n",
    "            ['#000000', '#0074D9','#FF4136','#2ECC40','#FFDC00',\n",
    "             '#AAAAAA', '#F012BE', '#FF851B', '#7FDBFF', '#870C25'])\n",
    "norm = colors.Normalize(vmin=0, vmax=9)\n",
    "fig, ax = plt.subplots(1, 3, figsize=(15,15))\n",
    "ax[0].imshow(v[0], cmap=cmap, norm=norm)\n",
    "ax[0].set_title('Train Input')\n",
    "ax[1].imshow(y, cmap=cmap, norm=norm)\n",
    "ax[1].set_title('Train Output')\n",
    "ax[2].imshow(new_arr[0], cmap=cmap, norm=norm)\n",
    "ax[2].set_title('Train Prediction');"
   ]
  },
  {
   "cell_type": "code",
   "execution_count": 48,
   "id": "a7b5784a",
   "metadata": {},
   "outputs": [],
   "source": [
    "x = X_train_big[125:126]\n",
    "# print(x.shape)\n",
    "# encoded_imgs = autoencoder.encoder(x.reshape((1,32,32) +(1,)))\n",
    "# decoded_imgs = autoencoder.decoder(encoded_imgs).numpy()\n",
    "\n",
    "pred_x = autoencoder.predict(x.reshape(1,32,32,1))\n",
    "pred_x = pred_x.reshape(32,32)\n",
    "pred_x = np.around(pred_x,1)*10\n",
    "\n",
    "     \n",
    "\n",
    "x = (x.reshape(32,32))*10\n",
    "\n",
    "y = y_train_big[125]*10\n",
    "\n",
    "\n",
    "\n",
    "test = X_test_big[40]*10\n",
    "\n",
    "test = (test.reshape(32,32))#*10\n",
    "\n",
    "encoded_imgs2 = autoencoder.encoder((X_test_big[125:126]).reshape(X_test_big[125:126].shape +(1,))).numpy()\n",
    "decoded_imgs2 = autoencoder.decoder(encoded_imgs2).numpy()\n",
    "\n",
    "pred_t = (decoded_imgs2.reshape(32,32))*100\n",
    "pred_t = np.around(pred_t,1)*10"
   ]
  },
  {
   "cell_type": "code",
   "execution_count": 49,
   "id": "022244aa",
   "metadata": {},
   "outputs": [
    {
     "data": {
      "image/png": "[encoded data removed]",
      "text/plain": [
       "<Figure size 2160x2160 with 5 Axes>"
      ]
     },
     "metadata": {
      "needs_background": "light"
     },
     "output_type": "display_data"
    }
   ],
   "source": [
    "cmap = colors.ListedColormap(\n",
    "            ['#000000', '#0074D9','#FF4136','#2ECC40','#FFDC00',\n",
    "             '#AAAAAA', '#F012BE', '#FF851B', '#7FDBFF', '#870C25'])\n",
    "norm = colors.Normalize(vmin=0, vmax=9)\n",
    "fig, ax = plt.subplots(1, 5, figsize=(30,30))\n",
    "ax[0].imshow(x[:10,:10], cmap=cmap, norm=norm)\n",
    "ax[0].set_title('Train Input')\n",
    "ax[1].imshow(y[:10,:10], cmap=cmap, norm=norm)\n",
    "ax[1].set_title('Train Output')\n",
    "ax[2].imshow(pred_x[:10,:10], cmap=cmap, norm=norm)\n",
    "ax[2].set_title('Train Prediction')\n",
    "ax[3].imshow(test[:10,:10], cmap=cmap, norm=norm)\n",
    "ax[3].set_title('Train Prediction2')\n",
    "ax[4].imshow(pred_t[:10,:10], cmap=cmap, norm=norm)\n",
    "ax[4].set_title('Train Prediction2');"
   ]
  },
  {
   "cell_type": "code",
   "execution_count": null,
   "id": "45d2dad3",
   "metadata": {},
   "outputs": [],
   "source": []
  },
  {
   "cell_type": "code",
   "execution_count": null,
   "id": "cf34147f",
   "metadata": {},
   "outputs": [],
   "source": []
  },
  {
   "cell_type": "code",
   "execution_count": 47,
   "id": "cad74c04",
   "metadata": {
    "collapsed": true
   },
   "outputs": [
    {
     "name": "stdout",
     "output_type": "stream",
     "text": [
      "Model: \"sequential\"\n",
      "_________________________________________________________________\n",
      "Layer (type)                 Output Shape              Param #   \n",
      "=================================================================\n",
      "conv2d (Conv2D)              (None, 32, 32, 16)        160       \n",
      "_________________________________________________________________\n",
      "max_pooling2d (MaxPooling2D) (None, 16, 16, 16)        0         \n",
      "_________________________________________________________________\n",
      "flatten (Flatten)            (None, 4096)              0         \n",
      "_________________________________________________________________\n",
      "dense (Dense)                (None, 64)                262208    \n",
      "=================================================================\n",
      "Total params: 262,368\n",
      "Trainable params: 262,368\n",
      "Non-trainable params: 0\n",
      "_________________________________________________________________\n",
      "Model: \"sequential_1\"\n",
      "_________________________________________________________________\n",
      "Layer (type)                 Output Shape              Param #   \n",
      "=================================================================\n",
      "dense_1 (Dense)              (None, 1024)              66560     \n",
      "_________________________________________________________________\n",
      "reshape (Reshape)            (None, 32, 32, 1)         0         \n",
      "=================================================================\n",
      "Total params: 66,560\n",
      "Trainable params: 66,560\n",
      "Non-trainable params: 0\n",
      "_________________________________________________________________\n"
     ]
    }
   ],
   "source": [
    "autoencoder.encoder.summary()\n",
    "autoencoder.decoder.summary()"
   ]
  },
  {
   "cell_type": "code",
   "execution_count": null,
   "id": "df9bb1d3",
   "metadata": {},
   "outputs": [],
   "source": []
  },
  {
   "cell_type": "code",
   "execution_count": null,
   "id": "4d915660",
   "metadata": {},
   "outputs": [],
   "source": []
  },
  {
   "cell_type": "code",
   "execution_count": null,
   "id": "3db474ca",
   "metadata": {},
   "outputs": [],
   "source": []
  },
  {
   "cell_type": "code",
   "execution_count": null,
   "id": "c8d40a80",
   "metadata": {},
   "outputs": [],
   "source": []
  },
  {
   "cell_type": "code",
   "execution_count": null,
   "id": "4e90aa0a",
   "metadata": {},
   "outputs": [],
   "source": []
  },
  {
   "cell_type": "code",
   "execution_count": 42,
   "id": "2b170813",
   "metadata": {},
   "outputs": [],
   "source": [
    "pred = autoencoder2.predict(w).reshape(1,32,32)"
   ]
  },
  {
   "cell_type": "code",
   "execution_count": 43,
   "id": "3e61e4de",
   "metadata": {},
   "outputs": [
    {
     "data": {
      "text/plain": [
       "(1, 32, 32)"
      ]
     },
     "execution_count": 43,
     "metadata": {},
     "output_type": "execute_result"
    }
   ],
   "source": [
    "pred.shape"
   ]
  },
  {
   "cell_type": "code",
   "execution_count": 44,
   "id": "67ad9e6b",
   "metadata": {},
   "outputs": [],
   "source": [
    "new_arr = np.around(pred,1)*10"
   ]
  },
  {
   "cell_type": "code",
   "execution_count": 45,
   "id": "1e402925",
   "metadata": {
    "scrolled": true
   },
   "outputs": [
    {
     "data": {
      "image/png": "[encoded data removed]",
      "text/plain": [
       "<Figure size 1080x1080 with 3 Axes>"
      ]
     },
     "metadata": {
      "needs_background": "light"
     },
     "output_type": "display_data"
    }
   ],
   "source": [
    "cmap = colors.ListedColormap(\n",
    "            ['#000000', '#0074D9','#FF4136','#2ECC40','#FFDC00',\n",
    "             '#AAAAAA', '#F012BE', '#FF851B', '#7FDBFF', '#870C25'])\n",
    "norm = colors.Normalize(vmin=0, vmax=9)\n",
    "fig, ax = plt.subplots(1, 3, figsize=(15,15))\n",
    "ax[0].imshow(v[0], cmap=cmap, norm=norm)\n",
    "ax[0].set_title('Train Input')\n",
    "ax[1].imshow(y, cmap=cmap, norm=norm)\n",
    "ax[1].set_title('Train Output')\n",
    "ax[2].imshow(new_arr[0], cmap=cmap, norm=norm)\n",
    "ax[2].set_title('Train Prediction');"
   ]
  },
  {
   "cell_type": "code",
   "execution_count": 50,
   "id": "b47b270e",
   "metadata": {},
   "outputs": [],
   "source": [
    "x = X_train_big[125:126]\n",
    "# print(x.shape)\n",
    "# encoded_imgs = autoencoder.encoder(x.reshape((1,32,32) +(1,)))\n",
    "# decoded_imgs = autoencoder.decoder(encoded_imgs).numpy()\n",
    "\n",
    "pred_x = autoencoder2.predict(x.reshape(1,32,32,1))\n",
    "pred_x = pred_x.reshape(32,32)\n",
    "pred_x = np.around(pred_x,1)*10\n",
    "\n",
    "     \n",
    "\n",
    "x = (x.reshape(32,32))*10\n",
    "\n",
    "y = y_train_big[125]*10\n",
    "\n",
    "\n",
    "\n",
    "test = X_test_big[40]*10\n",
    "\n",
    "test = (test.reshape(32,32))#*10\n",
    "\n",
    "encoded_imgs2 = autoencoder2.encoder((X_test_big[125:126]).reshape(X_test_big[125:126].shape +(1,))).numpy()\n",
    "decoded_imgs2 = autoencoder2.decoder(encoded_imgs2).numpy()\n",
    "\n",
    "pred_t = (decoded_imgs2.reshape(32,32))*100\n",
    "pred_t = np.around(pred_t,1)*10"
   ]
  },
  {
   "cell_type": "code",
   "execution_count": 51,
   "id": "d69f9cdd",
   "metadata": {},
   "outputs": [
    {
     "data": {
      "image/png": "[encoded data removed]",
      "text/plain": [
       "<Figure size 2160x2160 with 5 Axes>"
      ]
     },
     "metadata": {
      "needs_background": "light"
     },
     "output_type": "display_data"
    }
   ],
   "source": [
    "cmap = colors.ListedColormap(\n",
    "            ['#000000', '#0074D9','#FF4136','#2ECC40','#FFDC00',\n",
    "             '#AAAAAA', '#F012BE', '#FF851B', '#7FDBFF', '#870C25'])\n",
    "norm = colors.Normalize(vmin=0, vmax=9)\n",
    "fig, ax = plt.subplots(1, 5, figsize=(30,30))\n",
    "ax[0].imshow(x[:10,:10], cmap=cmap, norm=norm)\n",
    "ax[0].set_title('Train Input')\n",
    "ax[1].imshow(y[:10,:10], cmap=cmap, norm=norm)\n",
    "ax[1].set_title('Train Output')\n",
    "ax[2].imshow(pred_x[:10,:10], cmap=cmap, norm=norm)\n",
    "ax[2].set_title('Train Prediction')\n",
    "ax[3].imshow(test[:10,:10], cmap=cmap, norm=norm)\n",
    "ax[3].set_title('Train Prediction2')\n",
    "ax[4].imshow(pred_t[:10,:10], cmap=cmap, norm=norm)\n",
    "ax[4].set_title('Train Prediction2');"
   ]
  },
  {
   "cell_type": "code",
   "execution_count": null,
   "id": "e571fd99",
   "metadata": {},
   "outputs": [],
   "source": []
  },
  {
   "cell_type": "code",
   "execution_count": null,
   "id": "09e67958",
   "metadata": {},
   "outputs": [],
   "source": []
  },
  {
   "cell_type": "code",
   "execution_count": null,
   "id": "45961de8",
   "metadata": {},
   "outputs": [],
   "source": []
  },
  {
   "cell_type": "code",
   "execution_count": null,
   "id": "20800ef1",
   "metadata": {},
   "outputs": [],
   "source": []
  },
  {
   "cell_type": "code",
   "execution_count": null,
   "id": "1c7063b5",
   "metadata": {},
   "outputs": [],
   "source": []
  },
  {
   "cell_type": "code",
   "execution_count": null,
   "id": "7a53806b",
   "metadata": {},
   "outputs": [],
   "source": []
  }
 ],
 "metadata": {
  "kernelspec": {
   "display_name": "Python 3",
   "language": "python",
   "name": "python3"
  },
  "language_info": {
   "codemirror_mode": {
    "name": "ipython",
    "version": 3
   },
   "file_extension": ".py",
   "mimetype": "text/x-python",
   "name": "python",
   "nbconvert_exporter": "python",
   "pygments_lexer": "ipython3",
   "version": "3.6.13"
  }
 },
 "nbformat": 4,
 "nbformat_minor": 5
}
