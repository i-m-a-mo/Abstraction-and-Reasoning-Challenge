{
 "cells": [
  {
   "cell_type": "code",
   "execution_count": 1,
   "id": "7e57bb90",
   "metadata": {},
   "outputs": [],
   "source": [
    "import numpy as np\n",
    "import pandas as pd\n",
    "\n",
    "import os\n",
    "import json\n",
    "from pathlib import Path\n",
    "\n",
    "import tensorflow.keras as keras\n",
    "from tensorflow.keras.callbacks import TensorBoard\n",
    "from tensorflow.keras import layers\n",
    "from tensorflow.keras.datasets import mnist\n",
    "from tensorflow.keras import backend as K\n",
    "from tensorflow.keras.utils import to_categorical\n",
    "from tensorflow.keras.models import Model\n",
    "from tensorflow.keras.models import Sequential\n",
    "\n",
    "import matplotlib.pyplot as plt\n",
    "from matplotlib import colors"
   ]
  },
  {
   "cell_type": "code",
   "execution_count": 2,
   "id": "b398b7a0",
   "metadata": {},
   "outputs": [],
   "source": [
    "data_path = Path('./kaggle_input/')\n",
    "training_path = data_path / 'training'      # 400 X-train ('train'), y-train('test') input-output pairs\n",
    "evaluation_path = data_path / 'evaluation'  # 400\n",
    "test_path = data_path / 'test'              # 100 pairs X-train ('train') (input-output),\n",
    "                                            #           y-train (input only) pairs\n",
    "\n",
    "training_tasks_files = sorted(os.listdir(training_path))#[1:]\n",
    "eval_tasks_files = sorted(os.listdir(evaluation_path))\n",
    "test_task_files = sorted(os.listdir(test_path))"
   ]
  },
  {
   "cell_type": "markdown",
   "id": "991208ba",
   "metadata": {},
   "source": [
    " "
   ]
  },
  {
   "cell_type": "code",
   "execution_count": 3,
   "id": "3bb2f0a7",
   "metadata": {},
   "outputs": [],
   "source": [
    "def load_files(path):\n",
    "    path_files = sorted(os.listdir(path))\n",
    "    tasks = []\n",
    "    for task_file in path_files:\n",
    "        with open(str(path / task_file), 'r') as f:\n",
    "            task = json.load(f)\n",
    "            tasks.append(task)\n",
    "    return tasks"
   ]
  },
  {
   "cell_type": "code",
   "execution_count": 4,
   "id": "279aeed7",
   "metadata": {},
   "outputs": [],
   "source": [
    "training_tasks = load_files(training_path)\n",
    "test_tasks = load_files(test_path)\n",
    "evaluation_tasks = load_files(evaluation_path)"
   ]
  },
  {
   "cell_type": "code",
   "execution_count": 5,
   "id": "ca0a3f69",
   "metadata": {},
   "outputs": [
    {
     "data": {
      "text/plain": [
       "{'test': [{'input': [[7, 0, 7], [7, 0, 7], [7, 7, 0]],\n",
       "   'output': [[7, 0, 7, 0, 0, 0, 7, 0, 7],\n",
       "    [7, 0, 7, 0, 0, 0, 7, 0, 7],\n",
       "    [7, 7, 0, 0, 0, 0, 7, 7, 0],\n",
       "    [7, 0, 7, 0, 0, 0, 7, 0, 7],\n",
       "    [7, 0, 7, 0, 0, 0, 7, 0, 7],\n",
       "    [7, 7, 0, 0, 0, 0, 7, 7, 0],\n",
       "    [7, 0, 7, 7, 0, 7, 0, 0, 0],\n",
       "    [7, 0, 7, 7, 0, 7, 0, 0, 0],\n",
       "    [7, 7, 0, 7, 7, 0, 0, 0, 0]]}],\n",
       " 'train': [{'input': [[0, 7, 7], [7, 7, 7], [0, 7, 7]],\n",
       "   'output': [[0, 0, 0, 0, 7, 7, 0, 7, 7],\n",
       "    [0, 0, 0, 7, 7, 7, 7, 7, 7],\n",
       "    [0, 0, 0, 0, 7, 7, 0, 7, 7],\n",
       "    [0, 7, 7, 0, 7, 7, 0, 7, 7],\n",
       "    [7, 7, 7, 7, 7, 7, 7, 7, 7],\n",
       "    [0, 7, 7, 0, 7, 7, 0, 7, 7],\n",
       "    [0, 0, 0, 0, 7, 7, 0, 7, 7],\n",
       "    [0, 0, 0, 7, 7, 7, 7, 7, 7],\n",
       "    [0, 0, 0, 0, 7, 7, 0, 7, 7]]},\n",
       "  {'input': [[4, 0, 4], [0, 0, 0], [0, 4, 0]],\n",
       "   'output': [[4, 0, 4, 0, 0, 0, 4, 0, 4],\n",
       "    [0, 0, 0, 0, 0, 0, 0, 0, 0],\n",
       "    [0, 4, 0, 0, 0, 0, 0, 4, 0],\n",
       "    [0, 0, 0, 0, 0, 0, 0, 0, 0],\n",
       "    [0, 0, 0, 0, 0, 0, 0, 0, 0],\n",
       "    [0, 0, 0, 0, 0, 0, 0, 0, 0],\n",
       "    [0, 0, 0, 4, 0, 4, 0, 0, 0],\n",
       "    [0, 0, 0, 0, 0, 0, 0, 0, 0],\n",
       "    [0, 0, 0, 0, 4, 0, 0, 0, 0]]},\n",
       "  {'input': [[0, 0, 0], [0, 0, 2], [2, 0, 2]],\n",
       "   'output': [[0, 0, 0, 0, 0, 0, 0, 0, 0],\n",
       "    [0, 0, 0, 0, 0, 0, 0, 0, 0],\n",
       "    [0, 0, 0, 0, 0, 0, 0, 0, 0],\n",
       "    [0, 0, 0, 0, 0, 0, 0, 0, 0],\n",
       "    [0, 0, 0, 0, 0, 0, 0, 0, 2],\n",
       "    [0, 0, 0, 0, 0, 0, 2, 0, 2],\n",
       "    [0, 0, 0, 0, 0, 0, 0, 0, 0],\n",
       "    [0, 0, 2, 0, 0, 0, 0, 0, 2],\n",
       "    [2, 0, 2, 0, 0, 0, 2, 0, 2]]},\n",
       "  {'input': [[6, 6, 0], [6, 0, 0], [0, 6, 6]],\n",
       "   'output': [[6, 6, 0, 6, 6, 0, 0, 0, 0],\n",
       "    [6, 0, 0, 6, 0, 0, 0, 0, 0],\n",
       "    [0, 6, 6, 0, 6, 6, 0, 0, 0],\n",
       "    [6, 6, 0, 0, 0, 0, 0, 0, 0],\n",
       "    [6, 0, 0, 0, 0, 0, 0, 0, 0],\n",
       "    [0, 6, 6, 0, 0, 0, 0, 0, 0],\n",
       "    [0, 0, 0, 6, 6, 0, 6, 6, 0],\n",
       "    [0, 0, 0, 6, 0, 0, 6, 0, 0],\n",
       "    [0, 0, 0, 0, 6, 6, 0, 6, 6]]},\n",
       "  {'input': [[2, 2, 2], [0, 0, 0], [0, 2, 2]],\n",
       "   'output': [[2, 2, 2, 2, 2, 2, 2, 2, 2],\n",
       "    [0, 0, 0, 0, 0, 0, 0, 0, 0],\n",
       "    [0, 2, 2, 0, 2, 2, 0, 2, 2],\n",
       "    [0, 0, 0, 0, 0, 0, 0, 0, 0],\n",
       "    [0, 0, 0, 0, 0, 0, 0, 0, 0],\n",
       "    [0, 0, 0, 0, 0, 0, 0, 0, 0],\n",
       "    [0, 0, 0, 2, 2, 2, 2, 2, 2],\n",
       "    [0, 0, 0, 0, 0, 0, 0, 0, 0],\n",
       "    [0, 0, 0, 0, 2, 2, 0, 2, 2]]}]}"
      ]
     },
     "execution_count": 5,
     "metadata": {},
     "output_type": "execute_result"
    }
   ],
   "source": [
    "training_tasks[0]#['test'][0]"
   ]
  },
  {
   "cell_type": "markdown",
   "id": "096f1e84",
   "metadata": {},
   "source": [
    " \n",
    " ---\n",
    " ---"
   ]
  },
  {
   "cell_type": "markdown",
   "id": "53d995e2",
   "metadata": {},
   "source": [
    "### 1. Create Train - Test - Split"
   ]
  },
  {
   "cell_type": "code",
   "execution_count": 6,
   "id": "9a4092f8",
   "metadata": {},
   "outputs": [],
   "source": [
    "Xs_test, ys_test, Xs_train, ys_train = [], [], [], []\n",
    "\n",
    "for task in training_tasks:\n",
    "    X_test, y_test, X_train, y_train = [], [], [], []\n",
    "\n",
    "    for pair in task[\"test\"]:\n",
    "        X_test.append(pair[\"input\"])\n",
    "        y_test.append(pair[\"output\"])      ### to be predicted !!!\n",
    "\n",
    "    for pair in task[\"train\"]:\n",
    "        X_train.append(pair[\"input\"])\n",
    "        y_train.append(pair[\"output\"])\n",
    "    \n",
    "    Xs_test.append(X_test)\n",
    "    ys_test.append(y_test)\n",
    "    Xs_train.append(X_train)\n",
    "    ys_train.append(y_train)"
   ]
  },
  {
   "cell_type": "code",
   "execution_count": 7,
   "id": "dbf42d0d",
   "metadata": {},
   "outputs": [
    {
     "data": {
      "text/plain": [
       "(400, 400, 400, 400)"
      ]
     },
     "execution_count": 7,
     "metadata": {},
     "output_type": "execute_result"
    }
   ],
   "source": [
    "len(Xs_train), len(ys_train), len(Xs_test), len(ys_test)"
   ]
  },
  {
   "cell_type": "code",
   "execution_count": 8,
   "id": "50f70bb3",
   "metadata": {},
   "outputs": [],
   "source": [
    "### put this in a fct later\n",
    "# cv2.resize(np.asarray(train_data['input']), dsize=(32, 32), interpolation=cv2.INTER_NEAREST))\n",
    "\n",
    "li=[]\n",
    "for X_train in Xs_train:\n",
    "    for e in X_train:\n",
    "        e = np.array(e)\n",
    "        e = np.pad(e, [(0, 32-e.shape[0]), (0, 32-e.shape[1])], mode='constant')\n",
    "        li.append(e)\n",
    "X_train_big = np.array(li)"
   ]
  },
  {
   "cell_type": "code",
   "execution_count": 9,
   "id": "33e7f53f",
   "metadata": {},
   "outputs": [],
   "source": [
    "X_train_big = X_train_big / 10.\n",
    "#X_train_big = X_train_big.reshape(1301,32,32, 1)  #(x_train.shape + (1,) )"
   ]
  },
  {
   "cell_type": "code",
   "execution_count": 10,
   "id": "01a752c8",
   "metadata": {},
   "outputs": [
    {
     "data": {
      "text/plain": [
       "(1301, 32, 32)"
      ]
     },
     "execution_count": 10,
     "metadata": {},
     "output_type": "execute_result"
    }
   ],
   "source": [
    "X_train_big.shape"
   ]
  },
  {
   "cell_type": "code",
   "execution_count": null,
   "id": "94188703",
   "metadata": {},
   "outputs": [],
   "source": []
  },
  {
   "cell_type": "code",
   "execution_count": 11,
   "id": "f3efcb9a",
   "metadata": {},
   "outputs": [],
   "source": [
    "li=[]\n",
    "for X_test in Xs_test:\n",
    "    for e in X_test:\n",
    "        e = np.array(e)\n",
    "        e = np.pad(e, [(0, 32-e.shape[0]), (0, 32-e.shape[1])], mode='constant')\n",
    "        li.append(e)\n",
    "X_test_big = np.array(li)"
   ]
  },
  {
   "cell_type": "code",
   "execution_count": 12,
   "id": "32ade5b3",
   "metadata": {},
   "outputs": [
    {
     "data": {
      "text/plain": [
       "(416, 32, 32)"
      ]
     },
     "execution_count": 12,
     "metadata": {},
     "output_type": "execute_result"
    }
   ],
   "source": [
    "X_test_big.shape"
   ]
  },
  {
   "cell_type": "code",
   "execution_count": 13,
   "id": "e7fb8ba6",
   "metadata": {},
   "outputs": [],
   "source": [
    "X_test_big = X_test_big / 10.\n",
    "#X_test_big = X_test_big.reshape(416,32,32, 1)  #(x_train.shape + (1,) )"
   ]
  },
  {
   "cell_type": "code",
   "execution_count": null,
   "id": "7e4a01ec",
   "metadata": {},
   "outputs": [],
   "source": []
  },
  {
   "cell_type": "code",
   "execution_count": 14,
   "id": "13d41436",
   "metadata": {},
   "outputs": [],
   "source": [
    "K.clear_session()\n",
    "\n",
    "latent_dim = 64 \n",
    "\n",
    "class Autoencoder(Model):\n",
    "    def __init__(self, latent_dim):\n",
    "        super(Autoencoder, self).__init__()\n",
    "        self.latent_dim = latent_dim   \n",
    "        self.encoder = Sequential([\n",
    "            layers.Flatten(),\n",
    "            layers.Dense(latent_dim, activation='relu'),\n",
    "        ])\n",
    "        self.decoder = Sequential([\n",
    "            layers.Dense(1024, activation='sigmoid'),\n",
    "            layers.Reshape((32, 32))\n",
    "        ])\n",
    "\n",
    "    def call(self, x):\n",
    "        encoded = self.encoder(x)\n",
    "        decoded = self.decoder(encoded)\n",
    "        return decoded\n",
    "\n",
    "autoencoder = Autoencoder(latent_dim)"
   ]
  },
  {
   "cell_type": "code",
   "execution_count": 15,
   "id": "ef8afeed",
   "metadata": {},
   "outputs": [],
   "source": [
    "autoencoder.compile(optimizer='adam', \n",
    "                    loss='mean_squared_error',\n",
    "                    metrics=['accuracy'])"
   ]
  },
  {
   "cell_type": "code",
   "execution_count": null,
   "id": "300f88cc",
   "metadata": {},
   "outputs": [],
   "source": [
    "autoencoder.fit(X_train_big, X_train_big,\n",
    "                epochs=100,\n",
    "                batch_size=5000,\n",
    "                #shuffle=True,\n",
    "                validation_data=(X_test_big, X_test_big))"
   ]
  },
  {
   "cell_type": "code",
   "execution_count": null,
   "id": "d69f9cdd",
   "metadata": {},
   "outputs": [],
   "source": []
  },
  {
   "cell_type": "code",
   "execution_count": null,
   "id": "15d4cded",
   "metadata": {},
   "outputs": [],
   "source": [
    "encoded_imgs = autoencoder.encoder(X_test_big).numpy()\n",
    "decoded_imgs = autoencoder.decoder(encoded_imgs).numpy()"
   ]
  },
  {
   "cell_type": "code",
   "execution_count": null,
   "id": "d6e51ba9",
   "metadata": {},
   "outputs": [],
   "source": []
  },
  {
   "cell_type": "code",
   "execution_count": null,
   "id": "6f6ab4b5",
   "metadata": {},
   "outputs": [],
   "source": [
    "n = 10\n",
    "plt.figure(figsize=(20, 4))\n",
    "for i in range(n):\n",
    "  # display original\n",
    "    ax = plt.subplot(2, n, i + 1)\n",
    "    plt.imshow(X_test_big[i])\n",
    "    plt.title(\"original\")\n",
    "    plt.gray()\n",
    "    ax.get_xaxis().set_visible(False)\n",
    "    ax.get_yaxis().set_visible(False)\n",
    "\n",
    "  # display reconstruction\n",
    "    ax = plt.subplot(2, n, i + 1 + n)\n",
    "    plt.imshow(decoded_imgs[i])\n",
    "    plt.title(\"reconstructed\")\n",
    "    plt.gray()\n",
    "    ax.get_xaxis().set_visible(False)\n",
    "    ax.get_yaxis().set_visible(False)\n",
    "plt.show()"
   ]
  },
  {
   "cell_type": "code",
   "execution_count": null,
   "id": "09e67958",
   "metadata": {},
   "outputs": [],
   "source": []
  },
  {
   "cell_type": "code",
   "execution_count": null,
   "id": "45961de8",
   "metadata": {},
   "outputs": [],
   "source": []
  },
  {
   "cell_type": "code",
   "execution_count": null,
   "id": "20800ef1",
   "metadata": {},
   "outputs": [],
   "source": []
  },
  {
   "cell_type": "code",
   "execution_count": null,
   "id": "1c7063b5",
   "metadata": {},
   "outputs": [],
   "source": []
  },
  {
   "cell_type": "markdown",
   "id": "02d794b6",
   "metadata": {},
   "source": [
    "## get the ys involved too???\n"
   ]
  },
  {
   "cell_type": "code",
   "execution_count": 16,
   "id": "c4c137bf",
   "metadata": {},
   "outputs": [],
   "source": [
    "li=[]\n",
    "for y_train in ys_train:\n",
    "    for e in y_train:\n",
    "        e = np.array(e)\n",
    "        e = np.pad(e, [(0, 32-e.shape[0]), (0, 32-e.shape[1])], mode='constant')\n",
    "        li.append(e)\n",
    "y_train_big = np.array(li)"
   ]
  },
  {
   "cell_type": "code",
   "execution_count": 17,
   "id": "c9051b5d",
   "metadata": {},
   "outputs": [
    {
     "data": {
      "text/plain": [
       "(1301, 32, 32)"
      ]
     },
     "execution_count": 17,
     "metadata": {},
     "output_type": "execute_result"
    }
   ],
   "source": [
    "y_train_big.shape"
   ]
  },
  {
   "cell_type": "code",
   "execution_count": 18,
   "id": "119b229d",
   "metadata": {},
   "outputs": [],
   "source": [
    "y_train_big = y_train_big / 10.\n",
    "#y_train_big = y_train_big.reshape(1301,32,32, 1)  #(x_train.shape + (1,) )"
   ]
  },
  {
   "cell_type": "code",
   "execution_count": 19,
   "id": "34dc6539",
   "metadata": {},
   "outputs": [
    {
     "data": {
      "text/plain": [
       "(1301, 32, 32)"
      ]
     },
     "execution_count": 19,
     "metadata": {},
     "output_type": "execute_result"
    }
   ],
   "source": [
    "y_train_big.shape"
   ]
  },
  {
   "cell_type": "code",
   "execution_count": null,
   "id": "21044b3c",
   "metadata": {},
   "outputs": [],
   "source": []
  },
  {
   "cell_type": "code",
   "execution_count": 20,
   "id": "17616e11",
   "metadata": {},
   "outputs": [],
   "source": [
    "li=[]\n",
    "for y_test in ys_test:\n",
    "    for e in y_test:\n",
    "        e = np.array(e)\n",
    "        e = np.pad(e, [(0, 32-e.shape[0]), (0, 32-e.shape[1])], mode='constant')\n",
    "        li.append(e)\n",
    "y_test_big = np.array(li)"
   ]
  },
  {
   "cell_type": "code",
   "execution_count": 21,
   "id": "d50c740f",
   "metadata": {},
   "outputs": [
    {
     "data": {
      "text/plain": [
       "(416, 32, 32)"
      ]
     },
     "execution_count": 21,
     "metadata": {},
     "output_type": "execute_result"
    }
   ],
   "source": [
    "y_test_big.shape"
   ]
  },
  {
   "cell_type": "code",
   "execution_count": 22,
   "id": "839af022",
   "metadata": {},
   "outputs": [],
   "source": [
    "y_test_big = y_test_big / 10."
   ]
  },
  {
   "cell_type": "code",
   "execution_count": 23,
   "id": "a48d0123",
   "metadata": {},
   "outputs": [],
   "source": [
    "#y_test_big = y_test_big.reshape(416,32,32, 1)  #(x_train.shape + (1,) )"
   ]
  },
  {
   "cell_type": "code",
   "execution_count": 24,
   "id": "de9a2505",
   "metadata": {},
   "outputs": [
    {
     "data": {
      "text/plain": [
       "(416, 32, 32)"
      ]
     },
     "execution_count": 24,
     "metadata": {},
     "output_type": "execute_result"
    }
   ],
   "source": [
    "y_test_big.shape"
   ]
  },
  {
   "cell_type": "code",
   "execution_count": null,
   "id": "dcb84804",
   "metadata": {},
   "outputs": [],
   "source": []
  },
  {
   "cell_type": "code",
   "execution_count": 25,
   "id": "cc322672",
   "metadata": {},
   "outputs": [],
   "source": [
    "#X_train_big = X_train_big.reshape(1301,32,32, 1)\n",
    "#X_test_big = X_test_big.reshape(416,32,32, 1) "
   ]
  },
  {
   "cell_type": "code",
   "execution_count": 26,
   "id": "f234eb09",
   "metadata": {},
   "outputs": [
    {
     "data": {
      "text/plain": [
       "((1301, 32, 32), (416, 32, 32))"
      ]
     },
     "execution_count": 26,
     "metadata": {},
     "output_type": "execute_result"
    }
   ],
   "source": [
    "X_train_big.shape, X_test_big.shape"
   ]
  },
  {
   "cell_type": "code",
   "execution_count": 27,
   "id": "7741caf2",
   "metadata": {
    "collapsed": true
   },
   "outputs": [
    {
     "name": "stdout",
     "output_type": "stream",
     "text": [
      "Epoch 1/100\n",
      "1/1 [==============================] - 2s 2s/step - loss: 0.2416 - accuracy: 0.0375 - val_loss: 0.2380 - val_accuracy: 0.0286\n",
      "Epoch 2/100\n",
      "1/1 [==============================] - 0s 103ms/step - loss: 0.2409 - accuracy: 0.0308 - val_loss: 0.2371 - val_accuracy: 0.0297\n",
      "Epoch 3/100\n",
      "1/1 [==============================] - 0s 101ms/step - loss: 0.2402 - accuracy: 0.0311 - val_loss: 0.2362 - val_accuracy: 0.0297\n",
      "Epoch 4/100\n",
      "1/1 [==============================] - 0s 84ms/step - loss: 0.2393 - accuracy: 0.0323 - val_loss: 0.2350 - val_accuracy: 0.0304\n",
      "Epoch 5/100\n",
      "1/1 [==============================] - 0s 103ms/step - loss: 0.2382 - accuracy: 0.0333 - val_loss: 0.2336 - val_accuracy: 0.0299\n",
      "Epoch 6/100\n",
      "1/1 [==============================] - 0s 94ms/step - loss: 0.2370 - accuracy: 0.0337 - val_loss: 0.2319 - val_accuracy: 0.0303\n",
      "Epoch 7/100\n",
      "1/1 [==============================] - 0s 92ms/step - loss: 0.2355 - accuracy: 0.0350 - val_loss: 0.2299 - val_accuracy: 0.0316\n",
      "Epoch 8/100\n",
      "1/1 [==============================] - 0s 77ms/step - loss: 0.2337 - accuracy: 0.0366 - val_loss: 0.2275 - val_accuracy: 0.0334\n",
      "Epoch 9/100\n",
      "1/1 [==============================] - 0s 116ms/step - loss: 0.2316 - accuracy: 0.0380 - val_loss: 0.2248 - val_accuracy: 0.0349\n",
      "Epoch 10/100\n",
      "1/1 [==============================] - 0s 87ms/step - loss: 0.2292 - accuracy: 0.0395 - val_loss: 0.2217 - val_accuracy: 0.0370\n",
      "Epoch 11/100\n",
      "1/1 [==============================] - 0s 83ms/step - loss: 0.2266 - accuracy: 0.0409 - val_loss: 0.2183 - val_accuracy: 0.0381\n",
      "Epoch 12/100\n",
      "1/1 [==============================] - 0s 93ms/step - loss: 0.2236 - accuracy: 0.0435 - val_loss: 0.2146 - val_accuracy: 0.0393\n",
      "Epoch 13/100\n",
      "1/1 [==============================] - 0s 103ms/step - loss: 0.2204 - accuracy: 0.0449 - val_loss: 0.2106 - val_accuracy: 0.0401\n",
      "Epoch 14/100\n",
      "1/1 [==============================] - 0s 102ms/step - loss: 0.2169 - accuracy: 0.0466 - val_loss: 0.2065 - val_accuracy: 0.0424\n",
      "Epoch 15/100\n",
      "1/1 [==============================] - 0s 106ms/step - loss: 0.2133 - accuracy: 0.0483 - val_loss: 0.2022 - val_accuracy: 0.0449\n",
      "Epoch 16/100\n",
      "1/1 [==============================] - 0s 161ms/step - loss: 0.2095 - accuracy: 0.0500 - val_loss: 0.1978 - val_accuracy: 0.0471\n",
      "Epoch 17/100\n",
      "1/1 [==============================] - 0s 94ms/step - loss: 0.2056 - accuracy: 0.0516 - val_loss: 0.1934 - val_accuracy: 0.0491\n",
      "Epoch 18/100\n",
      "1/1 [==============================] - 0s 84ms/step - loss: 0.2016 - accuracy: 0.0533 - val_loss: 0.1889 - val_accuracy: 0.0502\n",
      "Epoch 19/100\n",
      "1/1 [==============================] - 0s 92ms/step - loss: 0.1976 - accuracy: 0.0550 - val_loss: 0.1844 - val_accuracy: 0.0508\n",
      "Epoch 20/100\n",
      "1/1 [==============================] - 0s 102ms/step - loss: 0.1935 - accuracy: 0.0564 - val_loss: 0.1799 - val_accuracy: 0.0520\n",
      "Epoch 21/100\n",
      "1/1 [==============================] - 0s 104ms/step - loss: 0.1893 - accuracy: 0.0577 - val_loss: 0.1754 - val_accuracy: 0.0539\n",
      "Epoch 22/100\n",
      "1/1 [==============================] - 0s 84ms/step - loss: 0.1851 - accuracy: 0.0589 - val_loss: 0.1709 - val_accuracy: 0.0551\n",
      "Epoch 23/100\n",
      "1/1 [==============================] - 0s 88ms/step - loss: 0.1809 - accuracy: 0.0601 - val_loss: 0.1664 - val_accuracy: 0.0562\n",
      "Epoch 24/100\n",
      "1/1 [==============================] - 0s 77ms/step - loss: 0.1766 - accuracy: 0.0613 - val_loss: 0.1619 - val_accuracy: 0.0573\n",
      "Epoch 25/100\n",
      "1/1 [==============================] - 0s 91ms/step - loss: 0.1723 - accuracy: 0.0623 - val_loss: 0.1573 - val_accuracy: 0.0578\n",
      "Epoch 26/100\n",
      "1/1 [==============================] - 0s 107ms/step - loss: 0.1681 - accuracy: 0.0633 - val_loss: 0.1528 - val_accuracy: 0.0590\n",
      "Epoch 27/100\n",
      "1/1 [==============================] - 0s 91ms/step - loss: 0.1638 - accuracy: 0.0649 - val_loss: 0.1484 - val_accuracy: 0.0604\n",
      "Epoch 28/100\n",
      "1/1 [==============================] - 0s 95ms/step - loss: 0.1595 - accuracy: 0.0661 - val_loss: 0.1439 - val_accuracy: 0.0614\n",
      "Epoch 29/100\n",
      "1/1 [==============================] - 0s 95ms/step - loss: 0.1552 - accuracy: 0.0673 - val_loss: 0.1396 - val_accuracy: 0.0620\n",
      "Epoch 30/100\n",
      "1/1 [==============================] - 0s 79ms/step - loss: 0.1510 - accuracy: 0.0684 - val_loss: 0.1352 - val_accuracy: 0.0623\n",
      "Epoch 31/100\n",
      "1/1 [==============================] - 0s 97ms/step - loss: 0.1468 - accuracy: 0.0692 - val_loss: 0.1310 - val_accuracy: 0.0625\n",
      "Epoch 32/100\n",
      "1/1 [==============================] - 0s 94ms/step - loss: 0.1426 - accuracy: 0.0700 - val_loss: 0.1269 - val_accuracy: 0.0631\n",
      "Epoch 33/100\n",
      "1/1 [==============================] - 0s 103ms/step - loss: 0.1386 - accuracy: 0.0707 - val_loss: 0.1228 - val_accuracy: 0.0636\n",
      "Epoch 34/100\n",
      "1/1 [==============================] - 0s 88ms/step - loss: 0.1345 - accuracy: 0.0712 - val_loss: 0.1189 - val_accuracy: 0.0645\n",
      "Epoch 35/100\n",
      "1/1 [==============================] - 0s 102ms/step - loss: 0.1306 - accuracy: 0.0717 - val_loss: 0.1150 - val_accuracy: 0.0652\n",
      "Epoch 36/100\n",
      "1/1 [==============================] - 0s 84ms/step - loss: 0.1267 - accuracy: 0.0718 - val_loss: 0.1113 - val_accuracy: 0.0651\n",
      "Epoch 37/100\n",
      "1/1 [==============================] - 0s 82ms/step - loss: 0.1230 - accuracy: 0.0722 - val_loss: 0.1077 - val_accuracy: 0.0651\n",
      "Epoch 38/100\n",
      "1/1 [==============================] - 0s 91ms/step - loss: 0.1193 - accuracy: 0.0723 - val_loss: 0.1043 - val_accuracy: 0.0651\n",
      "Epoch 39/100\n",
      "1/1 [==============================] - 0s 104ms/step - loss: 0.1158 - accuracy: 0.0724 - val_loss: 0.1009 - val_accuracy: 0.0651\n",
      "Epoch 40/100\n",
      "1/1 [==============================] - 0s 92ms/step - loss: 0.1123 - accuracy: 0.0722 - val_loss: 0.0977 - val_accuracy: 0.0648\n",
      "Epoch 41/100\n",
      "1/1 [==============================] - 0s 84ms/step - loss: 0.1089 - accuracy: 0.0723 - val_loss: 0.0946 - val_accuracy: 0.0648\n",
      "Epoch 42/100\n",
      "1/1 [==============================] - 0s 78ms/step - loss: 0.1057 - accuracy: 0.0723 - val_loss: 0.0916 - val_accuracy: 0.0647\n",
      "Epoch 43/100\n",
      "1/1 [==============================] - 0s 98ms/step - loss: 0.1025 - accuracy: 0.0722 - val_loss: 0.0888 - val_accuracy: 0.0645\n",
      "Epoch 44/100\n",
      "1/1 [==============================] - 0s 81ms/step - loss: 0.0995 - accuracy: 0.0720 - val_loss: 0.0860 - val_accuracy: 0.0642\n",
      "Epoch 45/100\n",
      "1/1 [==============================] - 0s 91ms/step - loss: 0.0965 - accuracy: 0.0717 - val_loss: 0.0834 - val_accuracy: 0.0642\n",
      "Epoch 46/100\n",
      "1/1 [==============================] - 0s 101ms/step - loss: 0.0937 - accuracy: 0.0712 - val_loss: 0.0809 - val_accuracy: 0.0634\n",
      "Epoch 47/100\n",
      "1/1 [==============================] - 0s 82ms/step - loss: 0.0910 - accuracy: 0.0707 - val_loss: 0.0785 - val_accuracy: 0.0630\n",
      "Epoch 48/100\n",
      "1/1 [==============================] - 0s 101ms/step - loss: 0.0883 - accuracy: 0.0702 - val_loss: 0.0762 - val_accuracy: 0.0627\n",
      "Epoch 49/100\n",
      "1/1 [==============================] - 0s 81ms/step - loss: 0.0858 - accuracy: 0.0696 - val_loss: 0.0739 - val_accuracy: 0.0623\n",
      "Epoch 50/100\n",
      "1/1 [==============================] - 0s 96ms/step - loss: 0.0833 - accuracy: 0.0692 - val_loss: 0.0718 - val_accuracy: 0.0621\n",
      "Epoch 51/100\n",
      "1/1 [==============================] - 0s 95ms/step - loss: 0.0809 - accuracy: 0.0688 - val_loss: 0.0698 - val_accuracy: 0.0617\n",
      "Epoch 52/100\n",
      "1/1 [==============================] - 0s 106ms/step - loss: 0.0787 - accuracy: 0.0682 - val_loss: 0.0678 - val_accuracy: 0.0608\n",
      "Epoch 53/100\n",
      "1/1 [==============================] - 0s 86ms/step - loss: 0.0765 - accuracy: 0.0675 - val_loss: 0.0660 - val_accuracy: 0.0602\n",
      "Epoch 54/100\n",
      "1/1 [==============================] - 0s 119ms/step - loss: 0.0744 - accuracy: 0.0674 - val_loss: 0.0642 - val_accuracy: 0.0597\n",
      "Epoch 55/100\n",
      "1/1 [==============================] - 0s 95ms/step - loss: 0.0723 - accuracy: 0.0665 - val_loss: 0.0625 - val_accuracy: 0.0591\n",
      "Epoch 56/100\n",
      "1/1 [==============================] - 0s 105ms/step - loss: 0.0704 - accuracy: 0.0660 - val_loss: 0.0609 - val_accuracy: 0.0583\n",
      "Epoch 57/100\n",
      "1/1 [==============================] - 0s 82ms/step - loss: 0.0685 - accuracy: 0.0655 - val_loss: 0.0593 - val_accuracy: 0.0576\n",
      "Epoch 58/100\n",
      "1/1 [==============================] - 0s 82ms/step - loss: 0.0667 - accuracy: 0.0649 - val_loss: 0.0578 - val_accuracy: 0.0572\n",
      "Epoch 59/100\n"
     ]
    },
    {
     "name": "stdout",
     "output_type": "stream",
     "text": [
      "1/1 [==============================] - 0s 78ms/step - loss: 0.0649 - accuracy: 0.0645 - val_loss: 0.0563 - val_accuracy: 0.0565\n",
      "Epoch 60/100\n",
      "1/1 [==============================] - 0s 81ms/step - loss: 0.0633 - accuracy: 0.0637 - val_loss: 0.0550 - val_accuracy: 0.0558\n",
      "Epoch 61/100\n",
      "1/1 [==============================] - 0s 85ms/step - loss: 0.0617 - accuracy: 0.0630 - val_loss: 0.0537 - val_accuracy: 0.0555\n",
      "Epoch 62/100\n",
      "1/1 [==============================] - 0s 90ms/step - loss: 0.0601 - accuracy: 0.0622 - val_loss: 0.0524 - val_accuracy: 0.0545\n",
      "Epoch 63/100\n",
      "1/1 [==============================] - 0s 86ms/step - loss: 0.0586 - accuracy: 0.0613 - val_loss: 0.0512 - val_accuracy: 0.0542\n",
      "Epoch 64/100\n",
      "1/1 [==============================] - 0s 96ms/step - loss: 0.0572 - accuracy: 0.0605 - val_loss: 0.0500 - val_accuracy: 0.0539\n",
      "Epoch 65/100\n",
      "1/1 [==============================] - 0s 86ms/step - loss: 0.0558 - accuracy: 0.0597 - val_loss: 0.0489 - val_accuracy: 0.0530\n",
      "Epoch 66/100\n",
      "1/1 [==============================] - 0s 72ms/step - loss: 0.0545 - accuracy: 0.0590 - val_loss: 0.0478 - val_accuracy: 0.0528\n",
      "Epoch 67/100\n",
      "1/1 [==============================] - 0s 85ms/step - loss: 0.0532 - accuracy: 0.0584 - val_loss: 0.0468 - val_accuracy: 0.0521\n",
      "Epoch 68/100\n",
      "1/1 [==============================] - 0s 109ms/step - loss: 0.0520 - accuracy: 0.0576 - val_loss: 0.0458 - val_accuracy: 0.0514\n",
      "Epoch 69/100\n",
      "1/1 [==============================] - 0s 79ms/step - loss: 0.0508 - accuracy: 0.0570 - val_loss: 0.0449 - val_accuracy: 0.0503\n",
      "Epoch 70/100\n",
      "1/1 [==============================] - 0s 79ms/step - loss: 0.0497 - accuracy: 0.0564 - val_loss: 0.0440 - val_accuracy: 0.0501\n",
      "Epoch 71/100\n",
      "1/1 [==============================] - 0s 68ms/step - loss: 0.0486 - accuracy: 0.0556 - val_loss: 0.0431 - val_accuracy: 0.0494\n",
      "Epoch 72/100\n",
      "1/1 [==============================] - 0s 96ms/step - loss: 0.0475 - accuracy: 0.0551 - val_loss: 0.0423 - val_accuracy: 0.0490\n",
      "Epoch 73/100\n",
      "1/1 [==============================] - 0s 96ms/step - loss: 0.0465 - accuracy: 0.0544 - val_loss: 0.0415 - val_accuracy: 0.0487\n",
      "Epoch 74/100\n",
      "1/1 [==============================] - 0s 81ms/step - loss: 0.0455 - accuracy: 0.0539 - val_loss: 0.0407 - val_accuracy: 0.0479\n",
      "Epoch 75/100\n",
      "1/1 [==============================] - 0s 80ms/step - loss: 0.0446 - accuracy: 0.0533 - val_loss: 0.0400 - val_accuracy: 0.0473\n",
      "Epoch 76/100\n",
      "1/1 [==============================] - 0s 92ms/step - loss: 0.0437 - accuracy: 0.0527 - val_loss: 0.0393 - val_accuracy: 0.0469\n",
      "Epoch 77/100\n",
      "1/1 [==============================] - 0s 88ms/step - loss: 0.0428 - accuracy: 0.0519 - val_loss: 0.0386 - val_accuracy: 0.0464\n",
      "Epoch 78/100\n",
      "1/1 [==============================] - 0s 96ms/step - loss: 0.0420 - accuracy: 0.0514 - val_loss: 0.0379 - val_accuracy: 0.0456\n",
      "Epoch 79/100\n",
      "1/1 [==============================] - 0s 89ms/step - loss: 0.0412 - accuracy: 0.0504 - val_loss: 0.0373 - val_accuracy: 0.0444\n",
      "Epoch 80/100\n",
      "1/1 [==============================] - 0s 70ms/step - loss: 0.0404 - accuracy: 0.0490 - val_loss: 0.0367 - val_accuracy: 0.0438\n",
      "Epoch 81/100\n",
      "1/1 [==============================] - 0s 62ms/step - loss: 0.0396 - accuracy: 0.0481 - val_loss: 0.0361 - val_accuracy: 0.0429\n",
      "Epoch 82/100\n",
      "1/1 [==============================] - 0s 59ms/step - loss: 0.0389 - accuracy: 0.0464 - val_loss: 0.0355 - val_accuracy: 0.0414\n",
      "Epoch 83/100\n",
      "1/1 [==============================] - 0s 74ms/step - loss: 0.0382 - accuracy: 0.0450 - val_loss: 0.0350 - val_accuracy: 0.0403\n",
      "Epoch 84/100\n",
      "1/1 [==============================] - 0s 69ms/step - loss: 0.0375 - accuracy: 0.0436 - val_loss: 0.0344 - val_accuracy: 0.0388\n",
      "Epoch 85/100\n",
      "1/1 [==============================] - 0s 69ms/step - loss: 0.0369 - accuracy: 0.0426 - val_loss: 0.0339 - val_accuracy: 0.0382\n",
      "Epoch 86/100\n",
      "1/1 [==============================] - 0s 84ms/step - loss: 0.0363 - accuracy: 0.0420 - val_loss: 0.0334 - val_accuracy: 0.0380\n",
      "Epoch 87/100\n",
      "1/1 [==============================] - 0s 97ms/step - loss: 0.0357 - accuracy: 0.0415 - val_loss: 0.0330 - val_accuracy: 0.0372\n",
      "Epoch 88/100\n",
      "1/1 [==============================] - 0s 70ms/step - loss: 0.0351 - accuracy: 0.0411 - val_loss: 0.0325 - val_accuracy: 0.0372\n",
      "Epoch 89/100\n",
      "1/1 [==============================] - 0s 76ms/step - loss: 0.0345 - accuracy: 0.0408 - val_loss: 0.0321 - val_accuracy: 0.0367\n",
      "Epoch 90/100\n",
      "1/1 [==============================] - 0s 78ms/step - loss: 0.0339 - accuracy: 0.0407 - val_loss: 0.0317 - val_accuracy: 0.0366\n",
      "Epoch 91/100\n",
      "1/1 [==============================] - 0s 99ms/step - loss: 0.0334 - accuracy: 0.0406 - val_loss: 0.0312 - val_accuracy: 0.0368\n",
      "Epoch 92/100\n",
      "1/1 [==============================] - 0s 90ms/step - loss: 0.0329 - accuracy: 0.0406 - val_loss: 0.0308 - val_accuracy: 0.0369\n",
      "Epoch 93/100\n",
      "1/1 [==============================] - 0s 72ms/step - loss: 0.0324 - accuracy: 0.0407 - val_loss: 0.0305 - val_accuracy: 0.0366\n",
      "Epoch 94/100\n",
      "1/1 [==============================] - 0s 69ms/step - loss: 0.0319 - accuracy: 0.0406 - val_loss: 0.0301 - val_accuracy: 0.0366\n",
      "Epoch 95/100\n",
      "1/1 [==============================] - 0s 78ms/step - loss: 0.0315 - accuracy: 0.0408 - val_loss: 0.0297 - val_accuracy: 0.0364\n",
      "Epoch 96/100\n",
      "1/1 [==============================] - 0s 74ms/step - loss: 0.0310 - accuracy: 0.0409 - val_loss: 0.0294 - val_accuracy: 0.0363\n",
      "Epoch 97/100\n",
      "1/1 [==============================] - 0s 66ms/step - loss: 0.0306 - accuracy: 0.0410 - val_loss: 0.0290 - val_accuracy: 0.0367\n",
      "Epoch 98/100\n",
      "1/1 [==============================] - 0s 60ms/step - loss: 0.0301 - accuracy: 0.0411 - val_loss: 0.0287 - val_accuracy: 0.0370\n",
      "Epoch 99/100\n",
      "1/1 [==============================] - 0s 56ms/step - loss: 0.0297 - accuracy: 0.0413 - val_loss: 0.0284 - val_accuracy: 0.0368\n",
      "Epoch 100/100\n",
      "1/1 [==============================] - 0s 204ms/step - loss: 0.0293 - accuracy: 0.0412 - val_loss: 0.0281 - val_accuracy: 0.0368\n"
     ]
    },
    {
     "data": {
      "text/plain": [
       "<tensorflow.python.keras.callbacks.History at 0x7fc2dc60e3c8>"
      ]
     },
     "execution_count": 27,
     "metadata": {},
     "output_type": "execute_result"
    }
   ],
   "source": [
    "autoencoder.fit(X_train_big, y_train_big,\n",
    "                epochs=100,\n",
    "                batch_size=5000,\n",
    "                #shuffle=True,\n",
    "                validation_data=(X_test_big, y_test_big))"
   ]
  },
  {
   "cell_type": "code",
   "execution_count": 82,
   "id": "78f9080e",
   "metadata": {},
   "outputs": [
    {
     "name": "stdout",
     "output_type": "stream",
     "text": [
      "Model: \"sequential\"\n",
      "_________________________________________________________________\n",
      "Layer (type)                 Output Shape              Param #   \n",
      "=================================================================\n",
      "flatten (Flatten)            (None, 1024)              0         \n",
      "_________________________________________________________________\n",
      "dense (Dense)                (None, 64)                65600     \n",
      "=================================================================\n",
      "Total params: 65,600\n",
      "Trainable params: 65,600\n",
      "Non-trainable params: 0\n",
      "_________________________________________________________________\n"
     ]
    }
   ],
   "source": [
    "autoencoder.encoder.summary()"
   ]
  },
  {
   "cell_type": "code",
   "execution_count": 83,
   "id": "20c06976",
   "metadata": {},
   "outputs": [
    {
     "name": "stdout",
     "output_type": "stream",
     "text": [
      "Model: \"sequential_1\"\n",
      "_________________________________________________________________\n",
      "Layer (type)                 Output Shape              Param #   \n",
      "=================================================================\n",
      "dense_1 (Dense)              (None, 1024)              66560     \n",
      "_________________________________________________________________\n",
      "reshape (Reshape)            (None, 32, 32)            0         \n",
      "=================================================================\n",
      "Total params: 66,560\n",
      "Trainable params: 66,560\n",
      "Non-trainable params: 0\n",
      "_________________________________________________________________\n"
     ]
    }
   ],
   "source": [
    "autoencoder.decoder.summary()"
   ]
  },
  {
   "cell_type": "code",
   "execution_count": null,
   "id": "56c97e60",
   "metadata": {},
   "outputs": [],
   "source": []
  },
  {
   "cell_type": "code",
   "execution_count": null,
   "id": "aa6732b1",
   "metadata": {},
   "outputs": [],
   "source": []
  },
  {
   "cell_type": "code",
   "execution_count": 28,
   "id": "9402fcae",
   "metadata": {},
   "outputs": [],
   "source": [
    "w = X_train_big[125:126]#.shape"
   ]
  },
  {
   "cell_type": "code",
   "execution_count": 29,
   "id": "08afcc20",
   "metadata": {
    "scrolled": true
   },
   "outputs": [
    {
     "data": {
      "text/plain": [
       "(1, 32, 32)"
      ]
     },
     "execution_count": 29,
     "metadata": {},
     "output_type": "execute_result"
    }
   ],
   "source": [
    "w.shape"
   ]
  },
  {
   "cell_type": "code",
   "execution_count": 30,
   "id": "eafdcfe7",
   "metadata": {},
   "outputs": [],
   "source": [
    "v = w*10"
   ]
  },
  {
   "cell_type": "code",
   "execution_count": 31,
   "id": "2573f880",
   "metadata": {},
   "outputs": [],
   "source": [
    "pred = autoencoder.predict(w)#.reshape(1,30,30)"
   ]
  },
  {
   "cell_type": "code",
   "execution_count": 32,
   "id": "7161fcb1",
   "metadata": {},
   "outputs": [
    {
     "data": {
      "text/plain": [
       "(1, 32, 32)"
      ]
     },
     "execution_count": 32,
     "metadata": {},
     "output_type": "execute_result"
    }
   ],
   "source": [
    "pred.shape"
   ]
  },
  {
   "cell_type": "code",
   "execution_count": 33,
   "id": "67ad9e6b",
   "metadata": {},
   "outputs": [],
   "source": [
    "new_arr = np.around(pred,1)*10"
   ]
  },
  {
   "cell_type": "code",
   "execution_count": 34,
   "id": "7a29ca79",
   "metadata": {},
   "outputs": [
    {
     "data": {
      "text/plain": [
       "<matplotlib.image.AxesImage at 0x7fc2e3cb6518>"
      ]
     },
     "execution_count": 34,
     "metadata": {},
     "output_type": "execute_result"
    },
    {
     "data": {
      "image/png": "[encoded data removed]",
      "text/plain": [
       "<Figure size 432x288 with 1 Axes>"
      ]
     },
     "metadata": {
      "needs_background": "light"
     },
     "output_type": "display_data"
    }
   ],
   "source": [
    "cmap = colors.ListedColormap(\n",
    "            ['#000000', '#0074D9','#FF4136','#2ECC40','#FFDC00',\n",
    "             '#AAAAAA', '#F012BE', '#FF851B', '#7FDBFF', '#870C25'])\n",
    "norm = colors.Normalize(vmin=0, vmax=9)\n",
    "plt.imshow(v[0], cmap=cmap, norm=norm)"
   ]
  },
  {
   "cell_type": "code",
   "execution_count": 35,
   "id": "f88ab0b0",
   "metadata": {},
   "outputs": [
    {
     "data": {
      "text/plain": [
       "<matplotlib.image.AxesImage at 0x7fc2dd0f2710>"
      ]
     },
     "execution_count": 35,
     "metadata": {},
     "output_type": "execute_result"
    },
    {
     "data": {
      "image/png": "[encoded data removed]",
      "text/plain": [
       "<Figure size 432x288 with 1 Axes>"
      ]
     },
     "metadata": {
      "needs_background": "light"
     },
     "output_type": "display_data"
    }
   ],
   "source": [
    "plt.imshow(new_arr[0], cmap=cmap, norm=norm)"
   ]
  },
  {
   "cell_type": "code",
   "execution_count": null,
   "id": "2783b676",
   "metadata": {},
   "outputs": [],
   "source": []
  },
  {
   "cell_type": "code",
   "execution_count": 57,
   "id": "8f4c8f70",
   "metadata": {},
   "outputs": [],
   "source": [
    "x = X_train_big[125:126]\n",
    "# print(x.shape)\n",
    "# encoded_imgs = autoencoder.encoder(x.reshape((1,32,32) +(1,)))\n",
    "# decoded_imgs = autoencoder.decoder(encoded_imgs).numpy()\n",
    "\n",
    "pred_x = autoencoder.predict(x.reshape(1,32,32,1))\n",
    "pred_x = pred_x.reshape(32,32)\n",
    "pred_x = np.around(pred_x,1)*10\n",
    "\n",
    "     \n",
    "\n",
    "x = (x.reshape(32,32))*10\n",
    "\n",
    "y = y_train_big[125]*10\n",
    "\n",
    "\n",
    "\n",
    "test = X_test_big[40]*10\n",
    "\n",
    "test = (test.reshape(32,32))#*10\n",
    "\n",
    "encoded_imgs2 = autoencoder.encoder((X_test_big[125:126]).reshape(X_test_big[125:126].shape +(1,))).numpy()\n",
    "decoded_imgs2 = autoencoder.decoder(encoded_imgs2).numpy()\n",
    "\n",
    "pred_t = (decoded_imgs2.reshape(32,32))*100\n",
    "pred_t = np.around(pred_t,1)*10"
   ]
  },
  {
   "cell_type": "code",
   "execution_count": 63,
   "id": "fa742812",
   "metadata": {},
   "outputs": [
    {
     "data": {
      "image/png": "[encoded data removed]",
      "text/plain": [
       "<Figure size 2160x2160 with 5 Axes>"
      ]
     },
     "metadata": {
      "needs_background": "light"
     },
     "output_type": "display_data"
    }
   ],
   "source": [
    "cmap = colors.ListedColormap(\n",
    "            ['#000000', '#0074D9','#FF4136','#2ECC40','#FFDC00',\n",
    "             '#AAAAAA', '#F012BE', '#FF851B', '#7FDBFF', '#870C25'])\n",
    "norm = colors.Normalize(vmin=0, vmax=9)\n",
    "fig, ax = plt.subplots(1, 5, figsize=(30,30))\n",
    "ax[0].imshow(x[:10,:10], cmap=cmap, norm=norm)\n",
    "ax[0].set_title('Train Input')\n",
    "ax[1].imshow(y[:10,:10], cmap=cmap, norm=norm)\n",
    "ax[1].set_title('Train Output')\n",
    "ax[2].imshow(pred_x[:10,:10], cmap=cmap, norm=norm)\n",
    "ax[2].set_title('Train Prediction')\n",
    "ax[3].imshow(test[:10,:10], cmap=cmap, norm=norm)\n",
    "ax[3].set_title('Train Prediction2')\n",
    "ax[4].imshow(pred_t[:10,:10], cmap=cmap, norm=norm)\n",
    "ax[4].set_title('Train Prediction2');"
   ]
  },
  {
   "cell_type": "code",
   "execution_count": null,
   "id": "fae3fdf2",
   "metadata": {},
   "outputs": [],
   "source": []
  },
  {
   "cell_type": "markdown",
   "id": "18fac462",
   "metadata": {},
   "source": [
    "## ---------------------------------------"
   ]
  },
  {
   "cell_type": "code",
   "execution_count": null,
   "id": "6db35db7",
   "metadata": {},
   "outputs": [],
   "source": []
  },
  {
   "cell_type": "code",
   "execution_count": null,
   "id": "02410353",
   "metadata": {
    "scrolled": true
   },
   "outputs": [],
   "source": [
    "K.clear_session()\n",
    "\n",
    "latent_dim = 64\n",
    "\n",
    "class Autoencoder(Model):\n",
    "    def __init__(self, latent_dim):\n",
    "        super(Autoencoder, self).__init__()\n",
    "        self.latent_dim = latent_dim   \n",
    "        self.encoder = Sequential([\n",
    "            layers.Conv2D(16, (3, 3), activation='relu', padding='same',input_shape = (32,32,1)), \n",
    "            layers.MaxPooling2D((2, 2), padding='same'),\n",
    "            layers.Conv2D(8, (3, 3), activation='relu', padding='same'),\n",
    "            layers.MaxPooling2D((2, 2), padding='same'),\n",
    "            layers.Conv2D(8, (3, 3), activation='relu', padding='same'),\n",
    "            layers.MaxPooling2D((2, 2), padding='same')#,\n",
    "#             layers.Flatten(),\n",
    "#             layers.Dense(latent_dim, activation='relu')\n",
    "        ])\n",
    "        self.decoder = Sequential([\n",
    "#             layers.Dense(64, activation='sigmoid'),\n",
    "#             layers.Reshape((32, 32,1)),\n",
    "            layers.Conv2D(8, (3, 3), activation='relu', padding='same'),\n",
    "            layers.UpSampling2D((2, 2)),\n",
    "            layers.Conv2D(8, (3, 3), activation='relu', padding='same'),\n",
    "            layers.UpSampling2D((2, 2)),\n",
    "            layers.Conv2D(16, (3, 3), activation='relu', padding='same'),\n",
    "            layers.UpSampling2D((2, 2)),\n",
    "            layers.Conv2D(1, (3, 3), activation='softmax', padding='same')\n",
    "\n",
    "        ])\n",
    "\n",
    "    def call(self, x):\n",
    "        encoded = self.encoder(x)\n",
    "        decoded = self.decoder(encoded)\n",
    "        return decoded\n",
    "\n",
    "autoencoder = Autoencoder(latent_dim)"
   ]
  },
  {
   "cell_type": "code",
   "execution_count": null,
   "id": "df3731d7",
   "metadata": {},
   "outputs": [],
   "source": [
    "autoencoder.compile(optimizer='adam', \n",
    "                    loss='mean_squared_error',\n",
    "                    metrics=['accuracy'])"
   ]
  },
  {
   "cell_type": "code",
   "execution_count": null,
   "id": "9b82f116",
   "metadata": {},
   "outputs": [],
   "source": [
    "autoencoder.fit(X_train_big, y_train_big,\n",
    "                epochs=100,\n",
    "                batch_size=5000,\n",
    "                #shuffle=True,\n",
    "                validation_data=(X_test_big, y_test_big))"
   ]
  },
  {
   "cell_type": "code",
   "execution_count": null,
   "id": "997658f6",
   "metadata": {
    "scrolled": false
   },
   "outputs": [],
   "source": [
    "autoencoder.summary()"
   ]
  },
  {
   "cell_type": "code",
   "execution_count": null,
   "id": "3341ebd6",
   "metadata": {},
   "outputs": [],
   "source": []
  },
  {
   "cell_type": "code",
   "execution_count": null,
   "id": "54945c9c",
   "metadata": {},
   "outputs": [],
   "source": []
  },
  {
   "cell_type": "code",
   "execution_count": null,
   "id": "d40284f8",
   "metadata": {},
   "outputs": [],
   "source": []
  },
  {
   "cell_type": "code",
   "execution_count": null,
   "id": "46f7cf27",
   "metadata": {},
   "outputs": [],
   "source": []
  },
  {
   "cell_type": "code",
   "execution_count": null,
   "id": "12de6494",
   "metadata": {},
   "outputs": [],
   "source": [
    "encoded_imgs = autoencoder.encoder(X_test_big).numpy()\n",
    "decoded_imgs = autoencoder.decoder(encoded_imgs).numpy()"
   ]
  },
  {
   "cell_type": "code",
   "execution_count": null,
   "id": "93995870",
   "metadata": {},
   "outputs": [],
   "source": [
    "n = 10\n",
    "plt.figure(figsize=(20, 4))\n",
    "for i in range(n):\n",
    "  # display original\n",
    "    ax = plt.subplot(2, n, i + 1)\n",
    "    plt.imshow(X_test_big[i])\n",
    "    plt.title(\"original\")\n",
    "    plt.gray()\n",
    "    ax.get_xaxis().set_visible(False)\n",
    "    ax.get_yaxis().set_visible(False)\n",
    "\n",
    "  # display reconstruction\n",
    "    ax = plt.subplot(2, n, i + 1 + n)\n",
    "    plt.imshow(decoded_imgs[i])\n",
    "    plt.title(\"reconstructed\")\n",
    "    plt.gray()\n",
    "    ax.get_xaxis().set_visible(False)\n",
    "    ax.get_yaxis().set_visible(False)\n",
    "plt.show()"
   ]
  },
  {
   "cell_type": "code",
   "execution_count": null,
   "id": "d584b1cb",
   "metadata": {},
   "outputs": [],
   "source": []
  },
  {
   "cell_type": "code",
   "execution_count": null,
   "id": "eb5bb8a9",
   "metadata": {},
   "outputs": [],
   "source": []
  },
  {
   "cell_type": "code",
   "execution_count": null,
   "id": "d63d72c5",
   "metadata": {},
   "outputs": [],
   "source": []
  },
  {
   "cell_type": "code",
   "execution_count": null,
   "id": "c36f4e8a",
   "metadata": {},
   "outputs": [],
   "source": []
  },
  {
   "cell_type": "code",
   "execution_count": null,
   "id": "34fc1464",
   "metadata": {},
   "outputs": [],
   "source": []
  },
  {
   "cell_type": "code",
   "execution_count": null,
   "id": "c392bcba",
   "metadata": {},
   "outputs": [],
   "source": []
  },
  {
   "cell_type": "code",
   "execution_count": null,
   "id": "2e453281",
   "metadata": {},
   "outputs": [],
   "source": []
  },
  {
   "cell_type": "code",
   "execution_count": null,
   "id": "848c0b59",
   "metadata": {},
   "outputs": [],
   "source": []
  },
  {
   "cell_type": "code",
   "execution_count": null,
   "id": "f838deff",
   "metadata": {},
   "outputs": [],
   "source": []
  },
  {
   "cell_type": "code",
   "execution_count": null,
   "id": "d70a8b43",
   "metadata": {},
   "outputs": [],
   "source": []
  },
  {
   "cell_type": "code",
   "execution_count": null,
   "id": "79656270",
   "metadata": {},
   "outputs": [],
   "source": []
  },
  {
   "cell_type": "code",
   "execution_count": null,
   "id": "f0124054",
   "metadata": {},
   "outputs": [],
   "source": [
    "decoded_imgs = autoencoder.predict(X_test_big)\n",
    "\n",
    "n = 10\n",
    "plt.figure(figsize=(20, 4))\n",
    "\n",
    "\n",
    "cmap = colors.ListedColormap(\n",
    "            ['#000000', '#0074D9','#FF4136','#2ECC40','#FFDC00',\n",
    "             '#AAAAAA', '#F012BE', '#FF851B', '#7FDBFF', '#870C25'])\n",
    "norm = colors.Normalize(vmin=0, vmax=9)\n",
    "for i in range(1, n + 1):\n",
    "    # Display original\n",
    "    ax = plt.subplot(2, n, i)\n",
    "    orig_shape = np.asarray(Xs_test[i]).shape[1:]\n",
    "    plt.imshow(X_test_big[i][:orig_shape[0],:orig_shape[1]]*10, cmap=cmap, norm=norm)#.reshape(orig_shape[0],orig_shape[1]) ## Xs_test\n",
    "#    plt.gray()\n",
    "    ax.get_xaxis().set_visible(False)\n",
    "    ax.get_yaxis().set_visible(False)\n",
    "\n",
    "    # Display reconstruction\n",
    "    ax = plt.subplot(2, n, i + n)\n",
    "    plt.imshow(decoded_imgs[i].reshape(32, 32))\n",
    "    plt.gray()\n",
    "    ax.get_xaxis().set_visible(False)\n",
    "    ax.get_yaxis().set_visible(False)\n",
    "plt.show()"
   ]
  },
  {
   "cell_type": "code",
   "execution_count": null,
   "id": "dd225b7f",
   "metadata": {},
   "outputs": [],
   "source": []
  },
  {
   "cell_type": "code",
   "execution_count": null,
   "id": "126d6547",
   "metadata": {},
   "outputs": [],
   "source": [
    "encoder = keras.Model(input_img, encoded)\n",
    "encoded_imgs = encoder.predict(X_test_big)\n",
    "\n",
    "n = 10\n",
    "plt.figure(figsize=(20, 8))\n",
    "for i in range(1, n + 1):\n",
    "    ax = plt.subplot(1, n, i)\n",
    "    plt.imshow(encoded_imgs[i].reshape((4, 4 * 8)).T)\n",
    "    plt.gray()\n",
    "    ax.get_xaxis().set_visible(False)\n",
    "    ax.get_yaxis().set_visible(False)\n",
    "plt.show()"
   ]
  },
  {
   "cell_type": "code",
   "execution_count": null,
   "id": "7a53806b",
   "metadata": {},
   "outputs": [],
   "source": []
  }
 ],
 "metadata": {
  "kernelspec": {
   "display_name": "Python 3",
   "language": "python",
   "name": "python3"
  },
  "language_info": {
   "codemirror_mode": {
    "name": "ipython",
    "version": 3
   },
   "file_extension": ".py",
   "mimetype": "text/x-python",
   "name": "python",
   "nbconvert_exporter": "python",
   "pygments_lexer": "ipython3",
   "version": "3.6.13"
  }
 },
 "nbformat": 4,
 "nbformat_minor": 5
}
