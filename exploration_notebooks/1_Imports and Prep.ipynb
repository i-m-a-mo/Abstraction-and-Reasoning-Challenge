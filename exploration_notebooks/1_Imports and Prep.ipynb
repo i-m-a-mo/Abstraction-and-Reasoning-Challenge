{
 "cells": [
  {
   "cell_type": "code",
   "execution_count": 269,
   "id": "7e57bb90",
   "metadata": {},
   "outputs": [],
   "source": [
    "import numpy as np\n",
    "import pandas as pd\n",
    "\n",
    "import os\n",
    "import json\n",
    "from pathlib import Path\n",
    "\n",
    "import tensorflow as tf\n",
    "import tensorflow.keras as keras\n",
    "from tensorflow.keras.models import Sequential\n",
    "from tensorflow.keras.layers import Dense, Conv2D, MaxPooling2D, Dropout, Flatten\n",
    "from tensorflow.keras import backend as K\n",
    "#from tensorflow.keras.utils import to_categorical\n",
    "from tensorflow.keras import layers\n",
    "\n",
    "import matplotlib.pyplot as plt\n",
    "from matplotlib import colors"
   ]
  },
  {
   "cell_type": "code",
   "execution_count": 38,
   "id": "b398b7a0",
   "metadata": {},
   "outputs": [],
   "source": [
    "data_path = Path('./kaggle_input/')\n",
    "training_path = data_path / 'training'      # 400 X-train ('train'), y-train('test') input-output pairs\n",
    "evaluation_path = data_path / 'evaluation'  # 400\n",
    "test_path = data_path / 'test'              # 100 pairs X-train ('train') (input-output),\n",
    "                                            #           y-train (input only) pairs\n",
    "\n",
    "training_tasks_files = sorted(os.listdir(training_path))#[1:]\n",
    "eval_tasks_files = sorted(os.listdir(evaluation_path))\n",
    "test_task_files = sorted(os.listdir(test_path))"
   ]
  },
  {
   "cell_type": "markdown",
   "id": "991208ba",
   "metadata": {},
   "source": [
    " "
   ]
  },
  {
   "cell_type": "code",
   "execution_count": 117,
   "id": "485c27ba",
   "metadata": {
    "collapsed": true
   },
   "outputs": [
    {
     "data": {
      "text/plain": [
       "['007bbfb7.json',\n",
       " '00d62c1b.json',\n",
       " '017c7c7b.json',\n",
       " '025d127b.json',\n",
       " '045e512c.json',\n",
       " '0520fde7.json',\n",
       " '05269061.json',\n",
       " '05f2a901.json',\n",
       " '06df4c85.json',\n",
       " '08ed6ac7.json',\n",
       " '09629e4f.json',\n",
       " '0962bcdd.json',\n",
       " '0a938d79.json',\n",
       " '0b148d64.json',\n",
       " '0ca9ddb6.json',\n",
       " '0d3d703e.json',\n",
       " '0dfd9992.json',\n",
       " '0e206a2e.json',\n",
       " '10fcaaa3.json',\n",
       " '11852cab.json',\n",
       " '1190e5a7.json',\n",
       " '137eaa0f.json',\n",
       " '150deff5.json',\n",
       " '178fcbfb.json',\n",
       " '1a07d186.json',\n",
       " '1b2d62fb.json',\n",
       " '1b60fb0c.json',\n",
       " '1bfc4729.json',\n",
       " '1c786137.json',\n",
       " '1caeab9d.json',\n",
       " '1cf80156.json',\n",
       " '1e0a9b12.json',\n",
       " '1e32b0e9.json',\n",
       " '1f0c79e5.json',\n",
       " '1f642eb9.json',\n",
       " '1f85a75f.json',\n",
       " '1f876c06.json',\n",
       " '1fad071e.json',\n",
       " '2013d3e2.json',\n",
       " '2204b7a8.json',\n",
       " '22168020.json',\n",
       " '22233c11.json',\n",
       " '2281f1f4.json',\n",
       " '228f6490.json',\n",
       " '22eb0ac0.json',\n",
       " '234bbc79.json',\n",
       " '23581191.json',\n",
       " '239be575.json',\n",
       " '23b5c85d.json',\n",
       " '253bf280.json',\n",
       " '25d487eb.json',\n",
       " '25d8a9c8.json',\n",
       " '25ff71a9.json',\n",
       " '264363fd.json',\n",
       " '272f95fa.json',\n",
       " '27a28665.json',\n",
       " '28bf18c6.json',\n",
       " '28e73c20.json',\n",
       " '29623171.json',\n",
       " '29c11459.json',\n",
       " '29ec7d0e.json',\n",
       " '2bcee788.json',\n",
       " '2bee17df.json',\n",
       " '2c608aff.json',\n",
       " '2dc579da.json',\n",
       " '2dd70a9a.json',\n",
       " '2dee498d.json',\n",
       " '31aa019c.json',\n",
       " '321b1fc6.json',\n",
       " '32597951.json',\n",
       " '3345333e.json',\n",
       " '3428a4f5.json',\n",
       " '3618c87e.json',\n",
       " '3631a71a.json',\n",
       " '363442ee.json',\n",
       " '36d67576.json',\n",
       " '36fdfd69.json',\n",
       " '3906de3d.json',\n",
       " '39a8645d.json',\n",
       " '39e1d7f9.json',\n",
       " '3aa6fb7a.json',\n",
       " '3ac3eb23.json',\n",
       " '3af2c5a8.json',\n",
       " '3bd67248.json',\n",
       " '3bdb4ada.json',\n",
       " '3befdf3e.json',\n",
       " '3c9b0459.json',\n",
       " '3de23699.json',\n",
       " '3e980e27.json',\n",
       " '3eda0437.json',\n",
       " '3f7978a0.json',\n",
       " '40853293.json',\n",
       " '4093f84a.json',\n",
       " '41e4d17e.json',\n",
       " '4258a5f9.json',\n",
       " '4290ef0e.json',\n",
       " '42a50994.json',\n",
       " '4347f46a.json',\n",
       " '444801d8.json',\n",
       " '445eab21.json',\n",
       " '447fd412.json',\n",
       " '44d8ac46.json',\n",
       " '44f52bb0.json',\n",
       " '4522001f.json',\n",
       " '4612dd53.json',\n",
       " '46442a0e.json',\n",
       " '469497ad.json',\n",
       " '46f33fce.json',\n",
       " '47c1f68c.json',\n",
       " '484b58aa.json',\n",
       " '48d8fb45.json',\n",
       " '4938f0c2.json',\n",
       " '496994bd.json',\n",
       " '49d1d64f.json',\n",
       " '4be741c5.json',\n",
       " '4c4377d9.json',\n",
       " '4c5c2cf0.json',\n",
       " '50846271.json',\n",
       " '508bd3b6.json',\n",
       " '50cb2852.json',\n",
       " '5117e062.json',\n",
       " '5168d44c.json',\n",
       " '539a4f51.json',\n",
       " '53b68214.json',\n",
       " '543a7ed5.json',\n",
       " '54d82841.json',\n",
       " '54d9e175.json',\n",
       " '5521c0d9.json',\n",
       " '5582e5ca.json',\n",
       " '5614dbcf.json',\n",
       " '56dc2b01.json',\n",
       " '56ff96f3.json',\n",
       " '57aa92db.json',\n",
       " '5ad4f10b.json',\n",
       " '5bd6f4ac.json',\n",
       " '5c0a986e.json',\n",
       " '5c2c9af4.json',\n",
       " '5daaa586.json',\n",
       " '60b61512.json',\n",
       " '6150a2bd.json',\n",
       " '623ea044.json',\n",
       " '62c24649.json',\n",
       " '63613498.json',\n",
       " '6430c8c4.json',\n",
       " '6455b5f5.json',\n",
       " '662c240a.json',\n",
       " '67385a82.json',\n",
       " '673ef223.json',\n",
       " '6773b310.json',\n",
       " '67a3c6ac.json',\n",
       " '67a423a3.json',\n",
       " '67e8384a.json',\n",
       " '681b3aeb.json',\n",
       " '6855a6e4.json',\n",
       " '68b16354.json',\n",
       " '694f12f3.json',\n",
       " '6a1e5592.json',\n",
       " '6aa20dc0.json',\n",
       " '6b9890af.json',\n",
       " '6c434453.json',\n",
       " '6cdd2623.json',\n",
       " '6cf79266.json',\n",
       " '6d0160f0.json',\n",
       " '6d0aefbc.json',\n",
       " '6d58a25d.json',\n",
       " '6d75e8bb.json',\n",
       " '6e02f1e3.json',\n",
       " '6e19193c.json',\n",
       " '6e82a1ae.json',\n",
       " '6ecd11f4.json',\n",
       " '6f8cd79b.json',\n",
       " '6fa7a44f.json',\n",
       " '72322fa7.json',\n",
       " '72ca375d.json',\n",
       " '73251a56.json',\n",
       " '7447852a.json',\n",
       " '7468f01a.json',\n",
       " '746b3537.json',\n",
       " '74dd1130.json',\n",
       " '75b8110e.json',\n",
       " '760b3cac.json',\n",
       " '776ffc46.json',\n",
       " '77fdfe62.json',\n",
       " '780d0b14.json',\n",
       " '7837ac64.json',\n",
       " '794b24be.json',\n",
       " '7b6016b9.json',\n",
       " '7b7f7511.json',\n",
       " '7c008303.json',\n",
       " '7ddcd7ec.json',\n",
       " '7df24a62.json',\n",
       " '7e0986d6.json',\n",
       " '7f4411dc.json',\n",
       " '7fe24cdd.json',\n",
       " '80af3007.json',\n",
       " '810b9b61.json',\n",
       " '82819916.json',\n",
       " '83302e8f.json',\n",
       " '834ec97d.json',\n",
       " '8403a5d5.json',\n",
       " '846bdb03.json',\n",
       " '855e0971.json',\n",
       " '85c4e7cd.json',\n",
       " '868de0fa.json',\n",
       " '8731374e.json',\n",
       " '88a10436.json',\n",
       " '88a62173.json',\n",
       " '890034e9.json',\n",
       " '8a004b2b.json',\n",
       " '8be77c9e.json',\n",
       " '8d5021e8.json',\n",
       " '8d510a79.json',\n",
       " '8e1813be.json',\n",
       " '8e5a5113.json',\n",
       " '8eb1be9a.json',\n",
       " '8efcae92.json',\n",
       " '8f2ea7aa.json',\n",
       " '90c28cc7.json',\n",
       " '90f3ed37.json',\n",
       " '913fb3ed.json',\n",
       " '91413438.json',\n",
       " '91714a58.json',\n",
       " '9172f3a0.json',\n",
       " '928ad970.json',\n",
       " '93b581b8.json',\n",
       " '941d9a10.json',\n",
       " '94f9d214.json',\n",
       " '952a094c.json',\n",
       " '9565186b.json',\n",
       " '95990924.json',\n",
       " '963e52fc.json',\n",
       " '97999447.json',\n",
       " '97a05b5b.json',\n",
       " '98cf29f8.json',\n",
       " '995c5fa3.json',\n",
       " '99b1bc43.json',\n",
       " '99fa7670.json',\n",
       " '9aec4887.json',\n",
       " '9af7a82c.json',\n",
       " '9d9215db.json',\n",
       " '9dfd6313.json',\n",
       " '9ecd008a.json',\n",
       " '9edfc990.json',\n",
       " '9f236235.json',\n",
       " 'a1570a43.json',\n",
       " 'a2fd1cf0.json',\n",
       " 'a3325580.json',\n",
       " 'a3df8b1e.json',\n",
       " 'a416b8f3.json',\n",
       " 'a48eeaf7.json',\n",
       " 'a5313dff.json',\n",
       " 'a5f85a15.json',\n",
       " 'a61ba2ce.json',\n",
       " 'a61f2674.json',\n",
       " 'a64e4611.json',\n",
       " 'a65b410d.json',\n",
       " 'a68b268e.json',\n",
       " 'a699fb00.json',\n",
       " 'a740d043.json',\n",
       " 'a78176bb.json',\n",
       " 'a79310a0.json',\n",
       " 'a85d4709.json',\n",
       " 'a87f7484.json',\n",
       " 'a8c38be5.json',\n",
       " 'a8d7556c.json',\n",
       " 'a9f96cdd.json',\n",
       " 'aabf363d.json',\n",
       " 'aba27056.json',\n",
       " 'ac0a08a4.json',\n",
       " 'ae3edfdc.json',\n",
       " 'ae4f1146.json',\n",
       " 'aedd82e4.json',\n",
       " 'af902bf9.json',\n",
       " 'b0c4d837.json',\n",
       " 'b190f7f5.json',\n",
       " 'b1948b0a.json',\n",
       " 'b230c067.json',\n",
       " 'b27ca6d3.json',\n",
       " 'b2862040.json',\n",
       " 'b527c5c6.json',\n",
       " 'b548a754.json',\n",
       " 'b60334d2.json',\n",
       " 'b6afb2da.json',\n",
       " 'b7249182.json',\n",
       " 'b775ac94.json',\n",
       " 'b782dc8a.json',\n",
       " 'b8825c91.json',\n",
       " 'b8cdaf2b.json',\n",
       " 'b91ae062.json',\n",
       " 'b94a9452.json',\n",
       " 'b9b7f026.json',\n",
       " 'ba26e723.json',\n",
       " 'ba97ae07.json',\n",
       " 'bb43febb.json',\n",
       " 'bbc9ae5d.json',\n",
       " 'bc1d5164.json',\n",
       " 'bd4472b8.json',\n",
       " 'bda2d7a6.json',\n",
       " 'bdad9b1f.json',\n",
       " 'be94b721.json',\n",
       " 'beb8660c.json',\n",
       " 'c0f76784.json',\n",
       " 'c1d99e64.json',\n",
       " 'c3e719e8.json',\n",
       " 'c3f564a4.json',\n",
       " 'c444b776.json',\n",
       " 'c59eb873.json',\n",
       " 'c8cbb738.json',\n",
       " 'c8f0f002.json',\n",
       " 'c909285e.json',\n",
       " 'c9e6f938.json',\n",
       " 'c9f8e694.json',\n",
       " 'caa06a1f.json',\n",
       " 'cbded52d.json',\n",
       " 'cce03e0d.json',\n",
       " 'cdecee7f.json',\n",
       " 'ce22a75a.json',\n",
       " 'ce4f8723.json',\n",
       " 'ce602527.json',\n",
       " 'ce9e57f2.json',\n",
       " 'cf98881b.json',\n",
       " 'd037b0a7.json',\n",
       " 'd06dbe63.json',\n",
       " 'd07ae81c.json',\n",
       " 'd0f5fe59.json',\n",
       " 'd10ecb37.json',\n",
       " 'd13f3404.json',\n",
       " 'd22278a0.json',\n",
       " 'd23f8c26.json',\n",
       " 'd2abd087.json',\n",
       " 'd364b489.json',\n",
       " 'd406998b.json',\n",
       " 'd43fd935.json',\n",
       " 'd4469b4b.json',\n",
       " 'd4a91cb9.json',\n",
       " 'd4f3cd78.json',\n",
       " 'd511f180.json',\n",
       " 'd5d6de2d.json',\n",
       " 'd631b094.json',\n",
       " 'd687bc17.json',\n",
       " 'd6ad076f.json',\n",
       " 'd89b689b.json',\n",
       " 'd8c310e9.json',\n",
       " 'd90796e8.json',\n",
       " 'd9f24cd1.json',\n",
       " 'd9fac9be.json',\n",
       " 'dae9d2b5.json',\n",
       " 'db3e9e38.json',\n",
       " 'db93a21d.json',\n",
       " 'dbc1a6ce.json',\n",
       " 'dc0a314f.json',\n",
       " 'dc1df850.json',\n",
       " 'dc433765.json',\n",
       " 'ddf7fa4f.json',\n",
       " 'de1cd16c.json',\n",
       " 'ded97339.json',\n",
       " 'e179c5f4.json',\n",
       " 'e21d9049.json',\n",
       " 'e26a3af2.json',\n",
       " 'e3497940.json',\n",
       " 'e40b9e2f.json',\n",
       " 'e48d4e1a.json',\n",
       " 'e5062a87.json',\n",
       " 'e509e548.json',\n",
       " 'e50d258f.json',\n",
       " 'e6721834.json',\n",
       " 'e73095fd.json',\n",
       " 'e76a88a6.json',\n",
       " 'e8593010.json',\n",
       " 'e8dc4411.json',\n",
       " 'e9614598.json',\n",
       " 'e98196ab.json',\n",
       " 'e9afcf9a.json',\n",
       " 'ea32f347.json',\n",
       " 'ea786f4a.json',\n",
       " 'eb281b96.json',\n",
       " 'eb5a1d5d.json',\n",
       " 'ec883f72.json',\n",
       " 'ecdecbb3.json',\n",
       " 'ed36ccf7.json',\n",
       " 'ef135b50.json',\n",
       " 'f15e1fac.json',\n",
       " 'f1cefba8.json',\n",
       " 'f25fbde4.json',\n",
       " 'f25ffba3.json',\n",
       " 'f2829549.json',\n",
       " 'f35d900a.json',\n",
       " 'f5b8619d.json',\n",
       " 'f76d97a5.json',\n",
       " 'f8a8fe49.json',\n",
       " 'f8b3ba0a.json',\n",
       " 'f8c80d96.json',\n",
       " 'f8ff0b80.json',\n",
       " 'f9012d9b.json',\n",
       " 'fafffa47.json',\n",
       " 'fcb5c309.json',\n",
       " 'fcc82909.json',\n",
       " 'feca6190.json',\n",
       " 'ff28f65a.json',\n",
       " 'ff805c23.json']"
      ]
     },
     "execution_count": 117,
     "metadata": {},
     "output_type": "execute_result"
    }
   ],
   "source": [
    "training_tasks_files"
   ]
  },
  {
   "cell_type": "code",
   "execution_count": 39,
   "id": "3bb2f0a7",
   "metadata": {},
   "outputs": [],
   "source": [
    "def load_files(path):\n",
    "    path_files = sorted(os.listdir(path))\n",
    "    tasks = []\n",
    "    for task_file in path_files:\n",
    "        with open(str(path / task_file), 'r') as f:\n",
    "            task = json.load(f)\n",
    "            tasks.append(task)\n",
    "    return tasks"
   ]
  },
  {
   "cell_type": "code",
   "execution_count": 40,
   "id": "279aeed7",
   "metadata": {},
   "outputs": [],
   "source": [
    "training_tasks = load_files(training_path)\n",
    "test_tasks = load_files(test_path)\n",
    "evaluation_tasks = load_files(evaluation_path)"
   ]
  },
  {
   "cell_type": "code",
   "execution_count": 149,
   "id": "ca0a3f69",
   "metadata": {
    "collapsed": true
   },
   "outputs": [
    {
     "data": {
      "text/plain": [
       "{'test': [{'input': [[7, 0, 7], [7, 0, 7], [7, 7, 0]],\n",
       "   'output': [[7, 0, 7, 0, 0, 0, 7, 0, 7],\n",
       "    [7, 0, 7, 0, 0, 0, 7, 0, 7],\n",
       "    [7, 7, 0, 0, 0, 0, 7, 7, 0],\n",
       "    [7, 0, 7, 0, 0, 0, 7, 0, 7],\n",
       "    [7, 0, 7, 0, 0, 0, 7, 0, 7],\n",
       "    [7, 7, 0, 0, 0, 0, 7, 7, 0],\n",
       "    [7, 0, 7, 7, 0, 7, 0, 0, 0],\n",
       "    [7, 0, 7, 7, 0, 7, 0, 0, 0],\n",
       "    [7, 7, 0, 7, 7, 0, 0, 0, 0]]}],\n",
       " 'train': [{'input': [[0, 7, 7], [7, 7, 7], [0, 7, 7]],\n",
       "   'output': [[0, 0, 0, 0, 7, 7, 0, 7, 7],\n",
       "    [0, 0, 0, 7, 7, 7, 7, 7, 7],\n",
       "    [0, 0, 0, 0, 7, 7, 0, 7, 7],\n",
       "    [0, 7, 7, 0, 7, 7, 0, 7, 7],\n",
       "    [7, 7, 7, 7, 7, 7, 7, 7, 7],\n",
       "    [0, 7, 7, 0, 7, 7, 0, 7, 7],\n",
       "    [0, 0, 0, 0, 7, 7, 0, 7, 7],\n",
       "    [0, 0, 0, 7, 7, 7, 7, 7, 7],\n",
       "    [0, 0, 0, 0, 7, 7, 0, 7, 7]]},\n",
       "  {'input': [[4, 0, 4], [0, 0, 0], [0, 4, 0]],\n",
       "   'output': [[4, 0, 4, 0, 0, 0, 4, 0, 4],\n",
       "    [0, 0, 0, 0, 0, 0, 0, 0, 0],\n",
       "    [0, 4, 0, 0, 0, 0, 0, 4, 0],\n",
       "    [0, 0, 0, 0, 0, 0, 0, 0, 0],\n",
       "    [0, 0, 0, 0, 0, 0, 0, 0, 0],\n",
       "    [0, 0, 0, 0, 0, 0, 0, 0, 0],\n",
       "    [0, 0, 0, 4, 0, 4, 0, 0, 0],\n",
       "    [0, 0, 0, 0, 0, 0, 0, 0, 0],\n",
       "    [0, 0, 0, 0, 4, 0, 0, 0, 0]]},\n",
       "  {'input': [[0, 0, 0], [0, 0, 2], [2, 0, 2]],\n",
       "   'output': [[0, 0, 0, 0, 0, 0, 0, 0, 0],\n",
       "    [0, 0, 0, 0, 0, 0, 0, 0, 0],\n",
       "    [0, 0, 0, 0, 0, 0, 0, 0, 0],\n",
       "    [0, 0, 0, 0, 0, 0, 0, 0, 0],\n",
       "    [0, 0, 0, 0, 0, 0, 0, 0, 2],\n",
       "    [0, 0, 0, 0, 0, 0, 2, 0, 2],\n",
       "    [0, 0, 0, 0, 0, 0, 0, 0, 0],\n",
       "    [0, 0, 2, 0, 0, 0, 0, 0, 2],\n",
       "    [2, 0, 2, 0, 0, 0, 2, 0, 2]]},\n",
       "  {'input': [[6, 6, 0], [6, 0, 0], [0, 6, 6]],\n",
       "   'output': [[6, 6, 0, 6, 6, 0, 0, 0, 0],\n",
       "    [6, 0, 0, 6, 0, 0, 0, 0, 0],\n",
       "    [0, 6, 6, 0, 6, 6, 0, 0, 0],\n",
       "    [6, 6, 0, 0, 0, 0, 0, 0, 0],\n",
       "    [6, 0, 0, 0, 0, 0, 0, 0, 0],\n",
       "    [0, 6, 6, 0, 0, 0, 0, 0, 0],\n",
       "    [0, 0, 0, 6, 6, 0, 6, 6, 0],\n",
       "    [0, 0, 0, 6, 0, 0, 6, 0, 0],\n",
       "    [0, 0, 0, 0, 6, 6, 0, 6, 6]]},\n",
       "  {'input': [[2, 2, 2], [0, 0, 0], [0, 2, 2]],\n",
       "   'output': [[2, 2, 2, 2, 2, 2, 2, 2, 2],\n",
       "    [0, 0, 0, 0, 0, 0, 0, 0, 0],\n",
       "    [0, 2, 2, 0, 2, 2, 0, 2, 2],\n",
       "    [0, 0, 0, 0, 0, 0, 0, 0, 0],\n",
       "    [0, 0, 0, 0, 0, 0, 0, 0, 0],\n",
       "    [0, 0, 0, 0, 0, 0, 0, 0, 0],\n",
       "    [0, 0, 0, 2, 2, 2, 2, 2, 2],\n",
       "    [0, 0, 0, 0, 0, 0, 0, 0, 0],\n",
       "    [0, 0, 0, 0, 2, 2, 0, 2, 2]]}]}"
      ]
     },
     "execution_count": 149,
     "metadata": {},
     "output_type": "execute_result"
    }
   ],
   "source": [
    "train_tasks[0]#['test'][0]"
   ]
  },
  {
   "cell_type": "markdown",
   "id": "561ec3b2",
   "metadata": {},
   "source": [
    "### plotting a few examples"
   ]
  },
  {
   "cell_type": "code",
   "execution_count": 310,
   "id": "609c1df0",
   "metadata": {},
   "outputs": [
    {
     "data": {
      "image/png": "[encoded data removed]",
      "text/plain": [
       "<Figure size 1080x1080 with 4 Axes>"
      ]
     },
     "metadata": {
      "needs_background": "light"
     },
     "output_type": "display_data"
    },
    {
     "data": {
      "image/png": "[encoded data removed]",
      "text/plain": [
       "<Figure size 1080x1080 with 4 Axes>"
      ]
     },
     "metadata": {
      "needs_background": "light"
     },
     "output_type": "display_data"
    },
    {
     "data": {
      "image/png": "[encoded data removed]",
      "text/plain": [
       "<Figure size 1080x1080 with 4 Axes>"
      ]
     },
     "metadata": {
      "needs_background": "light"
     },
     "output_type": "display_data"
    },
    {
     "data": {
      "image/png": "[encoded data removed]",
      "text/plain": [
       "<Figure size 1080x1080 with 4 Axes>"
      ]
     },
     "metadata": {
      "needs_background": "light"
     },
     "output_type": "display_data"
    },
    {
     "data": {
      "image/png": "[encoded data removed]",
      "text/plain": [
       "<Figure size 1080x1080 with 4 Axes>"
      ]
     },
     "metadata": {
      "needs_background": "light"
     },
     "output_type": "display_data"
    }
   ],
   "source": [
    "for i in [1, 125, 8, 15, 9]:\n",
    "\n",
    "    task_file = str(training_path / training_tasks_files[i])\n",
    "\n",
    "    with open(task_file, 'r') as f:\n",
    "        task = json.load(f)\n",
    "\n",
    "    def plot_task(task):\n",
    "        \"\"\"\n",
    "        Plots the first train and test pairs of a specified task,\n",
    "        using same color scheme as the ARC app\n",
    "        \"\"\"\n",
    "        cmap = colors.ListedColormap(\n",
    "            ['#000000', '#0074D9','#FF4136','#2ECC40','#FFDC00',\n",
    "             '#AAAAAA', '#F012BE', '#FF851B', '#7FDBFF', '#870C25'])\n",
    "        norm = colors.Normalize(vmin=0, vmax=9)\n",
    "        fig, ax = plt.subplots(1, 4, figsize=(15,15))\n",
    "        \n",
    "        ax[0].imshow(task['train'][0]['input'], cmap=cmap, norm=norm)\n",
    "        width = np.shape(task['train'][0]['input'])[1]\n",
    "        height = np.shape(task['train'][0]['input'])[0]\n",
    "        ax[0].set_xticks(np.arange(0,width))\n",
    "        ax[0].set_yticks(np.arange(0,height))\n",
    "        ax[0].set_xticklabels([])\n",
    "        ax[0].set_yticklabels([])\n",
    "        ax[0].tick_params(length=0)\n",
    "        ax[0].grid(True)\n",
    "        ax[0].set_title('Train Input')\n",
    "        \n",
    "        \n",
    "        ax[1].imshow(task['train'][0]['output'], cmap=cmap, norm=norm)\n",
    "        width = np.shape(task['train'][0]['output'])[1]\n",
    "        height = np.shape(task['train'][0]['output'])[0]\n",
    "        ax[1].set_xticks(np.arange(0,width))\n",
    "        ax[1].set_yticks(np.arange(0,height))\n",
    "        ax[1].set_xticklabels([])\n",
    "        ax[1].set_yticklabels([])\n",
    "        ax[1].tick_params(length=0)\n",
    "        ax[1].grid(True)\n",
    "        ax[1].set_title('Train Output')\n",
    "        ax[2].imshow(task['test'][0]['input'], cmap=cmap, norm=norm)\n",
    "        width = np.shape(task['test'][0]['input'])[1]\n",
    "        height = np.shape(task['test'][0]['input'])[0]\n",
    "        ax[2].set_xticks(np.arange(0,width))\n",
    "        ax[2].set_yticks(np.arange(0,height))\n",
    "        ax[2].set_xticklabels([])\n",
    "        ax[2].set_yticklabels([])\n",
    "        ax[2].tick_params(length=0)\n",
    "        ax[2].grid(True)\n",
    "        ax[2].set_title('Test Input')\n",
    "        ax[3].imshow(task['test'][0]['output'], cmap=cmap, norm=norm)\n",
    "        width = np.shape(task['test'][0]['output'])[1]\n",
    "        height = np.shape(task['test'][0]['output'])[0]\n",
    "        ax[3].set_xticks(np.arange(0,width))\n",
    "        ax[3].set_yticks(np.arange(0,height))\n",
    "        ax[3].set_xticklabels([])\n",
    "        ax[3].set_yticklabels([])\n",
    "        ax[3].tick_params(length=0)\n",
    "        ax[3].grid(True)\n",
    "        ax[3].set_title('Test Output')\n",
    "        plt.tight_layout()\n",
    "        plt.show()\n",
    "\n",
    "    plot_task(task)"
   ]
  },
  {
   "cell_type": "markdown",
   "id": "096f1e84",
   "metadata": {},
   "source": [
    " \n",
    " ---\n",
    " ---"
   ]
  },
  {
   "cell_type": "markdown",
   "id": "53d995e2",
   "metadata": {},
   "source": [
    "### 1. Create Train - Test - Split"
   ]
  },
  {
   "cell_type": "code",
   "execution_count": 44,
   "id": "9a4092f8",
   "metadata": {},
   "outputs": [],
   "source": [
    "Xs_test, ys_test, Xs_train, ys_train = [], [], [], []\n",
    "\n",
    "for task in train_tasks:\n",
    "    X_test, y_test, X_train, y_train = [], [], [], []\n",
    "\n",
    "    for pair in task[\"test\"]:\n",
    "        X_test.append(pair[\"input\"])\n",
    "        y_test.append(pair[\"output\"])      ### to be predicted !!!\n",
    "\n",
    "    for pair in task[\"train\"]:\n",
    "        X_train.append(pair[\"input\"])\n",
    "        y_train.append(pair[\"output\"])\n",
    "    \n",
    "    Xs_test.append(X_test)\n",
    "    ys_test.append(y_test)\n",
    "    Xs_train.append(X_train)\n",
    "    ys_train.append(y_train)"
   ]
  },
  {
   "cell_type": "code",
   "execution_count": 45,
   "id": "dbf42d0d",
   "metadata": {},
   "outputs": [
    {
     "data": {
      "text/plain": [
       "(400, 400, 400, 400)"
      ]
     },
     "execution_count": 45,
     "metadata": {},
     "output_type": "execute_result"
    }
   ],
   "source": [
    "len(Xs_train), len(ys_train), len(Xs_test), len(ys_test)"
   ]
  },
  {
   "cell_type": "code",
   "execution_count": null,
   "id": "08050648",
   "metadata": {},
   "outputs": [],
   "source": []
  },
  {
   "cell_type": "code",
   "execution_count": 298,
   "id": "33e7f53f",
   "metadata": {},
   "outputs": [],
   "source": [
    "### put this in a fct later\n",
    "# cv2.resize(np.asarray(train_data['input']), dsize=(32, 32), interpolation=cv2.INTER_NEAREST))\n",
    "\n",
    "\n",
    "\n",
    "li=[]\n",
    "for X_train in Xs_train:\n",
    "    for e in X_train:\n",
    "        e = np.array(e)\n",
    "        e = np.pad(e, [(0, 30-e.shape[0]), (0, 30-e.shape[1])], mode='constant')\n",
    "        li.append(e)\n",
    "X_train_big = np.array(li)\n",
    "X_train_big = X_train_big /10.\n",
    "X_train_big = X_train_big.reshape(1301,30,30, 1)  #(x_train.shape + (1,) )"
   ]
  },
  {
   "cell_type": "code",
   "execution_count": 299,
   "id": "01a752c8",
   "metadata": {},
   "outputs": [
    {
     "data": {
      "text/plain": [
       "(1301, 30, 30, 1)"
      ]
     },
     "execution_count": 299,
     "metadata": {},
     "output_type": "execute_result"
    }
   ],
   "source": [
    "X_train_big.shape"
   ]
  },
  {
   "cell_type": "code",
   "execution_count": null,
   "id": "92965a62",
   "metadata": {},
   "outputs": [],
   "source": []
  },
  {
   "cell_type": "code",
   "execution_count": null,
   "id": "32ade5b3",
   "metadata": {},
   "outputs": [],
   "source": []
  },
  {
   "cell_type": "code",
   "execution_count": 302,
   "id": "034c7ede",
   "metadata": {},
   "outputs": [],
   "source": [
    "### second approach for each task --> fix up later\n",
    "\n",
    "tasks = []\n",
    "for X_train in Xs_train:\n",
    "    li2=[]\n",
    "    for e in X_train:\n",
    "        e = np.array(e)\n",
    "        e = np.pad(e, [(0, 30-e.shape[0]), (0, 30-e.shape[1])], mode='constant')\n",
    "        li2.append(e)\n",
    "    li2 = np.array(li2)\n",
    "    tasks.append(li2)"
   ]
  },
  {
   "cell_type": "code",
   "execution_count": 303,
   "id": "98f7f33c",
   "metadata": {},
   "outputs": [
    {
     "data": {
      "text/plain": [
       "400"
      ]
     },
     "execution_count": 303,
     "metadata": {},
     "output_type": "execute_result"
    }
   ],
   "source": [
    "len(tasks)"
   ]
  },
  {
   "cell_type": "code",
   "execution_count": 306,
   "id": "a1303ed4",
   "metadata": {},
   "outputs": [
    {
     "data": {
      "text/plain": [
       "(5, 30, 30)"
      ]
     },
     "execution_count": 306,
     "metadata": {},
     "output_type": "execute_result"
    }
   ],
   "source": [
    "tasks[0].shape"
   ]
  },
  {
   "cell_type": "code",
   "execution_count": 309,
   "id": "4e62f5ed",
   "metadata": {},
   "outputs": [
    {
     "name": "stderr",
     "output_type": "stream",
     "text": [
      "/opt/anaconda3/envs/tf/lib/python3.6/site-packages/ipykernel_launcher.py:1: VisibleDeprecationWarning: Creating an ndarray from ragged nested sequences (which is a list-or-tuple of lists-or-tuples-or ndarrays with different lengths or shapes) is deprecated. If you meant to do this, you must specify 'dtype=object' when creating the ndarray\n",
      "  \"\"\"Entry point for launching an IPython kernel.\n"
     ]
    },
    {
     "data": {
      "text/plain": [
       "(400,)"
      ]
     },
     "execution_count": 309,
     "metadata": {},
     "output_type": "execute_result"
    }
   ],
   "source": [
    "np.array(tasks).shape"
   ]
  },
  {
   "cell_type": "code",
   "execution_count": 293,
   "id": "776f2bf0",
   "metadata": {
    "scrolled": true
   },
   "outputs": [
    {
     "name": "stderr",
     "output_type": "stream",
     "text": [
      "/opt/anaconda3/envs/tf/lib/python3.6/site-packages/ipykernel_launcher.py:1: VisibleDeprecationWarning: Creating an ndarray from ragged nested sequences (which is a list-or-tuple of lists-or-tuples-or ndarrays with different lengths or shapes) is deprecated. If you meant to do this, you must specify 'dtype=object' when creating the ndarray\n",
      "  \"\"\"Entry point for launching an IPython kernel.\n"
     ]
    },
    {
     "data": {
      "text/plain": [
       "(5, 30, 30)"
      ]
     },
     "execution_count": 293,
     "metadata": {},
     "output_type": "execute_result"
    }
   ],
   "source": [
    "np.array(tasks)[0].shape"
   ]
  },
  {
   "cell_type": "markdown",
   "id": "3ecb0852",
   "metadata": {},
   "source": [
    "# ---------------------------------------------------------------------------------------------\n"
   ]
  },
  {
   "cell_type": "code",
   "execution_count": 271,
   "id": "1b41ed0f",
   "metadata": {
    "collapsed": true
   },
   "outputs": [
    {
     "data": {
      "text/plain": [
       "[[[[0, 7, 7], [7, 7, 7], [0, 7, 7]],\n",
       "  [[4, 0, 4], [0, 0, 0], [0, 4, 0]],\n",
       "  [[0, 0, 0], [0, 0, 2], [2, 0, 2]],\n",
       "  [[6, 6, 0], [6, 0, 0], [0, 6, 6]],\n",
       "  [[2, 2, 2], [0, 0, 0], [0, 2, 2]]],\n",
       " [[[0, 0, 0, 0, 0, 0],\n",
       "   [0, 0, 3, 0, 0, 0],\n",
       "   [0, 3, 0, 3, 0, 0],\n",
       "   [0, 0, 3, 0, 3, 0],\n",
       "   [0, 0, 0, 3, 0, 0],\n",
       "   [0, 0, 0, 0, 0, 0]],\n",
       "  [[0, 0, 0, 0, 0, 0, 0, 0, 0, 0],\n",
       "   [0, 0, 3, 0, 3, 0, 0, 0, 0, 0],\n",
       "   [0, 0, 0, 3, 0, 3, 0, 0, 0, 0],\n",
       "   [0, 0, 3, 0, 0, 0, 3, 0, 0, 0],\n",
       "   [0, 0, 0, 0, 0, 3, 0, 3, 0, 0],\n",
       "   [0, 0, 0, 3, 0, 3, 3, 0, 0, 0],\n",
       "   [0, 0, 3, 3, 3, 0, 0, 0, 0, 0],\n",
       "   [0, 0, 0, 3, 0, 0, 0, 0, 0, 0],\n",
       "   [0, 0, 0, 0, 0, 0, 0, 0, 0, 0],\n",
       "   [0, 0, 0, 0, 0, 0, 0, 0, 0, 0]],\n",
       "  [[0, 0, 0, 0, 0, 3, 0, 0, 0, 0],\n",
       "   [0, 0, 0, 0, 3, 0, 0, 0, 0, 0],\n",
       "   [0, 3, 3, 0, 3, 3, 0, 3, 0, 0],\n",
       "   [3, 0, 0, 3, 0, 0, 3, 0, 3, 0],\n",
       "   [0, 0, 0, 3, 0, 0, 3, 3, 0, 0],\n",
       "   [0, 0, 0, 3, 0, 0, 3, 0, 0, 0],\n",
       "   [0, 0, 0, 3, 0, 0, 3, 0, 0, 0],\n",
       "   [0, 0, 0, 0, 3, 3, 0, 3, 0, 0],\n",
       "   [0, 0, 0, 0, 0, 0, 0, 0, 3, 0],\n",
       "   [0, 0, 0, 0, 0, 0, 0, 0, 0, 0]],\n",
       "  [[0, 0, 0, 0, 0, 0, 0, 0, 0, 0],\n",
       "   [0, 0, 3, 3, 3, 3, 0, 0, 0, 0],\n",
       "   [0, 0, 3, 0, 0, 3, 0, 0, 0, 0],\n",
       "   [0, 0, 3, 0, 0, 3, 0, 3, 0, 0],\n",
       "   [0, 0, 3, 3, 3, 3, 3, 3, 3, 0],\n",
       "   [0, 0, 0, 3, 0, 0, 0, 0, 3, 0],\n",
       "   [0, 0, 0, 3, 0, 0, 0, 3, 3, 0],\n",
       "   [0, 0, 0, 3, 3, 0, 0, 3, 0, 3],\n",
       "   [0, 0, 0, 3, 0, 3, 0, 0, 3, 0],\n",
       "   [0, 0, 0, 0, 3, 0, 0, 0, 0, 0]],\n",
       "  [[0, 0, 0, 0, 0, 0, 0, 0, 0, 0, 0, 0, 0, 0, 0, 0, 0, 0, 0, 0],\n",
       "   [0, 0, 0, 0, 0, 0, 0, 0, 3, 0, 0, 0, 0, 0, 0, 0, 0, 0, 0, 0],\n",
       "   [0, 0, 0, 0, 3, 3, 3, 3, 0, 3, 3, 0, 0, 0, 0, 0, 0, 0, 0, 0],\n",
       "   [0, 0, 0, 0, 0, 0, 0, 0, 3, 0, 3, 0, 0, 0, 0, 0, 0, 0, 3, 0],\n",
       "   [0, 0, 0, 0, 0, 0, 0, 0, 3, 3, 3, 3, 3, 3, 3, 3, 0, 0, 0, 0],\n",
       "   [0, 0, 0, 0, 0, 0, 0, 0, 3, 0, 0, 0, 0, 0, 0, 3, 0, 0, 0, 0],\n",
       "   [0, 0, 0, 0, 3, 0, 0, 0, 3, 0, 0, 0, 0, 0, 0, 3, 0, 0, 0, 0],\n",
       "   [0, 0, 0, 0, 0, 0, 0, 0, 3, 0, 0, 0, 0, 0, 0, 3, 0, 0, 0, 0],\n",
       "   [0, 0, 0, 0, 0, 0, 0, 0, 3, 0, 0, 0, 0, 0, 0, 3, 0, 0, 0, 0],\n",
       "   [0, 0, 3, 0, 0, 0, 0, 0, 3, 3, 3, 3, 3, 3, 3, 3, 0, 0, 0, 0],\n",
       "   [0, 0, 0, 0, 0, 0, 0, 0, 3, 0, 0, 0, 0, 0, 0, 0, 0, 0, 0, 0],\n",
       "   [0, 0, 0, 0, 0, 0, 0, 0, 3, 3, 3, 0, 0, 0, 0, 3, 0, 3, 0, 0],\n",
       "   [0, 0, 0, 0, 0, 0, 3, 3, 0, 0, 3, 0, 0, 3, 0, 0, 0, 0, 0, 0],\n",
       "   [0, 0, 0, 0, 0, 0, 0, 3, 0, 0, 3, 3, 0, 0, 3, 0, 0, 3, 0, 0],\n",
       "   [0, 0, 0, 0, 0, 0, 0, 3, 3, 3, 3, 0, 3, 0, 0, 3, 3, 3, 0, 0],\n",
       "   [0, 0, 0, 0, 0, 0, 0, 0, 0, 0, 3, 0, 0, 0, 0, 3, 0, 3, 0, 0],\n",
       "   [0, 0, 0, 0, 0, 0, 0, 0, 0, 0, 0, 0, 3, 0, 0, 3, 3, 3, 0, 0],\n",
       "   [0, 0, 0, 0, 0, 0, 0, 0, 0, 0, 0, 0, 0, 3, 0, 0, 0, 0, 0, 0],\n",
       "   [0, 0, 0, 0, 0, 0, 0, 0, 0, 0, 0, 0, 0, 0, 0, 0, 0, 0, 0, 0],\n",
       "   [0, 0, 0, 0, 0, 0, 0, 0, 0, 0, 0, 0, 0, 0, 0, 0, 0, 0, 0, 0]]],\n",
       " [[[0, 1, 0], [1, 1, 0], [0, 1, 0], [0, 1, 1], [0, 1, 0], [1, 1, 0]],\n",
       "  [[0, 1, 0], [1, 0, 1], [0, 1, 0], [1, 0, 1], [0, 1, 0], [1, 0, 1]],\n",
       "  [[0, 1, 0], [1, 1, 0], [0, 1, 0], [0, 1, 0], [1, 1, 0], [0, 1, 0]]],\n",
       " [[[0, 0, 0, 0, 0, 0, 0, 0, 0],\n",
       "   [0, 6, 6, 6, 0, 0, 0, 0, 0],\n",
       "   [0, 6, 0, 0, 6, 0, 0, 0, 0],\n",
       "   [0, 0, 6, 0, 0, 6, 0, 0, 0],\n",
       "   [0, 0, 0, 6, 0, 0, 6, 0, 0],\n",
       "   [0, 0, 0, 0, 6, 6, 6, 0, 0],\n",
       "   [0, 0, 0, 0, 0, 0, 0, 0, 0],\n",
       "   [0, 0, 2, 2, 2, 0, 0, 0, 0],\n",
       "   [0, 0, 2, 0, 0, 2, 0, 0, 0],\n",
       "   [0, 0, 0, 2, 2, 2, 0, 0, 0],\n",
       "   [0, 0, 0, 0, 0, 0, 0, 0, 0],\n",
       "   [0, 0, 0, 0, 0, 0, 0, 0, 0],\n",
       "   [0, 0, 0, 0, 0, 0, 0, 0, 0],\n",
       "   [0, 0, 0, 0, 0, 0, 0, 0, 0]],\n",
       "  [[0, 0, 0, 0, 0, 0, 0, 0, 0],\n",
       "   [0, 8, 8, 8, 8, 8, 0, 0, 0],\n",
       "   [0, 8, 0, 0, 0, 0, 8, 0, 0],\n",
       "   [0, 0, 8, 0, 0, 0, 0, 8, 0],\n",
       "   [0, 0, 0, 8, 0, 0, 0, 0, 8],\n",
       "   [0, 0, 0, 0, 8, 8, 8, 8, 8],\n",
       "   [0, 0, 0, 0, 0, 0, 0, 0, 0],\n",
       "   [0, 0, 0, 0, 0, 0, 0, 0, 0]]],\n",
       " [[[0, 0, 0, 0, 0, 0, 0, 0, 0, 0, 0, 0, 0, 0, 0, 0, 0, 0, 0, 0, 0],\n",
       "   [0, 0, 0, 0, 0, 0, 0, 0, 0, 0, 0, 0, 0, 0, 0, 0, 0, 0, 0, 0, 0],\n",
       "   [0, 0, 0, 0, 0, 0, 0, 0, 0, 0, 0, 0, 0, 0, 0, 0, 0, 0, 0, 0, 0],\n",
       "   [0, 0, 0, 0, 0, 0, 0, 0, 0, 0, 0, 0, 0, 0, 0, 0, 0, 0, 0, 0, 0],\n",
       "   [0, 0, 0, 0, 0, 0, 0, 0, 0, 0, 0, 0, 0, 0, 0, 0, 0, 0, 0, 0, 0],\n",
       "   [0, 0, 0, 0, 0, 0, 0, 0, 0, 0, 0, 0, 0, 0, 0, 0, 0, 0, 0, 0, 0],\n",
       "   [0, 0, 0, 0, 0, 0, 8, 8, 8, 0, 3, 0, 0, 0, 0, 0, 0, 0, 0, 0, 0],\n",
       "   [0, 0, 0, 0, 0, 0, 8, 0, 8, 0, 3, 0, 0, 0, 0, 0, 0, 0, 0, 0, 0],\n",
       "   [0, 0, 0, 0, 0, 0, 8, 8, 8, 0, 3, 0, 0, 0, 0, 0, 0, 0, 0, 0, 0],\n",
       "   [0, 0, 0, 0, 0, 0, 0, 0, 0, 0, 0, 0, 0, 0, 0, 0, 0, 0, 0, 0, 0],\n",
       "   [0, 0, 0, 0, 0, 0, 2, 2, 2, 0, 0, 0, 0, 0, 0, 0, 0, 0, 0, 0, 0],\n",
       "   [0, 0, 0, 0, 0, 0, 0, 0, 0, 0, 0, 0, 0, 0, 0, 0, 0, 0, 0, 0, 0],\n",
       "   [0, 0, 0, 0, 0, 0, 0, 0, 0, 0, 0, 0, 0, 0, 0, 0, 0, 0, 0, 0, 0],\n",
       "   [0, 0, 0, 0, 0, 0, 0, 0, 0, 0, 0, 0, 0, 0, 0, 0, 0, 0, 0, 0, 0],\n",
       "   [0, 0, 0, 0, 0, 0, 0, 0, 0, 0, 0, 0, 0, 0, 0, 0, 0, 0, 0, 0, 0],\n",
       "   [0, 0, 0, 0, 0, 0, 0, 0, 0, 0, 0, 0, 0, 0, 0, 0, 0, 0, 0, 0, 0],\n",
       "   [0, 0, 0, 0, 0, 0, 0, 0, 0, 0, 0, 0, 0, 0, 0, 0, 0, 0, 0, 0, 0],\n",
       "   [0, 0, 0, 0, 0, 0, 0, 0, 0, 0, 0, 0, 0, 0, 0, 0, 0, 0, 0, 0, 0],\n",
       "   [0, 0, 0, 0, 0, 0, 0, 0, 0, 0, 0, 0, 0, 0, 0, 0, 0, 0, 0, 0, 0],\n",
       "   [0, 0, 0, 0, 0, 0, 0, 0, 0, 0, 0, 0, 0, 0, 0, 0, 0, 0, 0, 0, 0],\n",
       "   [0, 0, 0, 0, 0, 0, 0, 0, 0, 0, 0, 0, 0, 0, 0, 0, 0, 0, 0, 0, 0]],\n",
       "  [[0, 0, 0, 0, 0, 0, 0, 0, 0, 0, 0, 0, 0, 0, 0, 0, 0, 0, 0, 0, 0],\n",
       "   [0, 0, 0, 0, 0, 0, 0, 0, 0, 0, 0, 0, 0, 0, 0, 0, 0, 0, 0, 0, 0],\n",
       "   [0, 0, 0, 0, 0, 0, 0, 0, 0, 0, 0, 0, 0, 0, 0, 0, 0, 0, 0, 0, 0],\n",
       "   [0, 0, 0, 0, 0, 0, 0, 0, 0, 0, 0, 0, 0, 0, 0, 0, 0, 0, 0, 0, 0],\n",
       "   [0, 0, 0, 0, 0, 0, 0, 0, 0, 0, 0, 0, 0, 0, 0, 0, 0, 0, 0, 0, 0],\n",
       "   [0, 0, 0, 0, 0, 0, 0, 0, 0, 0, 0, 0, 4, 0, 0, 0, 0, 0, 0, 0, 0],\n",
       "   [0, 0, 0, 0, 0, 0, 0, 0, 0, 0, 0, 0, 0, 0, 0, 0, 0, 0, 0, 0, 0],\n",
       "   [0, 0, 0, 0, 0, 0, 0, 0, 0, 0, 0, 0, 1, 0, 0, 0, 0, 0, 0, 0, 0],\n",
       "   [0, 0, 0, 0, 0, 0, 0, 0, 0, 2, 0, 1, 1, 1, 0, 4, 0, 0, 0, 0, 0],\n",
       "   [0, 0, 0, 0, 0, 0, 0, 0, 0, 0, 0, 0, 1, 0, 0, 0, 0, 0, 0, 0, 0],\n",
       "   [0, 0, 0, 0, 0, 0, 0, 0, 0, 0, 0, 0, 0, 0, 0, 0, 0, 0, 0, 0, 0],\n",
       "   [0, 0, 0, 0, 0, 0, 0, 0, 0, 0, 0, 0, 0, 0, 0, 0, 0, 0, 0, 0, 0],\n",
       "   [0, 0, 0, 0, 0, 0, 0, 0, 0, 0, 0, 0, 0, 0, 0, 0, 0, 0, 0, 0, 0],\n",
       "   [0, 0, 0, 0, 0, 0, 0, 0, 0, 0, 0, 0, 0, 0, 0, 0, 0, 0, 0, 0, 0],\n",
       "   [0, 0, 0, 0, 0, 0, 0, 0, 0, 0, 0, 0, 0, 0, 0, 0, 0, 0, 0, 0, 0],\n",
       "   [0, 0, 0, 0, 0, 0, 0, 0, 0, 0, 0, 0, 0, 0, 0, 0, 0, 0, 0, 0, 0],\n",
       "   [0, 0, 0, 0, 0, 0, 0, 0, 0, 0, 0, 0, 0, 0, 0, 0, 0, 0, 0, 0, 0],\n",
       "   [0, 0, 0, 0, 0, 0, 0, 0, 0, 0, 0, 0, 0, 0, 0, 0, 0, 0, 0, 0, 0],\n",
       "   [0, 0, 0, 0, 0, 0, 0, 0, 0, 0, 0, 0, 0, 0, 0, 0, 0, 0, 0, 0, 0],\n",
       "   [0, 0, 0, 0, 0, 0, 0, 0, 0, 0, 0, 0, 0, 0, 0, 0, 0, 0, 0, 0, 0],\n",
       "   [0, 0, 0, 0, 0, 0, 0, 0, 0, 0, 0, 0, 0, 0, 0, 0, 0, 0, 0, 0, 0]],\n",
       "  [[0, 0, 0, 0, 0, 0, 0, 0, 0, 0, 0, 0, 0, 0, 0, 0, 0, 0, 0, 0, 0],\n",
       "   [0, 0, 0, 0, 0, 0, 0, 0, 0, 0, 0, 0, 0, 0, 0, 0, 0, 0, 0, 0, 0],\n",
       "   [0, 0, 0, 0, 0, 0, 0, 0, 0, 0, 0, 0, 0, 0, 0, 0, 0, 0, 0, 0, 0],\n",
       "   [0, 0, 0, 0, 0, 0, 0, 0, 0, 0, 0, 0, 0, 0, 0, 0, 0, 0, 0, 0, 0],\n",
       "   [0, 0, 0, 0, 0, 0, 0, 0, 0, 0, 6, 0, 0, 0, 0, 0, 0, 0, 0, 0, 0],\n",
       "   [0, 0, 0, 0, 0, 0, 0, 0, 0, 0, 0, 6, 0, 0, 0, 0, 0, 0, 0, 0, 0],\n",
       "   [0, 0, 0, 0, 0, 0, 0, 0, 0, 0, 0, 0, 0, 0, 0, 0, 0, 0, 0, 0, 0],\n",
       "   [0, 0, 0, 0, 0, 0, 5, 5, 0, 0, 0, 0, 0, 0, 0, 0, 0, 0, 0, 0, 0],\n",
       "   [0, 0, 0, 0, 0, 0, 5, 0, 5, 0, 0, 0, 0, 0, 0, 0, 0, 0, 0, 0, 0],\n",
       "   [0, 0, 0, 0, 0, 0, 0, 5, 5, 0, 0, 0, 0, 0, 0, 0, 0, 0, 0, 0, 0],\n",
       "   [0, 0, 0, 0, 0, 0, 0, 0, 0, 0, 0, 0, 0, 0, 0, 0, 0, 0, 0, 0, 0],\n",
       "   [0, 0, 0, 0, 0, 0, 0, 0, 0, 0, 1, 1, 0, 0, 0, 0, 0, 0, 0, 0, 0],\n",
       "   [0, 0, 0, 0, 0, 0, 0, 0, 0, 0, 1, 0, 0, 0, 0, 0, 0, 0, 0, 0, 0],\n",
       "   [0, 0, 0, 0, 0, 0, 0, 0, 0, 0, 0, 0, 0, 0, 0, 0, 0, 0, 0, 0, 0],\n",
       "   [0, 0, 0, 0, 0, 0, 0, 0, 0, 0, 0, 0, 0, 0, 0, 0, 0, 0, 0, 0, 0],\n",
       "   [0, 0, 0, 0, 0, 0, 0, 0, 0, 0, 0, 0, 0, 0, 0, 0, 0, 0, 0, 0, 0],\n",
       "   [0, 0, 0, 0, 0, 0, 0, 0, 0, 0, 0, 0, 0, 0, 0, 0, 0, 0, 0, 0, 0],\n",
       "   [0, 0, 0, 0, 0, 0, 0, 0, 0, 0, 0, 0, 0, 0, 0, 0, 0, 0, 0, 0, 0],\n",
       "   [0, 0, 0, 0, 0, 0, 0, 0, 0, 0, 0, 0, 0, 0, 0, 0, 0, 0, 0, 0, 0],\n",
       "   [0, 0, 0, 0, 0, 0, 0, 0, 0, 0, 0, 0, 0, 0, 0, 0, 0, 0, 0, 0, 0],\n",
       "   [0, 0, 0, 0, 0, 0, 0, 0, 0, 0, 0, 0, 0, 0, 0, 0, 0, 0, 0, 0, 0]]],\n",
       " [[[1, 0, 0, 5, 0, 1, 0], [0, 1, 0, 5, 1, 1, 1], [1, 0, 0, 5, 0, 0, 0]],\n",
       "  [[1, 1, 0, 5, 0, 1, 0], [0, 0, 1, 5, 1, 1, 1], [1, 1, 0, 5, 0, 1, 0]],\n",
       "  [[0, 0, 1, 5, 0, 0, 0], [1, 1, 0, 5, 1, 0, 1], [0, 1, 1, 5, 1, 0, 1]]],\n",
       " [[[2, 8, 3, 0, 0, 0, 0],\n",
       "   [8, 3, 0, 0, 0, 0, 0],\n",
       "   [3, 0, 0, 0, 0, 0, 0],\n",
       "   [0, 0, 0, 0, 0, 0, 0],\n",
       "   [0, 0, 0, 0, 0, 0, 0],\n",
       "   [0, 0, 0, 0, 0, 0, 0],\n",
       "   [0, 0, 0, 0, 0, 0, 0]],\n",
       "  [[0, 0, 0, 0, 0, 0, 0],\n",
       "   [0, 0, 0, 0, 0, 0, 0],\n",
       "   [0, 0, 0, 0, 0, 0, 1],\n",
       "   [0, 0, 0, 0, 0, 1, 2],\n",
       "   [0, 0, 0, 0, 1, 2, 4],\n",
       "   [0, 0, 0, 1, 2, 4, 0],\n",
       "   [0, 0, 1, 2, 4, 0, 0]],\n",
       "  [[0, 0, 0, 0, 8, 3, 0],\n",
       "   [0, 0, 0, 8, 3, 0, 0],\n",
       "   [0, 0, 8, 3, 0, 0, 0],\n",
       "   [0, 8, 3, 0, 0, 0, 4],\n",
       "   [8, 3, 0, 0, 0, 4, 0],\n",
       "   [3, 0, 0, 0, 4, 0, 0],\n",
       "   [0, 0, 0, 4, 0, 0, 0]]],\n",
       " [[[0, 0, 0, 0, 0, 0, 0, 0, 0],\n",
       "   [0, 0, 0, 0, 0, 0, 0, 0, 0],\n",
       "   [0, 2, 2, 2, 0, 0, 0, 0, 0],\n",
       "   [2, 2, 0, 2, 0, 0, 0, 0, 0],\n",
       "   [0, 0, 0, 0, 0, 0, 0, 0, 0],\n",
       "   [0, 0, 0, 0, 0, 0, 0, 0, 0],\n",
       "   [0, 0, 0, 0, 0, 0, 0, 0, 0],\n",
       "   [0, 0, 0, 0, 0, 0, 0, 0, 0],\n",
       "   [0, 0, 0, 0, 0, 0, 0, 0, 0],\n",
       "   [0, 0, 0, 0, 0, 0, 0, 0, 0],\n",
       "   [0, 0, 0, 8, 8, 0, 0, 0, 0],\n",
       "   [0, 0, 0, 8, 8, 0, 0, 0, 0],\n",
       "   [0, 0, 0, 0, 0, 0, 0, 0, 0],\n",
       "   [0, 0, 0, 0, 0, 0, 0, 0, 0]],\n",
       "  [[0, 0, 0, 0, 0, 0, 0, 0, 0, 0],\n",
       "   [0, 2, 2, 0, 0, 0, 0, 0, 0, 0],\n",
       "   [0, 2, 2, 0, 0, 0, 0, 0, 0, 0],\n",
       "   [2, 2, 2, 0, 0, 0, 0, 0, 0, 0],\n",
       "   [0, 2, 2, 0, 0, 0, 8, 8, 0, 0],\n",
       "   [0, 0, 0, 0, 0, 0, 8, 8, 0, 0],\n",
       "   [0, 0, 0, 0, 0, 0, 0, 0, 0, 0],\n",
       "   [0, 0, 0, 0, 0, 0, 0, 0, 0, 0],\n",
       "   [0, 0, 0, 0, 0, 0, 0, 0, 0, 0]],\n",
       "  [[0, 0, 0, 0, 0, 0, 0, 0, 0, 0],\n",
       "   [0, 0, 0, 8, 8, 0, 0, 0, 0, 0],\n",
       "   [0, 0, 0, 8, 8, 0, 0, 0, 0, 0],\n",
       "   [0, 0, 0, 0, 0, 0, 0, 0, 0, 0],\n",
       "   [0, 0, 0, 0, 0, 0, 0, 0, 0, 0],\n",
       "   [0, 0, 0, 0, 0, 0, 0, 0, 0, 0],\n",
       "   [0, 0, 0, 2, 2, 2, 0, 0, 0, 0],\n",
       "   [0, 2, 2, 2, 2, 2, 0, 0, 0, 0],\n",
       "   [0, 0, 2, 2, 0, 0, 0, 0, 0, 0],\n",
       "   [0, 0, 0, 0, 0, 0, 0, 0, 0, 0],\n",
       "   [0, 0, 0, 0, 0, 0, 0, 0, 0, 0]]],\n",
       " [[[0, 0, 8, 0, 0, 8, 0, 0, 8, 0, 0, 8, 0, 0, 8, 0, 0, 8, 0, 0],\n",
       "   [0, 0, 8, 0, 0, 8, 0, 0, 8, 0, 0, 8, 0, 0, 8, 0, 0, 8, 0, 0],\n",
       "   [8, 8, 8, 8, 8, 8, 8, 8, 8, 8, 8, 8, 8, 8, 8, 8, 8, 8, 8, 8],\n",
       "   [0, 0, 8, 2, 2, 8, 0, 0, 8, 0, 0, 8, 0, 0, 8, 2, 2, 8, 0, 0],\n",
       "   [0, 0, 8, 2, 2, 8, 0, 0, 8, 0, 0, 8, 0, 0, 8, 2, 2, 8, 0, 0],\n",
       "   [8, 8, 8, 8, 8, 8, 8, 8, 8, 8, 8, 8, 8, 8, 8, 8, 8, 8, 8, 8],\n",
       "   [0, 0, 8, 0, 0, 8, 0, 0, 8, 1, 1, 8, 0, 0, 8, 0, 0, 8, 0, 0],\n",
       "   [0, 0, 8, 0, 0, 8, 0, 0, 8, 1, 1, 8, 0, 0, 8, 0, 0, 8, 0, 0],\n",
       "   [8, 8, 8, 8, 8, 8, 8, 8, 8, 8, 8, 8, 8, 8, 8, 8, 8, 8, 8, 8],\n",
       "   [0, 0, 8, 0, 0, 8, 0, 0, 8, 0, 0, 8, 0, 0, 8, 2, 2, 8, 0, 0],\n",
       "   [0, 0, 8, 0, 0, 8, 0, 0, 8, 0, 0, 8, 0, 0, 8, 2, 2, 8, 0, 0],\n",
       "   [8, 8, 8, 8, 8, 8, 8, 8, 8, 8, 8, 8, 8, 8, 8, 8, 8, 8, 8, 8],\n",
       "   [0, 0, 8, 3, 3, 8, 0, 0, 8, 3, 3, 8, 0, 0, 8, 0, 0, 8, 0, 0],\n",
       "   [0, 0, 8, 3, 3, 8, 0, 0, 8, 3, 3, 8, 0, 0, 8, 0, 0, 8, 0, 0],\n",
       "   [8, 8, 8, 8, 8, 8, 8, 8, 8, 8, 8, 8, 8, 8, 8, 8, 8, 8, 8, 8],\n",
       "   [0, 0, 8, 0, 0, 8, 0, 0, 8, 0, 0, 8, 0, 0, 8, 0, 0, 8, 0, 0],\n",
       "   [0, 0, 8, 0, 0, 8, 0, 0, 8, 0, 0, 8, 0, 0, 8, 0, 0, 8, 0, 0],\n",
       "   [8, 8, 8, 8, 8, 8, 8, 8, 8, 8, 8, 8, 8, 8, 8, 8, 8, 8, 8, 8],\n",
       "   [0, 0, 8, 0, 0, 8, 0, 0, 8, 0, 0, 8, 0, 0, 8, 0, 0, 8, 0, 0],\n",
       "   [0, 0, 8, 0, 0, 8, 0, 0, 8, 0, 0, 8, 0, 0, 8, 0, 0, 8, 0, 0]],\n",
       "  [[0, 0, 1, 0, 0, 1, 0, 0, 1, 0, 0, 1, 0, 0, 1, 0, 0, 1, 0, 0, 1, 0, 0],\n",
       "   [0, 0, 1, 0, 0, 1, 0, 0, 1, 0, 0, 1, 0, 0, 1, 0, 0, 1, 0, 0, 1, 0, 0],\n",
       "   [1, 1, 1, 1, 1, 1, 1, 1, 1, 1, 1, 1, 1, 1, 1, 1, 1, 1, 1, 1, 1, 1, 1],\n",
       "   [0, 0, 1, 2, 2, 1, 0, 0, 1, 0, 0, 1, 4, 4, 1, 0, 0, 1, 0, 0, 1, 0, 0],\n",
       "   [0, 0, 1, 2, 2, 1, 0, 0, 1, 0, 0, 1, 4, 4, 1, 0, 0, 1, 0, 0, 1, 0, 0],\n",
       "   [1, 1, 1, 1, 1, 1, 1, 1, 1, 1, 1, 1, 1, 1, 1, 1, 1, 1, 1, 1, 1, 1, 1],\n",
       "   [0, 0, 1, 0, 0, 1, 0, 0, 1, 0, 0, 1, 0, 0, 1, 0, 0, 1, 0, 0, 1, 0, 0],\n",
       "   [0, 0, 1, 0, 0, 1, 0, 0, 1, 0, 0, 1, 0, 0, 1, 0, 0, 1, 0, 0, 1, 0, 0],\n",
       "   [1, 1, 1, 1, 1, 1, 1, 1, 1, 1, 1, 1, 1, 1, 1, 1, 1, 1, 1, 1, 1, 1, 1],\n",
       "   [0, 0, 1, 0, 0, 1, 0, 0, 1, 9, 9, 1, 0, 0, 1, 0, 0, 1, 0, 0, 1, 9, 9],\n",
       "   [0, 0, 1, 0, 0, 1, 0, 0, 1, 9, 9, 1, 0, 0, 1, 0, 0, 1, 0, 0, 1, 9, 9],\n",
       "   [1, 1, 1, 1, 1, 1, 1, 1, 1, 1, 1, 1, 1, 1, 1, 1, 1, 1, 1, 1, 1, 1, 1],\n",
       "   [0, 0, 1, 0, 0, 1, 0, 0, 1, 0, 0, 1, 0, 0, 1, 0, 0, 1, 8, 8, 1, 0, 0],\n",
       "   [0, 0, 1, 0, 0, 1, 0, 0, 1, 0, 0, 1, 0, 0, 1, 0, 0, 1, 8, 8, 1, 0, 0],\n",
       "   [1, 1, 1, 1, 1, 1, 1, 1, 1, 1, 1, 1, 1, 1, 1, 1, 1, 1, 1, 1, 1, 1, 1],\n",
       "   [0, 0, 1, 2, 2, 1, 0, 0, 1, 0, 0, 1, 0, 0, 1, 0, 0, 1, 0, 0, 1, 0, 0],\n",
       "   [0, 0, 1, 2, 2, 1, 0, 0, 1, 0, 0, 1, 0, 0, 1, 0, 0, 1, 0, 0, 1, 0, 0],\n",
       "   [1, 1, 1, 1, 1, 1, 1, 1, 1, 1, 1, 1, 1, 1, 1, 1, 1, 1, 1, 1, 1, 1, 1],\n",
       "   [0, 0, 1, 0, 0, 1, 0, 0, 1, 8, 8, 1, 0, 0, 1, 0, 0, 1, 8, 8, 1, 0, 0],\n",
       "   [0, 0, 1, 0, 0, 1, 0, 0, 1, 8, 8, 1, 0, 0, 1, 0, 0, 1, 8, 8, 1, 0, 0],\n",
       "   [1, 1, 1, 1, 1, 1, 1, 1, 1, 1, 1, 1, 1, 1, 1, 1, 1, 1, 1, 1, 1, 1, 1],\n",
       "   [0, 0, 1, 0, 0, 1, 0, 0, 1, 0, 0, 1, 0, 0, 1, 0, 0, 1, 0, 0, 1, 0, 0],\n",
       "   [0, 0, 1, 0, 0, 1, 0, 0, 1, 0, 0, 1, 0, 0, 1, 0, 0, 1, 0, 0, 1, 0, 0]],\n",
       "  [[0, 0, 4, 0, 0, 4, 0, 0, 4, 0, 0, 4, 0, 0, 4, 0, 0, 4, 0, 0, 4, 0, 0],\n",
       "   [0, 0, 4, 0, 0, 4, 0, 0, 4, 0, 0, 4, 0, 0, 4, 0, 0, 4, 0, 0, 4, 0, 0],\n",
       "   [4, 4, 4, 4, 4, 4, 4, 4, 4, 4, 4, 4, 4, 4, 4, 4, 4, 4, 4, 4, 4, 4, 4],\n",
       "   [0, 0, 4, 3, 3, 4, 0, 0, 4, 0, 0, 4, 0, 0, 4, 2, 2, 4, 0, 0, 4, 0, 0],\n",
       "   [0, 0, 4, 3, 3, 4, 0, 0, 4, 0, 0, 4, 0, 0, 4, 2, 2, 4, 0, 0, 4, 0, 0],\n",
       "   [4, 4, 4, 4, 4, 4, 4, 4, 4, 4, 4, 4, 4, 4, 4, 4, 4, 4, 4, 4, 4, 4, 4],\n",
       "   [0, 0, 4, 0, 0, 4, 0, 0, 4, 0, 0, 4, 0, 0, 4, 0, 0, 4, 0, 0, 4, 0, 0],\n",
       "   [0, 0, 4, 0, 0, 4, 0, 0, 4, 0, 0, 4, 0, 0, 4, 0, 0, 4, 0, 0, 4, 0, 0],\n",
       "   [4, 4, 4, 4, 4, 4, 4, 4, 4, 4, 4, 4, 4, 4, 4, 4, 4, 4, 4, 4, 4, 4, 4],\n",
       "   [0, 0, 4, 0, 0, 4, 0, 0, 4, 2, 2, 4, 0, 0, 4, 0, 0, 4, 2, 2, 4, 0, 0],\n",
       "   [0, 0, 4, 0, 0, 4, 0, 0, 4, 2, 2, 4, 0, 0, 4, 0, 0, 4, 2, 2, 4, 0, 0],\n",
       "   [4, 4, 4, 4, 4, 4, 4, 4, 4, 4, 4, 4, 4, 4, 4, 4, 4, 4, 4, 4, 4, 4, 4],\n",
       "   [0, 0, 4, 0, 0, 4, 0, 0, 4, 0, 0, 4, 0, 0, 4, 0, 0, 4, 0, 0, 4, 0, 0],\n",
       "   [0, 0, 4, 0, 0, 4, 0, 0, 4, 0, 0, 4, 0, 0, 4, 0, 0, 4, 0, 0, 4, 0, 0],\n",
       "   [4, 4, 4, 4, 4, 4, 4, 4, 4, 4, 4, 4, 4, 4, 4, 4, 4, 4, 4, 4, 4, 4, 4],\n",
       "   [0, 0, 4, 0, 0, 4, 0, 0, 4, 0, 0, 4, 0, 0, 4, 0, 0, 4, 0, 0, 4, 0, 0],\n",
       "   [0, 0, 4, 0, 0, 4, 0, 0, 4, 0, 0, 4, 0, 0, 4, 0, 0, 4, 0, 0, 4, 0, 0],\n",
       "   [4, 4, 4, 4, 4, 4, 4, 4, 4, 4, 4, 4, 4, 4, 4, 4, 4, 4, 4, 4, 4, 4, 4],\n",
       "   [0, 0, 4, 3, 3, 4, 0, 0, 4, 0, 0, 4, 0, 0, 4, 3, 3, 4, 0, 0, 4, 0, 0],\n",
       "   [0, 0, 4, 3, 3, 4, 0, 0, 4, 0, 0, 4, 0, 0, 4, 3, 3, 4, 0, 0, 4, 0, 0],\n",
       "   [4, 4, 4, 4, 4, 4, 4, 4, 4, 4, 4, 4, 4, 4, 4, 4, 4, 4, 4, 4, 4, 4, 4],\n",
       "   [0, 0, 4, 0, 0, 4, 0, 0, 4, 0, 0, 4, 0, 0, 4, 0, 0, 4, 0, 0, 4, 0, 0],\n",
       "   [0, 0, 4, 0, 0, 4, 0, 0, 4, 0, 0, 4, 0, 0, 4, 0, 0, 4, 0, 0, 4, 0, 0]]],\n",
       " [[[0, 0, 0, 0, 0, 5, 0, 0, 0],\n",
       "   [0, 5, 0, 0, 0, 5, 0, 0, 0],\n",
       "   [0, 5, 0, 0, 0, 5, 0, 0, 0],\n",
       "   [0, 5, 0, 5, 0, 5, 0, 0, 0],\n",
       "   [0, 5, 0, 5, 0, 5, 0, 0, 0],\n",
       "   [0, 5, 0, 5, 0, 5, 0, 0, 0],\n",
       "   [0, 5, 0, 5, 0, 5, 0, 5, 0],\n",
       "   [0, 5, 0, 5, 0, 5, 0, 5, 0],\n",
       "   [0, 5, 0, 5, 0, 5, 0, 5, 0]],\n",
       "  [[0, 0, 0, 0, 0, 0, 0, 0, 0],\n",
       "   [0, 0, 0, 0, 0, 0, 0, 5, 0],\n",
       "   [0, 0, 0, 0, 0, 0, 0, 5, 0],\n",
       "   [0, 0, 0, 0, 0, 0, 0, 5, 0],\n",
       "   [0, 0, 0, 5, 0, 0, 0, 5, 0],\n",
       "   [0, 0, 0, 5, 0, 5, 0, 5, 0],\n",
       "   [0, 0, 0, 5, 0, 5, 0, 5, 0],\n",
       "   [0, 5, 0, 5, 0, 5, 0, 5, 0],\n",
       "   [0, 5, 0, 5, 0, 5, 0, 5, 0]]]]"
      ]
     },
     "execution_count": 271,
     "metadata": {},
     "output_type": "execute_result"
    }
   ],
   "source": [
    "Xs_train[:10]"
   ]
  },
  {
   "cell_type": "code",
   "execution_count": 217,
   "id": "e27cac25",
   "metadata": {},
   "outputs": [],
   "source": [
    "xx = np.array([np.array(xi) for xi in Xs_train[1]], dtype=object)"
   ]
  },
  {
   "cell_type": "code",
   "execution_count": 222,
   "id": "644a0021",
   "metadata": {},
   "outputs": [
    {
     "data": {
      "text/plain": [
       "array([[0, 0, 0, 0, 0, 0],\n",
       "       [0, 0, 3, 0, 0, 0],\n",
       "       [0, 3, 0, 3, 0, 0],\n",
       "       [0, 0, 3, 0, 3, 0],\n",
       "       [0, 0, 0, 3, 0, 0],\n",
       "       [0, 0, 0, 0, 0, 0]])"
      ]
     },
     "execution_count": 222,
     "metadata": {},
     "output_type": "execute_result"
    }
   ],
   "source": [
    "xx[0]#.shape"
   ]
  },
  {
   "cell_type": "code",
   "execution_count": 226,
   "id": "9417b416",
   "metadata": {
    "collapsed": true
   },
   "outputs": [
    {
     "data": {
      "text/plain": [
       "array([[0, 0, 0, 0, 0, 0, 0, 0, 0, 0],\n",
       "       [0, 0, 0, 0, 0, 0, 0, 0, 0, 0],\n",
       "       [0, 0, 0, 0, 0, 0, 0, 0, 0, 0],\n",
       "       [0, 0, 0, 0, 3, 0, 0, 0, 0, 0],\n",
       "       [0, 0, 0, 3, 0, 3, 0, 0, 0, 0],\n",
       "       [0, 0, 0, 0, 3, 0, 3, 0, 0, 0],\n",
       "       [0, 0, 0, 0, 0, 3, 0, 0, 0, 0],\n",
       "       [0, 0, 0, 0, 0, 0, 0, 0, 0, 0],\n",
       "       [0, 0, 0, 0, 0, 0, 0, 0, 0, 0],\n",
       "       [0, 0, 0, 0, 0, 0, 0, 0, 0, 0]])"
      ]
     },
     "execution_count": 226,
     "metadata": {},
     "output_type": "execute_result"
    }
   ],
   "source": [
    "np.pad(xx[0],2)#.shape"
   ]
  },
  {
   "cell_type": "code",
   "execution_count": 228,
   "id": "0a1221f0",
   "metadata": {
    "scrolled": true
   },
   "outputs": [
    {
     "data": {
      "text/plain": [
       "[[[0, 6, 6, 6, 0, 0, 0, 0],\n",
       "  [0, 6, 0, 6, 0, 0, 0, 0],\n",
       "  [0, 0, 0, 0, 0, 6, 6, 6],\n",
       "  [0, 0, 0, 0, 0, 6, 0, 6],\n",
       "  [0, 0, 0, 0, 0, 0, 0, 0],\n",
       "  [0, 0, 0, 0, 0, 0, 0, 0],\n",
       "  [0, 0, 0, 0, 0, 0, 0, 0],\n",
       "  [0, 0, 0, 0, 0, 0, 0, 0]],\n",
       " [[0, 3, 3, 3, 0],\n",
       "  [0, 3, 0, 3, 0],\n",
       "  [0, 0, 0, 0, 0],\n",
       "  [0, 0, 0, 0, 0],\n",
       "  [0, 0, 0, 0, 0]],\n",
       " [[0, 0, 0, 0, 0, 0, 0],\n",
       "  [0, 8, 8, 8, 0, 0, 0],\n",
       "  [0, 8, 0, 8, 6, 6, 6],\n",
       "  [0, 0, 0, 0, 6, 0, 6],\n",
       "  [0, 0, 0, 0, 0, 0, 0]]]"
      ]
     },
     "execution_count": 228,
     "metadata": {},
     "output_type": "execute_result"
    }
   ],
   "source": [
    "Xs_train[125]"
   ]
  },
  {
   "cell_type": "code",
   "execution_count": 261,
   "id": "f55369c9",
   "metadata": {},
   "outputs": [],
   "source": [
    "dd = np.array([np.array(xi) for xi in Xs_train[125]], dtype=object)"
   ]
  },
  {
   "cell_type": "code",
   "execution_count": 262,
   "id": "6ac85a0b",
   "metadata": {},
   "outputs": [
    {
     "data": {
      "text/plain": [
       "((8, 8), (5, 5), (5, 7))"
      ]
     },
     "execution_count": 262,
     "metadata": {},
     "output_type": "execute_result"
    }
   ],
   "source": [
    "dd[0].shape, dd[1].shape, dd[2].shape"
   ]
  },
  {
   "cell_type": "code",
   "execution_count": 267,
   "id": "ac789119",
   "metadata": {},
   "outputs": [
    {
     "data": {
      "text/plain": [
       "(8, 8)"
      ]
     },
     "execution_count": 267,
     "metadata": {},
     "output_type": "execute_result"
    }
   ],
   "source": [
    "np.pad(dd[1], [(0, 3), (0, 3)], mode='constant').shape"
   ]
  },
  {
   "cell_type": "code",
   "execution_count": 268,
   "id": "a551b054",
   "metadata": {},
   "outputs": [
    {
     "data": {
      "text/plain": [
       "array([[0, 0, 0, 0, 0, 0, 0, 0],\n",
       "       [0, 8, 8, 8, 0, 0, 0, 0],\n",
       "       [0, 8, 0, 8, 6, 6, 6, 0],\n",
       "       [0, 0, 0, 0, 6, 0, 6, 0],\n",
       "       [0, 0, 0, 0, 0, 0, 0, 0],\n",
       "       [0, 0, 0, 0, 0, 0, 0, 0],\n",
       "       [0, 0, 0, 0, 0, 0, 0, 0],\n",
       "       [0, 0, 0, 0, 0, 0, 0, 0]])"
      ]
     },
     "execution_count": 268,
     "metadata": {},
     "output_type": "execute_result"
    }
   ],
   "source": [
    "np.pad(dd[2], [(0, 3), (0, 1)], mode='constant')#.shape"
   ]
  },
  {
   "cell_type": "code",
   "execution_count": null,
   "id": "cbec0830",
   "metadata": {},
   "outputs": [],
   "source": []
  },
  {
   "cell_type": "code",
   "execution_count": null,
   "id": "4257c27e",
   "metadata": {},
   "outputs": [],
   "source": []
  },
  {
   "cell_type": "code",
   "execution_count": null,
   "id": "7a53806b",
   "metadata": {},
   "outputs": [],
   "source": []
  },
  {
   "cell_type": "markdown",
   "id": "5c9c9eb1",
   "metadata": {},
   "source": [
    "---\n",
    "---"
   ]
  }
 ],
 "metadata": {
  "kernelspec": {
   "display_name": "Python 3",
   "language": "python",
   "name": "python3"
  },
  "language_info": {
   "codemirror_mode": {
    "name": "ipython",
    "version": 3
   },
   "file_extension": ".py",
   "mimetype": "text/x-python",
   "name": "python",
   "nbconvert_exporter": "python",
   "pygments_lexer": "ipython3",
   "version": "3.6.13"
  }
 },
 "nbformat": 4,
 "nbformat_minor": 5
}
